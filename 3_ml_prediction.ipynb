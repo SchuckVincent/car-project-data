{
 "cells": [
  {
   "cell_type": "markdown",
   "metadata": {},
   "source": [
    "## Imports"
   ]
  },
  {
   "cell_type": "code",
   "execution_count": 1,
   "metadata": {},
   "outputs": [],
   "source": [
    "import pandas as pd\n",
    "import numpy as np"
   ]
  },
  {
   "cell_type": "markdown",
   "metadata": {},
   "source": [
    "## Exploration du dataset"
   ]
  },
  {
   "cell_type": "code",
   "execution_count": 2,
   "metadata": {},
   "outputs": [],
   "source": [
    "df_original = pd.read_csv('final2.csv')"
   ]
  },
  {
   "cell_type": "code",
   "execution_count": 3,
   "metadata": {},
   "outputs": [
    {
     "data": {
      "text/plain": [
       "(166378, 68)"
      ]
     },
     "execution_count": 3,
     "metadata": {},
     "output_type": "execute_result"
    }
   ],
   "source": [
    "df_original.shape"
   ]
  },
  {
   "cell_type": "code",
   "execution_count": 4,
   "metadata": {},
   "outputs": [
    {
     "data": {
      "text/html": [
       "<div>\n",
       "<style scoped>\n",
       "    .dataframe tbody tr th:only-of-type {\n",
       "        vertical-align: middle;\n",
       "    }\n",
       "\n",
       "    .dataframe tbody tr th {\n",
       "        vertical-align: top;\n",
       "    }\n",
       "\n",
       "    .dataframe thead th {\n",
       "        text-align: right;\n",
       "    }\n",
       "</style>\n",
       "<table border=\"1\" class=\"dataframe\">\n",
       "  <thead>\n",
       "    <tr style=\"text-align: right;\">\n",
       "      <th></th>\n",
       "      <th>Make</th>\n",
       "      <th>Make_v2</th>\n",
       "      <th>Model</th>\n",
       "      <th>Model_Det</th>\n",
       "      <th>Model_year</th>\n",
       "      <th>Online</th>\n",
       "      <th>Age</th>\n",
       "      <th>Mileage</th>\n",
       "      <th>Usure</th>\n",
       "      <th>Fuel</th>\n",
       "      <th>...</th>\n",
       "      <th>option_32</th>\n",
       "      <th>option_33</th>\n",
       "      <th>option_34</th>\n",
       "      <th>option_35</th>\n",
       "      <th>option_36</th>\n",
       "      <th>option_37</th>\n",
       "      <th>option_38</th>\n",
       "      <th>option_39</th>\n",
       "      <th>Prix_neuf</th>\n",
       "      <th>Price</th>\n",
       "    </tr>\n",
       "  </thead>\n",
       "  <tbody>\n",
       "    <tr>\n",
       "      <th>0</th>\n",
       "      <td>PEUGEOT</td>\n",
       "      <td>PEUGEOT</td>\n",
       "      <td>308</td>\n",
       "      <td>308 2</td>\n",
       "      <td>2014</td>\n",
       "      <td>06/07/2018</td>\n",
       "      <td>4</td>\n",
       "      <td>94341</td>\n",
       "      <td>23585</td>\n",
       "      <td>Diesel</td>\n",
       "      <td>...</td>\n",
       "      <td>0</td>\n",
       "      <td>0</td>\n",
       "      <td>0</td>\n",
       "      <td>0</td>\n",
       "      <td>0</td>\n",
       "      <td>0</td>\n",
       "      <td>0</td>\n",
       "      <td>0</td>\n",
       "      <td>21650.0</td>\n",
       "      <td>11220.0</td>\n",
       "    </tr>\n",
       "    <tr>\n",
       "      <th>1</th>\n",
       "      <td>BMW</td>\n",
       "      <td>BMW</td>\n",
       "      <td>X6</td>\n",
       "      <td>X6 F16</td>\n",
       "      <td>2015</td>\n",
       "      <td>03/04/2018</td>\n",
       "      <td>3</td>\n",
       "      <td>39051</td>\n",
       "      <td>13017</td>\n",
       "      <td>Diesel</td>\n",
       "      <td>...</td>\n",
       "      <td>1</td>\n",
       "      <td>1</td>\n",
       "      <td>1</td>\n",
       "      <td>1</td>\n",
       "      <td>0</td>\n",
       "      <td>0</td>\n",
       "      <td>0</td>\n",
       "      <td>0</td>\n",
       "      <td>85675.0</td>\n",
       "      <td>57526.0</td>\n",
       "    </tr>\n",
       "    <tr>\n",
       "      <th>2</th>\n",
       "      <td>AUDI</td>\n",
       "      <td>AUDI</td>\n",
       "      <td>RS6</td>\n",
       "      <td>RS6 3 AVANT</td>\n",
       "      <td>2014</td>\n",
       "      <td>30/07/2018</td>\n",
       "      <td>4</td>\n",
       "      <td>75381</td>\n",
       "      <td>18845</td>\n",
       "      <td>Essence</td>\n",
       "      <td>...</td>\n",
       "      <td>0</td>\n",
       "      <td>1</td>\n",
       "      <td>1</td>\n",
       "      <td>1</td>\n",
       "      <td>1</td>\n",
       "      <td>1</td>\n",
       "      <td>1</td>\n",
       "      <td>1</td>\n",
       "      <td>NaN</td>\n",
       "      <td>80379.0</td>\n",
       "    </tr>\n",
       "    <tr>\n",
       "      <th>3</th>\n",
       "      <td>FORD</td>\n",
       "      <td>FORD</td>\n",
       "      <td>KA</td>\n",
       "      <td>KA</td>\n",
       "      <td>2007</td>\n",
       "      <td>09/07/2018</td>\n",
       "      <td>11</td>\n",
       "      <td>92282</td>\n",
       "      <td>8389</td>\n",
       "      <td>Essence</td>\n",
       "      <td>...</td>\n",
       "      <td>0</td>\n",
       "      <td>1</td>\n",
       "      <td>0</td>\n",
       "      <td>0</td>\n",
       "      <td>0</td>\n",
       "      <td>0</td>\n",
       "      <td>0</td>\n",
       "      <td>0</td>\n",
       "      <td>NaN</td>\n",
       "      <td>2830.0</td>\n",
       "    </tr>\n",
       "    <tr>\n",
       "      <th>4</th>\n",
       "      <td>FIAT</td>\n",
       "      <td>FIAT</td>\n",
       "      <td>TIPO</td>\n",
       "      <td>TIPO 2 SW</td>\n",
       "      <td>2018</td>\n",
       "      <td>19/05/2018</td>\n",
       "      <td>0</td>\n",
       "      <td>10</td>\n",
       "      <td>10</td>\n",
       "      <td>Essence</td>\n",
       "      <td>...</td>\n",
       "      <td>0</td>\n",
       "      <td>0</td>\n",
       "      <td>0</td>\n",
       "      <td>1</td>\n",
       "      <td>0</td>\n",
       "      <td>0</td>\n",
       "      <td>0</td>\n",
       "      <td>1</td>\n",
       "      <td>13490.0</td>\n",
       "      <td>12925.0</td>\n",
       "    </tr>\n",
       "  </tbody>\n",
       "</table>\n",
       "<p>5 rows × 68 columns</p>\n",
       "</div>"
      ],
      "text/plain": [
       "      Make  Make_v2 Model    Model_Det  Model_year      Online  Age  Mileage  \\\n",
       "0  PEUGEOT  PEUGEOT   308        308 2        2014  06/07/2018    4    94341   \n",
       "1      BMW      BMW    X6       X6 F16        2015  03/04/2018    3    39051   \n",
       "2     AUDI     AUDI   RS6  RS6 3 AVANT        2014  30/07/2018    4    75381   \n",
       "3     FORD     FORD    KA           KA        2007  09/07/2018   11    92282   \n",
       "4     FIAT     FIAT  TIPO    TIPO 2 SW        2018  19/05/2018    0       10   \n",
       "\n",
       "   Usure     Fuel   ...     option_32  option_33  option_34 option_35  \\\n",
       "0  23585   Diesel   ...             0          0          0         0   \n",
       "1  13017   Diesel   ...             1          1          1         1   \n",
       "2  18845  Essence   ...             0          1          1         1   \n",
       "3   8389  Essence   ...             0          1          0         0   \n",
       "4     10  Essence   ...             0          0          0         1   \n",
       "\n",
       "   option_36  option_37 option_38  option_39 Prix_neuf    Price  \n",
       "0          0          0         0          0   21650.0  11220.0  \n",
       "1          0          0         0          0   85675.0  57526.0  \n",
       "2          1          1         1          1       NaN  80379.0  \n",
       "3          0          0         0          0       NaN   2830.0  \n",
       "4          0          0         0          1   13490.0  12925.0  \n",
       "\n",
       "[5 rows x 68 columns]"
      ]
     },
     "execution_count": 4,
     "metadata": {},
     "output_type": "execute_result"
    }
   ],
   "source": [
    "df_original.head()"
   ]
  },
  {
   "cell_type": "code",
   "execution_count": 5,
   "metadata": {},
   "outputs": [],
   "source": [
    "df = df_original"
   ]
  },
  {
   "cell_type": "code",
   "execution_count": 6,
   "metadata": {},
   "outputs": [
    {
     "data": {
      "text/plain": [
       "(166378, 68)"
      ]
     },
     "execution_count": 6,
     "metadata": {},
     "output_type": "execute_result"
    }
   ],
   "source": [
    "df.shape"
   ]
  },
  {
   "cell_type": "code",
   "execution_count": 7,
   "metadata": {},
   "outputs": [
    {
     "data": {
      "text/html": [
       "<div>\n",
       "<style scoped>\n",
       "    .dataframe tbody tr th:only-of-type {\n",
       "        vertical-align: middle;\n",
       "    }\n",
       "\n",
       "    .dataframe tbody tr th {\n",
       "        vertical-align: top;\n",
       "    }\n",
       "\n",
       "    .dataframe thead th {\n",
       "        text-align: right;\n",
       "    }\n",
       "</style>\n",
       "<table border=\"1\" class=\"dataframe\">\n",
       "  <thead>\n",
       "    <tr style=\"text-align: right;\">\n",
       "      <th></th>\n",
       "      <th>Make</th>\n",
       "      <th>Make_v2</th>\n",
       "      <th>Model</th>\n",
       "      <th>Model_Det</th>\n",
       "      <th>Model_year</th>\n",
       "      <th>Online</th>\n",
       "      <th>Age</th>\n",
       "      <th>Mileage</th>\n",
       "      <th>Usure</th>\n",
       "      <th>Fuel</th>\n",
       "      <th>...</th>\n",
       "      <th>option_32</th>\n",
       "      <th>option_33</th>\n",
       "      <th>option_34</th>\n",
       "      <th>option_35</th>\n",
       "      <th>option_36</th>\n",
       "      <th>option_37</th>\n",
       "      <th>option_38</th>\n",
       "      <th>option_39</th>\n",
       "      <th>Prix_neuf</th>\n",
       "      <th>Price</th>\n",
       "    </tr>\n",
       "  </thead>\n",
       "  <tbody>\n",
       "    <tr>\n",
       "      <th>0</th>\n",
       "      <td>PEUGEOT</td>\n",
       "      <td>PEUGEOT</td>\n",
       "      <td>308</td>\n",
       "      <td>308 2</td>\n",
       "      <td>2014</td>\n",
       "      <td>06/07/2018</td>\n",
       "      <td>4</td>\n",
       "      <td>94341</td>\n",
       "      <td>23585</td>\n",
       "      <td>Diesel</td>\n",
       "      <td>...</td>\n",
       "      <td>0</td>\n",
       "      <td>0</td>\n",
       "      <td>0</td>\n",
       "      <td>0</td>\n",
       "      <td>0</td>\n",
       "      <td>0</td>\n",
       "      <td>0</td>\n",
       "      <td>0</td>\n",
       "      <td>21650.0</td>\n",
       "      <td>11220.0</td>\n",
       "    </tr>\n",
       "    <tr>\n",
       "      <th>1</th>\n",
       "      <td>BMW</td>\n",
       "      <td>BMW</td>\n",
       "      <td>X6</td>\n",
       "      <td>X6 F16</td>\n",
       "      <td>2015</td>\n",
       "      <td>03/04/2018</td>\n",
       "      <td>3</td>\n",
       "      <td>39051</td>\n",
       "      <td>13017</td>\n",
       "      <td>Diesel</td>\n",
       "      <td>...</td>\n",
       "      <td>1</td>\n",
       "      <td>1</td>\n",
       "      <td>1</td>\n",
       "      <td>1</td>\n",
       "      <td>0</td>\n",
       "      <td>0</td>\n",
       "      <td>0</td>\n",
       "      <td>0</td>\n",
       "      <td>85675.0</td>\n",
       "      <td>57526.0</td>\n",
       "    </tr>\n",
       "    <tr>\n",
       "      <th>2</th>\n",
       "      <td>AUDI</td>\n",
       "      <td>AUDI</td>\n",
       "      <td>RS6</td>\n",
       "      <td>RS6 3 AVANT</td>\n",
       "      <td>2014</td>\n",
       "      <td>30/07/2018</td>\n",
       "      <td>4</td>\n",
       "      <td>75381</td>\n",
       "      <td>18845</td>\n",
       "      <td>Essence</td>\n",
       "      <td>...</td>\n",
       "      <td>0</td>\n",
       "      <td>1</td>\n",
       "      <td>1</td>\n",
       "      <td>1</td>\n",
       "      <td>1</td>\n",
       "      <td>1</td>\n",
       "      <td>1</td>\n",
       "      <td>1</td>\n",
       "      <td>NaN</td>\n",
       "      <td>80379.0</td>\n",
       "    </tr>\n",
       "    <tr>\n",
       "      <th>3</th>\n",
       "      <td>FORD</td>\n",
       "      <td>FORD</td>\n",
       "      <td>KA</td>\n",
       "      <td>KA</td>\n",
       "      <td>2007</td>\n",
       "      <td>09/07/2018</td>\n",
       "      <td>11</td>\n",
       "      <td>92282</td>\n",
       "      <td>8389</td>\n",
       "      <td>Essence</td>\n",
       "      <td>...</td>\n",
       "      <td>0</td>\n",
       "      <td>1</td>\n",
       "      <td>0</td>\n",
       "      <td>0</td>\n",
       "      <td>0</td>\n",
       "      <td>0</td>\n",
       "      <td>0</td>\n",
       "      <td>0</td>\n",
       "      <td>NaN</td>\n",
       "      <td>2830.0</td>\n",
       "    </tr>\n",
       "    <tr>\n",
       "      <th>4</th>\n",
       "      <td>FIAT</td>\n",
       "      <td>FIAT</td>\n",
       "      <td>TIPO</td>\n",
       "      <td>TIPO 2 SW</td>\n",
       "      <td>2018</td>\n",
       "      <td>19/05/2018</td>\n",
       "      <td>0</td>\n",
       "      <td>10</td>\n",
       "      <td>10</td>\n",
       "      <td>Essence</td>\n",
       "      <td>...</td>\n",
       "      <td>0</td>\n",
       "      <td>0</td>\n",
       "      <td>0</td>\n",
       "      <td>1</td>\n",
       "      <td>0</td>\n",
       "      <td>0</td>\n",
       "      <td>0</td>\n",
       "      <td>1</td>\n",
       "      <td>13490.0</td>\n",
       "      <td>12925.0</td>\n",
       "    </tr>\n",
       "  </tbody>\n",
       "</table>\n",
       "<p>5 rows × 68 columns</p>\n",
       "</div>"
      ],
      "text/plain": [
       "      Make  Make_v2 Model    Model_Det  Model_year      Online  Age  Mileage  \\\n",
       "0  PEUGEOT  PEUGEOT   308        308 2        2014  06/07/2018    4    94341   \n",
       "1      BMW      BMW    X6       X6 F16        2015  03/04/2018    3    39051   \n",
       "2     AUDI     AUDI   RS6  RS6 3 AVANT        2014  30/07/2018    4    75381   \n",
       "3     FORD     FORD    KA           KA        2007  09/07/2018   11    92282   \n",
       "4     FIAT     FIAT  TIPO    TIPO 2 SW        2018  19/05/2018    0       10   \n",
       "\n",
       "   Usure     Fuel   ...     option_32  option_33  option_34 option_35  \\\n",
       "0  23585   Diesel   ...             0          0          0         0   \n",
       "1  13017   Diesel   ...             1          1          1         1   \n",
       "2  18845  Essence   ...             0          1          1         1   \n",
       "3   8389  Essence   ...             0          1          0         0   \n",
       "4     10  Essence   ...             0          0          0         1   \n",
       "\n",
       "   option_36  option_37 option_38  option_39 Prix_neuf    Price  \n",
       "0          0          0         0          0   21650.0  11220.0  \n",
       "1          0          0         0          0   85675.0  57526.0  \n",
       "2          1          1         1          1       NaN  80379.0  \n",
       "3          0          0         0          0       NaN   2830.0  \n",
       "4          0          0         0          1   13490.0  12925.0  \n",
       "\n",
       "[5 rows x 68 columns]"
      ]
     },
     "execution_count": 7,
     "metadata": {},
     "output_type": "execute_result"
    }
   ],
   "source": [
    "df.head()"
   ]
  },
  {
   "cell_type": "code",
   "execution_count": 8,
   "metadata": {},
   "outputs": [
    {
     "data": {
      "text/plain": [
       "Index(['Make', 'Make_v2', 'Model', 'Model_Det', 'Model_year', 'Online', 'Age',\n",
       "       'Mileage', 'Usure', 'Fuel', 'Diesel', 'Essence', 'Other_fuel',\n",
       "       'Gearbox', 'Mecanique', 'Automatique', 'Version', 'Génération',\n",
       "       'Version_adj', 'Cylindre', 'Chevaux', 'Puissance_fisc', 'Portes',\n",
       "       'Couleur', 'Options', 'Options_nb', 'option_0', 'option_1', 'option_2',\n",
       "       'option_3', 'option_4', 'option_5', 'option_6', 'option_7', 'option_8',\n",
       "       'option_9', 'option_10', 'option_11', 'option_12', 'option_13',\n",
       "       'option_14', 'option_15', 'option_16', 'option_17', 'option_18',\n",
       "       'option_19', 'option_20', 'option_21', 'option_22', 'option_23',\n",
       "       'option_24', 'option_25', 'option_26', 'option_27', 'option_28',\n",
       "       'option_29', 'option_30', 'option_31', 'option_32', 'option_33',\n",
       "       'option_34', 'option_35', 'option_36', 'option_37', 'option_38',\n",
       "       'option_39', 'Prix_neuf', 'Price'],\n",
       "      dtype='object')"
      ]
     },
     "execution_count": 8,
     "metadata": {},
     "output_type": "execute_result"
    }
   ],
   "source": [
    "df.columns"
   ]
  },
  {
   "cell_type": "markdown",
   "metadata": {},
   "source": [
    "## Preprocess et split"
   ]
  },
  {
   "cell_type": "code",
   "execution_count": 9,
   "metadata": {},
   "outputs": [],
   "source": [
    "from sklearn.preprocessing import OneHotEncoder\n",
    "from sklearn.preprocessing import LabelEncoder\n",
    "\n",
    "le = LabelEncoder()"
   ]
  },
  {
   "cell_type": "code",
   "execution_count": 10,
   "metadata": {},
   "outputs": [],
   "source": [
    "df['Make'] = le.fit_transform(df['Make'])"
   ]
  },
  {
   "cell_type": "code",
   "execution_count": 11,
   "metadata": {},
   "outputs": [],
   "source": [
    "df['Model'] = le.fit_transform(df['Model'])"
   ]
  },
  {
   "cell_type": "code",
   "execution_count": 12,
   "metadata": {},
   "outputs": [],
   "source": [
    "labels = np.array(df['Price'])"
   ]
  },
  {
   "cell_type": "code",
   "execution_count": 13,
   "metadata": {},
   "outputs": [],
   "source": [
    "features = df[['Make', 'Model', 'Model_year', 'Mileage', 'Diesel', 'Essence', 'Other_fuel',\n",
    "       'Mecanique', 'Automatique']]"
   ]
  },
  {
   "cell_type": "code",
   "execution_count": 14,
   "metadata": {},
   "outputs": [
    {
     "data": {
      "text/html": [
       "<div>\n",
       "<style scoped>\n",
       "    .dataframe tbody tr th:only-of-type {\n",
       "        vertical-align: middle;\n",
       "    }\n",
       "\n",
       "    .dataframe tbody tr th {\n",
       "        vertical-align: top;\n",
       "    }\n",
       "\n",
       "    .dataframe thead th {\n",
       "        text-align: right;\n",
       "    }\n",
       "</style>\n",
       "<table border=\"1\" class=\"dataframe\">\n",
       "  <thead>\n",
       "    <tr style=\"text-align: right;\">\n",
       "      <th></th>\n",
       "      <th>Make</th>\n",
       "      <th>Model</th>\n",
       "      <th>Model_year</th>\n",
       "      <th>Mileage</th>\n",
       "      <th>Diesel</th>\n",
       "      <th>Essence</th>\n",
       "      <th>Other_fuel</th>\n",
       "      <th>Mecanique</th>\n",
       "      <th>Automatique</th>\n",
       "    </tr>\n",
       "  </thead>\n",
       "  <tbody>\n",
       "    <tr>\n",
       "      <th>0</th>\n",
       "      <td>59</td>\n",
       "      <td>34</td>\n",
       "      <td>2014</td>\n",
       "      <td>94341</td>\n",
       "      <td>1</td>\n",
       "      <td>0</td>\n",
       "      <td>0</td>\n",
       "      <td>1</td>\n",
       "      <td>0</td>\n",
       "    </tr>\n",
       "    <tr>\n",
       "      <th>1</th>\n",
       "      <td>9</td>\n",
       "      <td>716</td>\n",
       "      <td>2015</td>\n",
       "      <td>39051</td>\n",
       "      <td>1</td>\n",
       "      <td>0</td>\n",
       "      <td>0</td>\n",
       "      <td>0</td>\n",
       "      <td>1</td>\n",
       "    </tr>\n",
       "    <tr>\n",
       "      <th>2</th>\n",
       "      <td>5</td>\n",
       "      <td>558</td>\n",
       "      <td>2014</td>\n",
       "      <td>75381</td>\n",
       "      <td>0</td>\n",
       "      <td>1</td>\n",
       "      <td>0</td>\n",
       "      <td>0</td>\n",
       "      <td>1</td>\n",
       "    </tr>\n",
       "    <tr>\n",
       "      <th>3</th>\n",
       "      <td>28</td>\n",
       "      <td>397</td>\n",
       "      <td>2007</td>\n",
       "      <td>92282</td>\n",
       "      <td>0</td>\n",
       "      <td>1</td>\n",
       "      <td>0</td>\n",
       "      <td>1</td>\n",
       "      <td>0</td>\n",
       "    </tr>\n",
       "    <tr>\n",
       "      <th>4</th>\n",
       "      <td>26</td>\n",
       "      <td>652</td>\n",
       "      <td>2018</td>\n",
       "      <td>10</td>\n",
       "      <td>0</td>\n",
       "      <td>1</td>\n",
       "      <td>0</td>\n",
       "      <td>1</td>\n",
       "      <td>0</td>\n",
       "    </tr>\n",
       "  </tbody>\n",
       "</table>\n",
       "</div>"
      ],
      "text/plain": [
       "   Make  Model  Model_year  Mileage  Diesel  Essence  Other_fuel  Mecanique  \\\n",
       "0    59     34        2014    94341       1        0           0          1   \n",
       "1     9    716        2015    39051       1        0           0          0   \n",
       "2     5    558        2014    75381       0        1           0          0   \n",
       "3    28    397        2007    92282       0        1           0          1   \n",
       "4    26    652        2018       10       0        1           0          1   \n",
       "\n",
       "   Automatique  \n",
       "0            0  \n",
       "1            1  \n",
       "2            1  \n",
       "3            0  \n",
       "4            0  "
      ]
     },
     "execution_count": 14,
     "metadata": {},
     "output_type": "execute_result"
    }
   ],
   "source": [
    "features.head()"
   ]
  },
  {
   "cell_type": "code",
   "execution_count": 15,
   "metadata": {},
   "outputs": [],
   "source": [
    "feature_list = list(features.columns)"
   ]
  },
  {
   "cell_type": "code",
   "execution_count": 16,
   "metadata": {},
   "outputs": [],
   "source": [
    "features = np.array(features)"
   ]
  },
  {
   "cell_type": "code",
   "execution_count": 17,
   "metadata": {},
   "outputs": [],
   "source": [
    "from sklearn.model_selection import train_test_split"
   ]
  },
  {
   "cell_type": "code",
   "execution_count": 18,
   "metadata": {},
   "outputs": [],
   "source": [
    "train_features, test_features, train_labels, test_labels = train_test_split(\n",
    "    features, labels, test_size = 0.20, random_state = 1)"
   ]
  },
  {
   "cell_type": "code",
   "execution_count": 19,
   "metadata": {},
   "outputs": [
    {
     "name": "stdout",
     "output_type": "stream",
     "text": [
      "Training Features Shape: (133102, 9)\n",
      "Training Labels Shape: (133102,)\n",
      "Testing Features Shape: (33276, 9)\n",
      "Testing Labels Shape: (33276,)\n"
     ]
    }
   ],
   "source": [
    "print('Training Features Shape:', train_features.shape)\n",
    "print('Training Labels Shape:', train_labels.shape)\n",
    "print('Testing Features Shape:', test_features.shape)\n",
    "print('Testing Labels Shape:', test_labels.shape)"
   ]
  },
  {
   "cell_type": "markdown",
   "metadata": {},
   "source": [
    "## Comparaison xgboost / randomforest \"basique\""
   ]
  },
  {
   "cell_type": "code",
   "execution_count": 20,
   "metadata": {},
   "outputs": [],
   "source": [
    "def calc_mape(pred):\n",
    "    errors = abs(pred - test_labels)\n",
    "    mape = 100 * (errors / test_labels)\n",
    "    accuracy = 100 - np.mean(mape)\n",
    "    return 'Accuracy: '+ str(round(accuracy, 2)) + '%'\n",
    "\n",
    "def calc_mape_2(pred):\n",
    "    errors = abs(pred - test_labels)\n",
    "    mape = 100 * (errors / test_labels)\n",
    "    accuracy = 100 - np.mean(mape)\n",
    "    return round(accuracy, 2)"
   ]
  },
  {
   "cell_type": "markdown",
   "metadata": {},
   "source": [
    "### Randomforest"
   ]
  },
  {
   "cell_type": "code",
   "execution_count": 21,
   "metadata": {},
   "outputs": [],
   "source": [
    "from sklearn.ensemble import RandomForestRegressor\n",
    "from sklearn.ensemble import RandomForestClassifier"
   ]
  },
  {
   "cell_type": "code",
   "execution_count": 22,
   "metadata": {},
   "outputs": [],
   "source": [
    "rf = RandomForestRegressor(n_estimators = 1000, random_state = 1)"
   ]
  },
  {
   "cell_type": "code",
   "execution_count": 23,
   "metadata": {},
   "outputs": [
    {
     "data": {
      "text/plain": [
       "RandomForestRegressor(bootstrap=True, criterion='mse', max_depth=None,\n",
       "           max_features='auto', max_leaf_nodes=None,\n",
       "           min_impurity_decrease=0.0, min_impurity_split=None,\n",
       "           min_samples_leaf=1, min_samples_split=2,\n",
       "           min_weight_fraction_leaf=0.0, n_estimators=1000, n_jobs=None,\n",
       "           oob_score=False, random_state=1, verbose=0, warm_start=False)"
      ]
     },
     "execution_count": 23,
     "metadata": {},
     "output_type": "execute_result"
    }
   ],
   "source": [
    "rf.fit(train_features, train_labels)"
   ]
  },
  {
   "cell_type": "code",
   "execution_count": 24,
   "metadata": {},
   "outputs": [],
   "source": [
    "predictions = rf.predict(test_features)"
   ]
  },
  {
   "cell_type": "code",
   "execution_count": 25,
   "metadata": {},
   "outputs": [
    {
     "name": "stdout",
     "output_type": "stream",
     "text": [
      "Accuracy: 87.76%\n"
     ]
    }
   ],
   "source": [
    "print(calc_mape(predictions))"
   ]
  },
  {
   "cell_type": "markdown",
   "metadata": {},
   "source": [
    "### XGBoost"
   ]
  },
  {
   "cell_type": "code",
   "execution_count": 26,
   "metadata": {},
   "outputs": [],
   "source": [
    "import xgboost"
   ]
  },
  {
   "cell_type": "code",
   "execution_count": 27,
   "metadata": {},
   "outputs": [],
   "source": [
    "xgb = xgboost.XGBRegressor(n_estimators=1000,seed=1)"
   ]
  },
  {
   "cell_type": "code",
   "execution_count": 28,
   "metadata": {},
   "outputs": [
    {
     "data": {
      "text/plain": [
       "XGBRegressor(base_score=0.5, booster='gbtree', colsample_bylevel=1,\n",
       "       colsample_bynode=1, colsample_bytree=1, gamma=0, gpu_id=-1,\n",
       "       importance_type='gain', interaction_constraints='',\n",
       "       learning_rate=0.300000012, max_delta_step=0, max_depth=6,\n",
       "       min_child_weight=1, missing=nan, monotone_constraints='()',\n",
       "       n_estimators=1000, n_jobs=0, num_parallel_tree=1,\n",
       "       objective='reg:squarederror', random_state=1, reg_alpha=0,\n",
       "       reg_lambda=1, scale_pos_weight=1, seed=1, subsample=1,\n",
       "       tree_method='exact', validate_parameters=1, verbosity=None)"
      ]
     },
     "execution_count": 28,
     "metadata": {},
     "output_type": "execute_result"
    }
   ],
   "source": [
    "xgb.fit(train_features, train_labels)"
   ]
  },
  {
   "cell_type": "code",
   "execution_count": 29,
   "metadata": {},
   "outputs": [],
   "source": [
    "predictions = xgb.predict(test_features)"
   ]
  },
  {
   "cell_type": "code",
   "execution_count": 30,
   "metadata": {},
   "outputs": [
    {
     "name": "stdout",
     "output_type": "stream",
     "text": [
      "Accuracy: 88.07%\n"
     ]
    }
   ],
   "source": [
    "print(calc_mape(predictions))"
   ]
  },
  {
   "cell_type": "markdown",
   "metadata": {},
   "source": [
    "## Amelioration du model - Methode 1"
   ]
  },
  {
   "cell_type": "markdown",
   "metadata": {},
   "source": [
    "### Remplacement de \"Make\" par \"Make_v2\" et \"Model\" par \"Model_Det\""
   ]
  },
  {
   "cell_type": "code",
   "execution_count": 32,
   "metadata": {},
   "outputs": [],
   "source": [
    "df['Model_Det'] = le.fit_transform(df['Model_Det'])\n",
    "df['Make_v2'] = le.fit_transform(df['Make_v2'])"
   ]
  },
  {
   "cell_type": "code",
   "execution_count": 33,
   "metadata": {},
   "outputs": [],
   "source": [
    "features = df[['Make_v2', 'Model_Det', 'Model_year', 'Mileage', 'Diesel', 'Essence', 'Other_fuel',\n",
    "       'Mecanique', 'Automatique']]"
   ]
  },
  {
   "cell_type": "code",
   "execution_count": 34,
   "metadata": {},
   "outputs": [
    {
     "data": {
      "text/html": [
       "<div>\n",
       "<style scoped>\n",
       "    .dataframe tbody tr th:only-of-type {\n",
       "        vertical-align: middle;\n",
       "    }\n",
       "\n",
       "    .dataframe tbody tr th {\n",
       "        vertical-align: top;\n",
       "    }\n",
       "\n",
       "    .dataframe thead th {\n",
       "        text-align: right;\n",
       "    }\n",
       "</style>\n",
       "<table border=\"1\" class=\"dataframe\">\n",
       "  <thead>\n",
       "    <tr style=\"text-align: right;\">\n",
       "      <th></th>\n",
       "      <th>Make_v2</th>\n",
       "      <th>Model_Det</th>\n",
       "      <th>Model_year</th>\n",
       "      <th>Mileage</th>\n",
       "      <th>Diesel</th>\n",
       "      <th>Essence</th>\n",
       "      <th>Other_fuel</th>\n",
       "      <th>Mecanique</th>\n",
       "      <th>Automatique</th>\n",
       "    </tr>\n",
       "  </thead>\n",
       "  <tbody>\n",
       "    <tr>\n",
       "      <th>0</th>\n",
       "      <td>30</td>\n",
       "      <td>71</td>\n",
       "      <td>2014</td>\n",
       "      <td>94341</td>\n",
       "      <td>1</td>\n",
       "      <td>0</td>\n",
       "      <td>0</td>\n",
       "      <td>1</td>\n",
       "      <td>0</td>\n",
       "    </tr>\n",
       "    <tr>\n",
       "      <th>1</th>\n",
       "      <td>3</td>\n",
       "      <td>1612</td>\n",
       "      <td>2015</td>\n",
       "      <td>39051</td>\n",
       "      <td>1</td>\n",
       "      <td>0</td>\n",
       "      <td>0</td>\n",
       "      <td>0</td>\n",
       "      <td>1</td>\n",
       "    </tr>\n",
       "    <tr>\n",
       "      <th>2</th>\n",
       "      <td>2</td>\n",
       "      <td>1240</td>\n",
       "      <td>2014</td>\n",
       "      <td>75381</td>\n",
       "      <td>0</td>\n",
       "      <td>1</td>\n",
       "      <td>0</td>\n",
       "      <td>0</td>\n",
       "      <td>1</td>\n",
       "    </tr>\n",
       "    <tr>\n",
       "      <th>3</th>\n",
       "      <td>10</td>\n",
       "      <td>887</td>\n",
       "      <td>2007</td>\n",
       "      <td>92282</td>\n",
       "      <td>0</td>\n",
       "      <td>1</td>\n",
       "      <td>0</td>\n",
       "      <td>1</td>\n",
       "      <td>0</td>\n",
       "    </tr>\n",
       "    <tr>\n",
       "      <th>4</th>\n",
       "      <td>9</td>\n",
       "      <td>1492</td>\n",
       "      <td>2018</td>\n",
       "      <td>10</td>\n",
       "      <td>0</td>\n",
       "      <td>1</td>\n",
       "      <td>0</td>\n",
       "      <td>1</td>\n",
       "      <td>0</td>\n",
       "    </tr>\n",
       "  </tbody>\n",
       "</table>\n",
       "</div>"
      ],
      "text/plain": [
       "   Make_v2  Model_Det  Model_year  Mileage  Diesel  Essence  Other_fuel  \\\n",
       "0       30         71        2014    94341       1        0           0   \n",
       "1        3       1612        2015    39051       1        0           0   \n",
       "2        2       1240        2014    75381       0        1           0   \n",
       "3       10        887        2007    92282       0        1           0   \n",
       "4        9       1492        2018       10       0        1           0   \n",
       "\n",
       "   Mecanique  Automatique  \n",
       "0          1            0  \n",
       "1          0            1  \n",
       "2          0            1  \n",
       "3          1            0  \n",
       "4          1            0  "
      ]
     },
     "execution_count": 34,
     "metadata": {},
     "output_type": "execute_result"
    }
   ],
   "source": [
    "features.head()"
   ]
  },
  {
   "cell_type": "code",
   "execution_count": 35,
   "metadata": {},
   "outputs": [],
   "source": [
    "feature_list = list(features.columns)"
   ]
  },
  {
   "cell_type": "code",
   "execution_count": 36,
   "metadata": {},
   "outputs": [],
   "source": [
    "features = np.array(features)"
   ]
  },
  {
   "cell_type": "code",
   "execution_count": 37,
   "metadata": {},
   "outputs": [
    {
     "name": "stdout",
     "output_type": "stream",
     "text": [
      "Training Features Shape: (133102, 9)\n",
      "Training Labels Shape: (133102,)\n",
      "Testing Features Shape: (33276, 9)\n",
      "Testing Labels Shape: (33276,)\n"
     ]
    }
   ],
   "source": [
    "train_features, test_features, train_labels, test_labels = train_test_split(\n",
    "    features, labels, test_size = 0.20, random_state = 1)\n",
    "\n",
    "print('Training Features Shape:', train_features.shape)\n",
    "print('Training Labels Shape:', train_labels.shape)\n",
    "print('Testing Features Shape:', test_features.shape)\n",
    "print('Testing Labels Shape:', test_labels.shape)"
   ]
  },
  {
   "cell_type": "code",
   "execution_count": 38,
   "metadata": {},
   "outputs": [
    {
     "name": "stdout",
     "output_type": "stream",
     "text": [
      "Accuracy: 88.73%\n"
     ]
    }
   ],
   "source": [
    "xgb.fit(train_features, train_labels)\n",
    "old_predictions = predictions\n",
    "predictions = xgb.predict(test_features)\n",
    "print(calc_mape(predictions))"
   ]
  },
  {
   "cell_type": "markdown",
   "metadata": {},
   "source": [
    "On observe un gain d'environ 1 points par rapport au model précedent"
   ]
  },
  {
   "cell_type": "code",
   "execution_count": 39,
   "metadata": {},
   "outputs": [],
   "source": [
    "result[\"Model/Make\"] = round(calc_mape_2(old_predictions) - calc_mape_2(predictions), 2)"
   ]
  },
  {
   "cell_type": "markdown",
   "metadata": {},
   "source": [
    "### Ajout de l'age et de l'usure"
   ]
  },
  {
   "cell_type": "markdown",
   "metadata": {},
   "source": [
    "#### Age"
   ]
  },
  {
   "cell_type": "code",
   "execution_count": 40,
   "metadata": {},
   "outputs": [],
   "source": [
    "features = df[['Make_v2', 'Model_Det', 'Model_year', 'Age', 'Mileage', 'Diesel', 'Essence', 'Other_fuel',\n",
    "       'Mecanique', 'Automatique']]"
   ]
  },
  {
   "cell_type": "code",
   "execution_count": 41,
   "metadata": {},
   "outputs": [
    {
     "data": {
      "text/html": [
       "<div>\n",
       "<style scoped>\n",
       "    .dataframe tbody tr th:only-of-type {\n",
       "        vertical-align: middle;\n",
       "    }\n",
       "\n",
       "    .dataframe tbody tr th {\n",
       "        vertical-align: top;\n",
       "    }\n",
       "\n",
       "    .dataframe thead th {\n",
       "        text-align: right;\n",
       "    }\n",
       "</style>\n",
       "<table border=\"1\" class=\"dataframe\">\n",
       "  <thead>\n",
       "    <tr style=\"text-align: right;\">\n",
       "      <th></th>\n",
       "      <th>Make_v2</th>\n",
       "      <th>Model_Det</th>\n",
       "      <th>Model_year</th>\n",
       "      <th>Age</th>\n",
       "      <th>Mileage</th>\n",
       "      <th>Diesel</th>\n",
       "      <th>Essence</th>\n",
       "      <th>Other_fuel</th>\n",
       "      <th>Mecanique</th>\n",
       "      <th>Automatique</th>\n",
       "    </tr>\n",
       "  </thead>\n",
       "  <tbody>\n",
       "    <tr>\n",
       "      <th>0</th>\n",
       "      <td>30</td>\n",
       "      <td>71</td>\n",
       "      <td>2014</td>\n",
       "      <td>4</td>\n",
       "      <td>94341</td>\n",
       "      <td>1</td>\n",
       "      <td>0</td>\n",
       "      <td>0</td>\n",
       "      <td>1</td>\n",
       "      <td>0</td>\n",
       "    </tr>\n",
       "    <tr>\n",
       "      <th>1</th>\n",
       "      <td>3</td>\n",
       "      <td>1612</td>\n",
       "      <td>2015</td>\n",
       "      <td>3</td>\n",
       "      <td>39051</td>\n",
       "      <td>1</td>\n",
       "      <td>0</td>\n",
       "      <td>0</td>\n",
       "      <td>0</td>\n",
       "      <td>1</td>\n",
       "    </tr>\n",
       "    <tr>\n",
       "      <th>2</th>\n",
       "      <td>2</td>\n",
       "      <td>1240</td>\n",
       "      <td>2014</td>\n",
       "      <td>4</td>\n",
       "      <td>75381</td>\n",
       "      <td>0</td>\n",
       "      <td>1</td>\n",
       "      <td>0</td>\n",
       "      <td>0</td>\n",
       "      <td>1</td>\n",
       "    </tr>\n",
       "    <tr>\n",
       "      <th>3</th>\n",
       "      <td>10</td>\n",
       "      <td>887</td>\n",
       "      <td>2007</td>\n",
       "      <td>11</td>\n",
       "      <td>92282</td>\n",
       "      <td>0</td>\n",
       "      <td>1</td>\n",
       "      <td>0</td>\n",
       "      <td>1</td>\n",
       "      <td>0</td>\n",
       "    </tr>\n",
       "    <tr>\n",
       "      <th>4</th>\n",
       "      <td>9</td>\n",
       "      <td>1492</td>\n",
       "      <td>2018</td>\n",
       "      <td>0</td>\n",
       "      <td>10</td>\n",
       "      <td>0</td>\n",
       "      <td>1</td>\n",
       "      <td>0</td>\n",
       "      <td>1</td>\n",
       "      <td>0</td>\n",
       "    </tr>\n",
       "  </tbody>\n",
       "</table>\n",
       "</div>"
      ],
      "text/plain": [
       "   Make_v2  Model_Det  Model_year  Age  Mileage  Diesel  Essence  Other_fuel  \\\n",
       "0       30         71        2014    4    94341       1        0           0   \n",
       "1        3       1612        2015    3    39051       1        0           0   \n",
       "2        2       1240        2014    4    75381       0        1           0   \n",
       "3       10        887        2007   11    92282       0        1           0   \n",
       "4        9       1492        2018    0       10       0        1           0   \n",
       "\n",
       "   Mecanique  Automatique  \n",
       "0          1            0  \n",
       "1          0            1  \n",
       "2          0            1  \n",
       "3          1            0  \n",
       "4          1            0  "
      ]
     },
     "execution_count": 41,
     "metadata": {},
     "output_type": "execute_result"
    }
   ],
   "source": [
    "features.head()"
   ]
  },
  {
   "cell_type": "code",
   "execution_count": 42,
   "metadata": {},
   "outputs": [],
   "source": [
    "feature_list = list(features.columns)"
   ]
  },
  {
   "cell_type": "code",
   "execution_count": 43,
   "metadata": {},
   "outputs": [],
   "source": [
    "features = np.array(features)"
   ]
  },
  {
   "cell_type": "code",
   "execution_count": 44,
   "metadata": {},
   "outputs": [
    {
     "name": "stdout",
     "output_type": "stream",
     "text": [
      "Training Features Shape: (133102, 10)\n",
      "Training Labels Shape: (133102,)\n",
      "Testing Features Shape: (33276, 10)\n",
      "Testing Labels Shape: (33276,)\n"
     ]
    }
   ],
   "source": [
    "train_features, test_features, train_labels, test_labels = train_test_split(\n",
    "    features, labels, test_size = 0.20, random_state = 1)\n",
    "\n",
    "print('Training Features Shape:', train_features.shape)\n",
    "print('Training Labels Shape:', train_labels.shape)\n",
    "print('Testing Features Shape:', test_features.shape)\n",
    "print('Testing Labels Shape:', test_labels.shape)"
   ]
  },
  {
   "cell_type": "code",
   "execution_count": 45,
   "metadata": {},
   "outputs": [
    {
     "name": "stdout",
     "output_type": "stream",
     "text": [
      "Accuracy: 88.73%\n"
     ]
    }
   ],
   "source": [
    "xgb.fit(train_features, train_labels)\n",
    "old_predictions = predictions\n",
    "predictions = xgb.predict(test_features)\n",
    "print(calc_mape(predictions))"
   ]
  },
  {
   "cell_type": "markdown",
   "metadata": {},
   "source": [
    "L'age n'a aucun impact sur la précision"
   ]
  },
  {
   "cell_type": "code",
   "execution_count": 46,
   "metadata": {},
   "outputs": [],
   "source": [
    "result[\"Age\"] = round(calc_mape_2(old_predictions) - calc_mape_2(predictions), 2)"
   ]
  },
  {
   "cell_type": "markdown",
   "metadata": {},
   "source": [
    "#### Usure "
   ]
  },
  {
   "cell_type": "code",
   "execution_count": 47,
   "metadata": {},
   "outputs": [],
   "source": [
    "features = df[['Make_v2', 'Model_Det', 'Model_year', 'Mileage', 'Usure', 'Diesel', 'Essence', 'Other_fuel',\n",
    "       'Mecanique', 'Automatique']]"
   ]
  },
  {
   "cell_type": "code",
   "execution_count": 48,
   "metadata": {},
   "outputs": [
    {
     "data": {
      "text/html": [
       "<div>\n",
       "<style scoped>\n",
       "    .dataframe tbody tr th:only-of-type {\n",
       "        vertical-align: middle;\n",
       "    }\n",
       "\n",
       "    .dataframe tbody tr th {\n",
       "        vertical-align: top;\n",
       "    }\n",
       "\n",
       "    .dataframe thead th {\n",
       "        text-align: right;\n",
       "    }\n",
       "</style>\n",
       "<table border=\"1\" class=\"dataframe\">\n",
       "  <thead>\n",
       "    <tr style=\"text-align: right;\">\n",
       "      <th></th>\n",
       "      <th>Make_v2</th>\n",
       "      <th>Model_Det</th>\n",
       "      <th>Model_year</th>\n",
       "      <th>Mileage</th>\n",
       "      <th>Usure</th>\n",
       "      <th>Diesel</th>\n",
       "      <th>Essence</th>\n",
       "      <th>Other_fuel</th>\n",
       "      <th>Mecanique</th>\n",
       "      <th>Automatique</th>\n",
       "    </tr>\n",
       "  </thead>\n",
       "  <tbody>\n",
       "    <tr>\n",
       "      <th>0</th>\n",
       "      <td>30</td>\n",
       "      <td>71</td>\n",
       "      <td>2014</td>\n",
       "      <td>94341</td>\n",
       "      <td>23585</td>\n",
       "      <td>1</td>\n",
       "      <td>0</td>\n",
       "      <td>0</td>\n",
       "      <td>1</td>\n",
       "      <td>0</td>\n",
       "    </tr>\n",
       "    <tr>\n",
       "      <th>1</th>\n",
       "      <td>3</td>\n",
       "      <td>1612</td>\n",
       "      <td>2015</td>\n",
       "      <td>39051</td>\n",
       "      <td>13017</td>\n",
       "      <td>1</td>\n",
       "      <td>0</td>\n",
       "      <td>0</td>\n",
       "      <td>0</td>\n",
       "      <td>1</td>\n",
       "    </tr>\n",
       "    <tr>\n",
       "      <th>2</th>\n",
       "      <td>2</td>\n",
       "      <td>1240</td>\n",
       "      <td>2014</td>\n",
       "      <td>75381</td>\n",
       "      <td>18845</td>\n",
       "      <td>0</td>\n",
       "      <td>1</td>\n",
       "      <td>0</td>\n",
       "      <td>0</td>\n",
       "      <td>1</td>\n",
       "    </tr>\n",
       "    <tr>\n",
       "      <th>3</th>\n",
       "      <td>10</td>\n",
       "      <td>887</td>\n",
       "      <td>2007</td>\n",
       "      <td>92282</td>\n",
       "      <td>8389</td>\n",
       "      <td>0</td>\n",
       "      <td>1</td>\n",
       "      <td>0</td>\n",
       "      <td>1</td>\n",
       "      <td>0</td>\n",
       "    </tr>\n",
       "    <tr>\n",
       "      <th>4</th>\n",
       "      <td>9</td>\n",
       "      <td>1492</td>\n",
       "      <td>2018</td>\n",
       "      <td>10</td>\n",
       "      <td>10</td>\n",
       "      <td>0</td>\n",
       "      <td>1</td>\n",
       "      <td>0</td>\n",
       "      <td>1</td>\n",
       "      <td>0</td>\n",
       "    </tr>\n",
       "  </tbody>\n",
       "</table>\n",
       "</div>"
      ],
      "text/plain": [
       "   Make_v2  Model_Det  Model_year  Mileage  Usure  Diesel  Essence  \\\n",
       "0       30         71        2014    94341  23585       1        0   \n",
       "1        3       1612        2015    39051  13017       1        0   \n",
       "2        2       1240        2014    75381  18845       0        1   \n",
       "3       10        887        2007    92282   8389       0        1   \n",
       "4        9       1492        2018       10     10       0        1   \n",
       "\n",
       "   Other_fuel  Mecanique  Automatique  \n",
       "0           0          1            0  \n",
       "1           0          0            1  \n",
       "2           0          0            1  \n",
       "3           0          1            0  \n",
       "4           0          1            0  "
      ]
     },
     "execution_count": 48,
     "metadata": {},
     "output_type": "execute_result"
    }
   ],
   "source": [
    "features.head()"
   ]
  },
  {
   "cell_type": "code",
   "execution_count": 49,
   "metadata": {},
   "outputs": [],
   "source": [
    "feature_list = list(features.columns)"
   ]
  },
  {
   "cell_type": "code",
   "execution_count": 50,
   "metadata": {},
   "outputs": [],
   "source": [
    "features = np.array(features)"
   ]
  },
  {
   "cell_type": "code",
   "execution_count": 51,
   "metadata": {},
   "outputs": [
    {
     "name": "stdout",
     "output_type": "stream",
     "text": [
      "Training Features Shape: (133102, 10)\n",
      "Training Labels Shape: (133102,)\n",
      "Testing Features Shape: (33276, 10)\n",
      "Testing Labels Shape: (33276,)\n"
     ]
    }
   ],
   "source": [
    "train_features, test_features, train_labels, test_labels = train_test_split(\n",
    "    features, labels, test_size = 0.20, random_state = 1)\n",
    "\n",
    "print('Training Features Shape:', train_features.shape)\n",
    "print('Training Labels Shape:', train_labels.shape)\n",
    "print('Testing Features Shape:', test_features.shape)\n",
    "print('Testing Labels Shape:', test_labels.shape)"
   ]
  },
  {
   "cell_type": "code",
   "execution_count": 52,
   "metadata": {},
   "outputs": [
    {
     "name": "stdout",
     "output_type": "stream",
     "text": [
      "Accuracy: 88.83%\n"
     ]
    }
   ],
   "source": [
    "xgb.fit(train_features, train_labels)\n",
    "old_predictions = predictions\n",
    "predictions = xgb.predict(test_features)\n",
    "print(calc_mape(predictions))"
   ]
  },
  {
   "cell_type": "markdown",
   "metadata": {},
   "source": [
    "L'usure fait baisser d'un point environ la précision"
   ]
  },
  {
   "cell_type": "code",
   "execution_count": 53,
   "metadata": {},
   "outputs": [],
   "source": [
    "result[\"Usure\"] = round(calc_mape_2(old_predictions) - calc_mape_2(predictions), 2)"
   ]
  },
  {
   "cell_type": "markdown",
   "metadata": {},
   "source": [
    "### Génération / Cylindre / Chevaux"
   ]
  },
  {
   "cell_type": "markdown",
   "metadata": {},
   "source": [
    "#### Génération"
   ]
  },
  {
   "cell_type": "code",
   "execution_count": 54,
   "metadata": {},
   "outputs": [],
   "source": [
    "features = df[['Make_v2', 'Model_Det', 'Model_year', 'Mileage', 'Diesel', 'Essence', 'Other_fuel',\n",
    "       'Mecanique', 'Automatique', 'Génération']]"
   ]
  },
  {
   "cell_type": "code",
   "execution_count": 55,
   "metadata": {},
   "outputs": [
    {
     "data": {
      "text/html": [
       "<div>\n",
       "<style scoped>\n",
       "    .dataframe tbody tr th:only-of-type {\n",
       "        vertical-align: middle;\n",
       "    }\n",
       "\n",
       "    .dataframe tbody tr th {\n",
       "        vertical-align: top;\n",
       "    }\n",
       "\n",
       "    .dataframe thead th {\n",
       "        text-align: right;\n",
       "    }\n",
       "</style>\n",
       "<table border=\"1\" class=\"dataframe\">\n",
       "  <thead>\n",
       "    <tr style=\"text-align: right;\">\n",
       "      <th></th>\n",
       "      <th>Make_v2</th>\n",
       "      <th>Model_Det</th>\n",
       "      <th>Model_year</th>\n",
       "      <th>Mileage</th>\n",
       "      <th>Diesel</th>\n",
       "      <th>Essence</th>\n",
       "      <th>Other_fuel</th>\n",
       "      <th>Mecanique</th>\n",
       "      <th>Automatique</th>\n",
       "      <th>Génération</th>\n",
       "    </tr>\n",
       "  </thead>\n",
       "  <tbody>\n",
       "    <tr>\n",
       "      <th>0</th>\n",
       "      <td>30</td>\n",
       "      <td>71</td>\n",
       "      <td>2014</td>\n",
       "      <td>94341</td>\n",
       "      <td>1</td>\n",
       "      <td>0</td>\n",
       "      <td>0</td>\n",
       "      <td>1</td>\n",
       "      <td>0</td>\n",
       "      <td>1</td>\n",
       "    </tr>\n",
       "    <tr>\n",
       "      <th>1</th>\n",
       "      <td>3</td>\n",
       "      <td>1612</td>\n",
       "      <td>2015</td>\n",
       "      <td>39051</td>\n",
       "      <td>1</td>\n",
       "      <td>0</td>\n",
       "      <td>0</td>\n",
       "      <td>0</td>\n",
       "      <td>1</td>\n",
       "      <td>2</td>\n",
       "    </tr>\n",
       "    <tr>\n",
       "      <th>2</th>\n",
       "      <td>2</td>\n",
       "      <td>1240</td>\n",
       "      <td>2014</td>\n",
       "      <td>75381</td>\n",
       "      <td>0</td>\n",
       "      <td>1</td>\n",
       "      <td>0</td>\n",
       "      <td>0</td>\n",
       "      <td>1</td>\n",
       "      <td>3</td>\n",
       "    </tr>\n",
       "    <tr>\n",
       "      <th>3</th>\n",
       "      <td>10</td>\n",
       "      <td>887</td>\n",
       "      <td>2007</td>\n",
       "      <td>92282</td>\n",
       "      <td>0</td>\n",
       "      <td>1</td>\n",
       "      <td>0</td>\n",
       "      <td>1</td>\n",
       "      <td>0</td>\n",
       "      <td>1</td>\n",
       "    </tr>\n",
       "    <tr>\n",
       "      <th>4</th>\n",
       "      <td>9</td>\n",
       "      <td>1492</td>\n",
       "      <td>2018</td>\n",
       "      <td>10</td>\n",
       "      <td>0</td>\n",
       "      <td>1</td>\n",
       "      <td>0</td>\n",
       "      <td>1</td>\n",
       "      <td>0</td>\n",
       "      <td>2</td>\n",
       "    </tr>\n",
       "  </tbody>\n",
       "</table>\n",
       "</div>"
      ],
      "text/plain": [
       "   Make_v2  Model_Det  Model_year  Mileage  Diesel  Essence  Other_fuel  \\\n",
       "0       30         71        2014    94341       1        0           0   \n",
       "1        3       1612        2015    39051       1        0           0   \n",
       "2        2       1240        2014    75381       0        1           0   \n",
       "3       10        887        2007    92282       0        1           0   \n",
       "4        9       1492        2018       10       0        1           0   \n",
       "\n",
       "   Mecanique  Automatique  Génération  \n",
       "0          1            0           1  \n",
       "1          0            1           2  \n",
       "2          0            1           3  \n",
       "3          1            0           1  \n",
       "4          1            0           2  "
      ]
     },
     "execution_count": 55,
     "metadata": {},
     "output_type": "execute_result"
    }
   ],
   "source": [
    "features.head()"
   ]
  },
  {
   "cell_type": "code",
   "execution_count": 56,
   "metadata": {},
   "outputs": [],
   "source": [
    "feature_list = list(features.columns)"
   ]
  },
  {
   "cell_type": "code",
   "execution_count": 57,
   "metadata": {},
   "outputs": [],
   "source": [
    "features = np.array(features)"
   ]
  },
  {
   "cell_type": "code",
   "execution_count": 58,
   "metadata": {},
   "outputs": [
    {
     "name": "stdout",
     "output_type": "stream",
     "text": [
      "Training Features Shape: (133102, 10)\n",
      "Training Labels Shape: (133102,)\n",
      "Testing Features Shape: (33276, 10)\n",
      "Testing Labels Shape: (33276,)\n"
     ]
    }
   ],
   "source": [
    "train_features, test_features, train_labels, test_labels = train_test_split(\n",
    "    features, labels, test_size = 0.20, random_state = 1)\n",
    "\n",
    "print('Training Features Shape:', train_features.shape)\n",
    "print('Training Labels Shape:', train_labels.shape)\n",
    "print('Testing Features Shape:', test_features.shape)\n",
    "print('Testing Labels Shape:', test_labels.shape)"
   ]
  },
  {
   "cell_type": "code",
   "execution_count": 59,
   "metadata": {},
   "outputs": [
    {
     "name": "stdout",
     "output_type": "stream",
     "text": [
      "Accuracy: 88.7%\n"
     ]
    }
   ],
   "source": [
    "xgb.fit(train_features, train_labels)\n",
    "old_predictions = predictions\n",
    "predictions = xgb.predict(test_features)\n",
    "print(calc_mape(predictions))"
   ]
  },
  {
   "cell_type": "markdown",
   "metadata": {},
   "source": [
    "La génération n'apporte rien à la précision"
   ]
  },
  {
   "cell_type": "code",
   "execution_count": 60,
   "metadata": {},
   "outputs": [],
   "source": [
    "result[\"Génération\"] = round(calc_mape_2(old_predictions) - calc_mape_2(predictions), 2)"
   ]
  },
  {
   "cell_type": "markdown",
   "metadata": {},
   "source": [
    "#### Cylindre"
   ]
  },
  {
   "cell_type": "code",
   "execution_count": 61,
   "metadata": {},
   "outputs": [
    {
     "data": {
      "text/html": [
       "<div>\n",
       "<style scoped>\n",
       "    .dataframe tbody tr th:only-of-type {\n",
       "        vertical-align: middle;\n",
       "    }\n",
       "\n",
       "    .dataframe tbody tr th {\n",
       "        vertical-align: top;\n",
       "    }\n",
       "\n",
       "    .dataframe thead th {\n",
       "        text-align: right;\n",
       "    }\n",
       "</style>\n",
       "<table border=\"1\" class=\"dataframe\">\n",
       "  <thead>\n",
       "    <tr style=\"text-align: right;\">\n",
       "      <th></th>\n",
       "      <th>Make_v2</th>\n",
       "      <th>Model_Det</th>\n",
       "      <th>Model_year</th>\n",
       "      <th>Mileage</th>\n",
       "      <th>Diesel</th>\n",
       "      <th>Essence</th>\n",
       "      <th>Other_fuel</th>\n",
       "      <th>Mecanique</th>\n",
       "      <th>Automatique</th>\n",
       "      <th>Cylindre</th>\n",
       "    </tr>\n",
       "  </thead>\n",
       "  <tbody>\n",
       "    <tr>\n",
       "      <th>0</th>\n",
       "      <td>30</td>\n",
       "      <td>71</td>\n",
       "      <td>2014</td>\n",
       "      <td>94341</td>\n",
       "      <td>1</td>\n",
       "      <td>0</td>\n",
       "      <td>0</td>\n",
       "      <td>1</td>\n",
       "      <td>0</td>\n",
       "      <td>1.6</td>\n",
       "    </tr>\n",
       "    <tr>\n",
       "      <th>1</th>\n",
       "      <td>3</td>\n",
       "      <td>1612</td>\n",
       "      <td>2015</td>\n",
       "      <td>39051</td>\n",
       "      <td>1</td>\n",
       "      <td>0</td>\n",
       "      <td>0</td>\n",
       "      <td>0</td>\n",
       "      <td>1</td>\n",
       "      <td>3.0</td>\n",
       "    </tr>\n",
       "    <tr>\n",
       "      <th>2</th>\n",
       "      <td>2</td>\n",
       "      <td>1240</td>\n",
       "      <td>2014</td>\n",
       "      <td>75381</td>\n",
       "      <td>0</td>\n",
       "      <td>1</td>\n",
       "      <td>0</td>\n",
       "      <td>0</td>\n",
       "      <td>1</td>\n",
       "      <td>4.0</td>\n",
       "    </tr>\n",
       "    <tr>\n",
       "      <th>3</th>\n",
       "      <td>10</td>\n",
       "      <td>887</td>\n",
       "      <td>2007</td>\n",
       "      <td>92282</td>\n",
       "      <td>0</td>\n",
       "      <td>1</td>\n",
       "      <td>0</td>\n",
       "      <td>1</td>\n",
       "      <td>0</td>\n",
       "      <td>1.3</td>\n",
       "    </tr>\n",
       "    <tr>\n",
       "      <th>4</th>\n",
       "      <td>9</td>\n",
       "      <td>1492</td>\n",
       "      <td>2018</td>\n",
       "      <td>10</td>\n",
       "      <td>0</td>\n",
       "      <td>1</td>\n",
       "      <td>0</td>\n",
       "      <td>1</td>\n",
       "      <td>0</td>\n",
       "      <td>1.4</td>\n",
       "    </tr>\n",
       "  </tbody>\n",
       "</table>\n",
       "</div>"
      ],
      "text/plain": [
       "   Make_v2  Model_Det  Model_year  Mileage  Diesel  Essence  Other_fuel  \\\n",
       "0       30         71        2014    94341       1        0           0   \n",
       "1        3       1612        2015    39051       1        0           0   \n",
       "2        2       1240        2014    75381       0        1           0   \n",
       "3       10        887        2007    92282       0        1           0   \n",
       "4        9       1492        2018       10       0        1           0   \n",
       "\n",
       "   Mecanique  Automatique  Cylindre  \n",
       "0          1            0       1.6  \n",
       "1          0            1       3.0  \n",
       "2          0            1       4.0  \n",
       "3          1            0       1.3  \n",
       "4          1            0       1.4  "
      ]
     },
     "execution_count": 61,
     "metadata": {},
     "output_type": "execute_result"
    }
   ],
   "source": [
    "features = df[['Make_v2', 'Model_Det', 'Model_year', 'Mileage', 'Diesel', 'Essence', 'Other_fuel',\n",
    "       'Mecanique', 'Automatique', 'Cylindre']]\n",
    "features.head()"
   ]
  },
  {
   "cell_type": "code",
   "execution_count": 62,
   "metadata": {},
   "outputs": [],
   "source": [
    "feature_list = list(features.columns)\n",
    "features = np.array(features)"
   ]
  },
  {
   "cell_type": "code",
   "execution_count": 63,
   "metadata": {},
   "outputs": [
    {
     "name": "stdout",
     "output_type": "stream",
     "text": [
      "Training Features Shape: (133102, 10)\n",
      "Training Labels Shape: (133102,)\n",
      "Testing Features Shape: (33276, 10)\n",
      "Testing Labels Shape: (33276,)\n"
     ]
    }
   ],
   "source": [
    "train_features, test_features, train_labels, test_labels = train_test_split(\n",
    "    features, labels, test_size = 0.20, random_state = 1)\n",
    "\n",
    "print('Training Features Shape:', train_features.shape)\n",
    "print('Training Labels Shape:', train_labels.shape)\n",
    "print('Testing Features Shape:', test_features.shape)\n",
    "print('Testing Labels Shape:', test_labels.shape)"
   ]
  },
  {
   "cell_type": "code",
   "execution_count": 64,
   "metadata": {},
   "outputs": [
    {
     "name": "stdout",
     "output_type": "stream",
     "text": [
      "Accuracy: 90.06%\n"
     ]
    }
   ],
   "source": [
    "xgb.fit(train_features, train_labels)\n",
    "old_predictions = predictions\n",
    "predictions = xgb.predict(test_features)\n",
    "print(calc_mape(predictions))"
   ]
  },
  {
   "cell_type": "markdown",
   "metadata": {},
   "source": [
    "Le cylindre apporte 1 point de précision"
   ]
  },
  {
   "cell_type": "code",
   "execution_count": 65,
   "metadata": {},
   "outputs": [],
   "source": [
    "result[\"Cylindre\"] = round(calc_mape_2(old_predictions) - calc_mape_2(predictions), 2)"
   ]
  },
  {
   "cell_type": "markdown",
   "metadata": {},
   "source": [
    "#### Chevaux"
   ]
  },
  {
   "cell_type": "code",
   "execution_count": 66,
   "metadata": {},
   "outputs": [
    {
     "data": {
      "text/html": [
       "<div>\n",
       "<style scoped>\n",
       "    .dataframe tbody tr th:only-of-type {\n",
       "        vertical-align: middle;\n",
       "    }\n",
       "\n",
       "    .dataframe tbody tr th {\n",
       "        vertical-align: top;\n",
       "    }\n",
       "\n",
       "    .dataframe thead th {\n",
       "        text-align: right;\n",
       "    }\n",
       "</style>\n",
       "<table border=\"1\" class=\"dataframe\">\n",
       "  <thead>\n",
       "    <tr style=\"text-align: right;\">\n",
       "      <th></th>\n",
       "      <th>Make_v2</th>\n",
       "      <th>Model_Det</th>\n",
       "      <th>Model_year</th>\n",
       "      <th>Mileage</th>\n",
       "      <th>Diesel</th>\n",
       "      <th>Essence</th>\n",
       "      <th>Other_fuel</th>\n",
       "      <th>Mecanique</th>\n",
       "      <th>Automatique</th>\n",
       "      <th>Cylindre</th>\n",
       "      <th>Chevaux</th>\n",
       "    </tr>\n",
       "  </thead>\n",
       "  <tbody>\n",
       "    <tr>\n",
       "      <th>0</th>\n",
       "      <td>30</td>\n",
       "      <td>71</td>\n",
       "      <td>2014</td>\n",
       "      <td>94341</td>\n",
       "      <td>1</td>\n",
       "      <td>0</td>\n",
       "      <td>0</td>\n",
       "      <td>1</td>\n",
       "      <td>0</td>\n",
       "      <td>1.6</td>\n",
       "      <td>92.0</td>\n",
       "    </tr>\n",
       "    <tr>\n",
       "      <th>1</th>\n",
       "      <td>3</td>\n",
       "      <td>1612</td>\n",
       "      <td>2015</td>\n",
       "      <td>39051</td>\n",
       "      <td>1</td>\n",
       "      <td>0</td>\n",
       "      <td>0</td>\n",
       "      <td>0</td>\n",
       "      <td>1</td>\n",
       "      <td>3.0</td>\n",
       "      <td>258.0</td>\n",
       "    </tr>\n",
       "    <tr>\n",
       "      <th>2</th>\n",
       "      <td>2</td>\n",
       "      <td>1240</td>\n",
       "      <td>2014</td>\n",
       "      <td>75381</td>\n",
       "      <td>0</td>\n",
       "      <td>1</td>\n",
       "      <td>0</td>\n",
       "      <td>0</td>\n",
       "      <td>1</td>\n",
       "      <td>4.0</td>\n",
       "      <td>560.0</td>\n",
       "    </tr>\n",
       "    <tr>\n",
       "      <th>3</th>\n",
       "      <td>10</td>\n",
       "      <td>887</td>\n",
       "      <td>2007</td>\n",
       "      <td>92282</td>\n",
       "      <td>0</td>\n",
       "      <td>1</td>\n",
       "      <td>0</td>\n",
       "      <td>1</td>\n",
       "      <td>0</td>\n",
       "      <td>1.3</td>\n",
       "      <td>70.0</td>\n",
       "    </tr>\n",
       "    <tr>\n",
       "      <th>4</th>\n",
       "      <td>9</td>\n",
       "      <td>1492</td>\n",
       "      <td>2018</td>\n",
       "      <td>10</td>\n",
       "      <td>0</td>\n",
       "      <td>1</td>\n",
       "      <td>0</td>\n",
       "      <td>1</td>\n",
       "      <td>0</td>\n",
       "      <td>1.4</td>\n",
       "      <td>95.0</td>\n",
       "    </tr>\n",
       "  </tbody>\n",
       "</table>\n",
       "</div>"
      ],
      "text/plain": [
       "   Make_v2  Model_Det  Model_year  Mileage  Diesel  Essence  Other_fuel  \\\n",
       "0       30         71        2014    94341       1        0           0   \n",
       "1        3       1612        2015    39051       1        0           0   \n",
       "2        2       1240        2014    75381       0        1           0   \n",
       "3       10        887        2007    92282       0        1           0   \n",
       "4        9       1492        2018       10       0        1           0   \n",
       "\n",
       "   Mecanique  Automatique  Cylindre  Chevaux  \n",
       "0          1            0       1.6     92.0  \n",
       "1          0            1       3.0    258.0  \n",
       "2          0            1       4.0    560.0  \n",
       "3          1            0       1.3     70.0  \n",
       "4          1            0       1.4     95.0  "
      ]
     },
     "execution_count": 66,
     "metadata": {},
     "output_type": "execute_result"
    }
   ],
   "source": [
    "features = df[['Make_v2', 'Model_Det', 'Model_year', 'Mileage', 'Diesel', 'Essence', 'Other_fuel',\n",
    "       'Mecanique', 'Automatique', 'Cylindre', 'Chevaux']]\n",
    "features.head()"
   ]
  },
  {
   "cell_type": "code",
   "execution_count": 67,
   "metadata": {},
   "outputs": [],
   "source": [
    "feature_list = list(features.columns)\n",
    "features = np.array(features)"
   ]
  },
  {
   "cell_type": "code",
   "execution_count": 68,
   "metadata": {},
   "outputs": [
    {
     "name": "stdout",
     "output_type": "stream",
     "text": [
      "Training Features Shape: (133102, 11)\n",
      "Training Labels Shape: (133102,)\n",
      "Testing Features Shape: (33276, 11)\n",
      "Testing Labels Shape: (33276,)\n"
     ]
    }
   ],
   "source": [
    "train_features, test_features, train_labels, test_labels = train_test_split(\n",
    "    features, labels, test_size = 0.20, random_state = 1)\n",
    "\n",
    "print('Training Features Shape:', train_features.shape)\n",
    "print('Training Labels Shape:', train_labels.shape)\n",
    "print('Testing Features Shape:', test_features.shape)\n",
    "print('Testing Labels Shape:', test_labels.shape)"
   ]
  },
  {
   "cell_type": "code",
   "execution_count": 69,
   "metadata": {},
   "outputs": [
    {
     "name": "stdout",
     "output_type": "stream",
     "text": [
      "Accuracy: 90.71%\n"
     ]
    }
   ],
   "source": [
    "xgb.fit(train_features, train_labels)\n",
    "old_predictions = predictions\n",
    "predictions = xgb.predict(test_features)\n",
    "print(calc_mape(predictions))"
   ]
  },
  {
   "cell_type": "markdown",
   "metadata": {},
   "source": [
    "Les chevaux apportent 1 point de précision"
   ]
  },
  {
   "cell_type": "code",
   "execution_count": 70,
   "metadata": {},
   "outputs": [],
   "source": [
    "result[\"Chevaux\"] = round(calc_mape_2(old_predictions) - calc_mape_2(predictions), 2)"
   ]
  },
  {
   "cell_type": "markdown",
   "metadata": {},
   "source": [
    "### Ajout de la Puissance fiscale, des Portes et de la Couleur"
   ]
  },
  {
   "cell_type": "markdown",
   "metadata": {},
   "source": [
    "#### Puissance Fiscale"
   ]
  },
  {
   "cell_type": "code",
   "execution_count": 71,
   "metadata": {},
   "outputs": [
    {
     "data": {
      "text/html": [
       "<div>\n",
       "<style scoped>\n",
       "    .dataframe tbody tr th:only-of-type {\n",
       "        vertical-align: middle;\n",
       "    }\n",
       "\n",
       "    .dataframe tbody tr th {\n",
       "        vertical-align: top;\n",
       "    }\n",
       "\n",
       "    .dataframe thead th {\n",
       "        text-align: right;\n",
       "    }\n",
       "</style>\n",
       "<table border=\"1\" class=\"dataframe\">\n",
       "  <thead>\n",
       "    <tr style=\"text-align: right;\">\n",
       "      <th></th>\n",
       "      <th>Make_v2</th>\n",
       "      <th>Model_Det</th>\n",
       "      <th>Model_year</th>\n",
       "      <th>Mileage</th>\n",
       "      <th>Diesel</th>\n",
       "      <th>Essence</th>\n",
       "      <th>Other_fuel</th>\n",
       "      <th>Mecanique</th>\n",
       "      <th>Automatique</th>\n",
       "      <th>Cylindre</th>\n",
       "      <th>Chevaux</th>\n",
       "      <th>Puissance_fisc</th>\n",
       "    </tr>\n",
       "  </thead>\n",
       "  <tbody>\n",
       "    <tr>\n",
       "      <th>0</th>\n",
       "      <td>30</td>\n",
       "      <td>71</td>\n",
       "      <td>2014</td>\n",
       "      <td>94341</td>\n",
       "      <td>1</td>\n",
       "      <td>0</td>\n",
       "      <td>0</td>\n",
       "      <td>1</td>\n",
       "      <td>0</td>\n",
       "      <td>1.6</td>\n",
       "      <td>92.0</td>\n",
       "      <td>4</td>\n",
       "    </tr>\n",
       "    <tr>\n",
       "      <th>1</th>\n",
       "      <td>3</td>\n",
       "      <td>1612</td>\n",
       "      <td>2015</td>\n",
       "      <td>39051</td>\n",
       "      <td>1</td>\n",
       "      <td>0</td>\n",
       "      <td>0</td>\n",
       "      <td>0</td>\n",
       "      <td>1</td>\n",
       "      <td>3.0</td>\n",
       "      <td>258.0</td>\n",
       "      <td>16</td>\n",
       "    </tr>\n",
       "    <tr>\n",
       "      <th>2</th>\n",
       "      <td>2</td>\n",
       "      <td>1240</td>\n",
       "      <td>2014</td>\n",
       "      <td>75381</td>\n",
       "      <td>0</td>\n",
       "      <td>1</td>\n",
       "      <td>0</td>\n",
       "      <td>0</td>\n",
       "      <td>1</td>\n",
       "      <td>4.0</td>\n",
       "      <td>560.0</td>\n",
       "      <td>47</td>\n",
       "    </tr>\n",
       "    <tr>\n",
       "      <th>3</th>\n",
       "      <td>10</td>\n",
       "      <td>887</td>\n",
       "      <td>2007</td>\n",
       "      <td>92282</td>\n",
       "      <td>0</td>\n",
       "      <td>1</td>\n",
       "      <td>0</td>\n",
       "      <td>1</td>\n",
       "      <td>0</td>\n",
       "      <td>1.3</td>\n",
       "      <td>70.0</td>\n",
       "      <td>5</td>\n",
       "    </tr>\n",
       "    <tr>\n",
       "      <th>4</th>\n",
       "      <td>9</td>\n",
       "      <td>1492</td>\n",
       "      <td>2018</td>\n",
       "      <td>10</td>\n",
       "      <td>0</td>\n",
       "      <td>1</td>\n",
       "      <td>0</td>\n",
       "      <td>1</td>\n",
       "      <td>0</td>\n",
       "      <td>1.4</td>\n",
       "      <td>95.0</td>\n",
       "      <td>5</td>\n",
       "    </tr>\n",
       "  </tbody>\n",
       "</table>\n",
       "</div>"
      ],
      "text/plain": [
       "   Make_v2  Model_Det  Model_year  Mileage  Diesel  Essence  Other_fuel  \\\n",
       "0       30         71        2014    94341       1        0           0   \n",
       "1        3       1612        2015    39051       1        0           0   \n",
       "2        2       1240        2014    75381       0        1           0   \n",
       "3       10        887        2007    92282       0        1           0   \n",
       "4        9       1492        2018       10       0        1           0   \n",
       "\n",
       "   Mecanique  Automatique  Cylindre  Chevaux  Puissance_fisc  \n",
       "0          1            0       1.6     92.0               4  \n",
       "1          0            1       3.0    258.0              16  \n",
       "2          0            1       4.0    560.0              47  \n",
       "3          1            0       1.3     70.0               5  \n",
       "4          1            0       1.4     95.0               5  "
      ]
     },
     "execution_count": 71,
     "metadata": {},
     "output_type": "execute_result"
    }
   ],
   "source": [
    "features = df[['Make_v2', 'Model_Det', 'Model_year', 'Mileage', 'Diesel', 'Essence', 'Other_fuel',\n",
    "       'Mecanique', 'Automatique', 'Cylindre', 'Chevaux', 'Puissance_fisc']]\n",
    "features.head()"
   ]
  },
  {
   "cell_type": "code",
   "execution_count": 72,
   "metadata": {},
   "outputs": [
    {
     "name": "stdout",
     "output_type": "stream",
     "text": [
      "Training Features Shape: (133102, 12)\n",
      "Training Labels Shape: (133102,)\n",
      "Testing Features Shape: (33276, 12)\n",
      "Testing Labels Shape: (33276,)\n"
     ]
    }
   ],
   "source": [
    "feature_list = list(features.columns)\n",
    "features = np.array(features)\n",
    "\n",
    "train_features, test_features, train_labels, test_labels = train_test_split(\n",
    "    features, labels, test_size = 0.20, random_state = 1)\n",
    "\n",
    "print('Training Features Shape:', train_features.shape)\n",
    "print('Training Labels Shape:', train_labels.shape)\n",
    "print('Testing Features Shape:', test_features.shape)\n",
    "print('Testing Labels Shape:', test_labels.shape)"
   ]
  },
  {
   "cell_type": "code",
   "execution_count": 73,
   "metadata": {},
   "outputs": [
    {
     "name": "stdout",
     "output_type": "stream",
     "text": [
      "Accuracy: 91.6%\n"
     ]
    }
   ],
   "source": [
    "xgb.fit(train_features, train_labels)\n",
    "old_predictions = predictions\n",
    "predictions = xgb.predict(test_features)\n",
    "print(calc_mape(predictions))"
   ]
  },
  {
   "cell_type": "markdown",
   "metadata": {},
   "source": [
    "La puissance fiscale améliore la précision"
   ]
  },
  {
   "cell_type": "code",
   "execution_count": 74,
   "metadata": {},
   "outputs": [],
   "source": [
    "result[\"Puissance_fisc\"] = round(calc_mape_2(old_predictions) - calc_mape_2(predictions), 2)"
   ]
  },
  {
   "cell_type": "markdown",
   "metadata": {},
   "source": [
    "#### Portes"
   ]
  },
  {
   "cell_type": "code",
   "execution_count": 75,
   "metadata": {},
   "outputs": [
    {
     "data": {
      "text/html": [
       "<div>\n",
       "<style scoped>\n",
       "    .dataframe tbody tr th:only-of-type {\n",
       "        vertical-align: middle;\n",
       "    }\n",
       "\n",
       "    .dataframe tbody tr th {\n",
       "        vertical-align: top;\n",
       "    }\n",
       "\n",
       "    .dataframe thead th {\n",
       "        text-align: right;\n",
       "    }\n",
       "</style>\n",
       "<table border=\"1\" class=\"dataframe\">\n",
       "  <thead>\n",
       "    <tr style=\"text-align: right;\">\n",
       "      <th></th>\n",
       "      <th>Make_v2</th>\n",
       "      <th>Model_Det</th>\n",
       "      <th>Model_year</th>\n",
       "      <th>Mileage</th>\n",
       "      <th>Diesel</th>\n",
       "      <th>Essence</th>\n",
       "      <th>Other_fuel</th>\n",
       "      <th>Mecanique</th>\n",
       "      <th>Automatique</th>\n",
       "      <th>Cylindre</th>\n",
       "      <th>Chevaux</th>\n",
       "      <th>Puissance_fisc</th>\n",
       "      <th>Portes</th>\n",
       "    </tr>\n",
       "  </thead>\n",
       "  <tbody>\n",
       "    <tr>\n",
       "      <th>0</th>\n",
       "      <td>30</td>\n",
       "      <td>71</td>\n",
       "      <td>2014</td>\n",
       "      <td>94341</td>\n",
       "      <td>1</td>\n",
       "      <td>0</td>\n",
       "      <td>0</td>\n",
       "      <td>1</td>\n",
       "      <td>0</td>\n",
       "      <td>1.6</td>\n",
       "      <td>92.0</td>\n",
       "      <td>4</td>\n",
       "      <td>5</td>\n",
       "    </tr>\n",
       "    <tr>\n",
       "      <th>1</th>\n",
       "      <td>3</td>\n",
       "      <td>1612</td>\n",
       "      <td>2015</td>\n",
       "      <td>39051</td>\n",
       "      <td>1</td>\n",
       "      <td>0</td>\n",
       "      <td>0</td>\n",
       "      <td>0</td>\n",
       "      <td>1</td>\n",
       "      <td>3.0</td>\n",
       "      <td>258.0</td>\n",
       "      <td>16</td>\n",
       "      <td>5</td>\n",
       "    </tr>\n",
       "    <tr>\n",
       "      <th>2</th>\n",
       "      <td>2</td>\n",
       "      <td>1240</td>\n",
       "      <td>2014</td>\n",
       "      <td>75381</td>\n",
       "      <td>0</td>\n",
       "      <td>1</td>\n",
       "      <td>0</td>\n",
       "      <td>0</td>\n",
       "      <td>1</td>\n",
       "      <td>4.0</td>\n",
       "      <td>560.0</td>\n",
       "      <td>47</td>\n",
       "      <td>5</td>\n",
       "    </tr>\n",
       "    <tr>\n",
       "      <th>3</th>\n",
       "      <td>10</td>\n",
       "      <td>887</td>\n",
       "      <td>2007</td>\n",
       "      <td>92282</td>\n",
       "      <td>0</td>\n",
       "      <td>1</td>\n",
       "      <td>0</td>\n",
       "      <td>1</td>\n",
       "      <td>0</td>\n",
       "      <td>1.3</td>\n",
       "      <td>70.0</td>\n",
       "      <td>5</td>\n",
       "      <td>3</td>\n",
       "    </tr>\n",
       "    <tr>\n",
       "      <th>4</th>\n",
       "      <td>9</td>\n",
       "      <td>1492</td>\n",
       "      <td>2018</td>\n",
       "      <td>10</td>\n",
       "      <td>0</td>\n",
       "      <td>1</td>\n",
       "      <td>0</td>\n",
       "      <td>1</td>\n",
       "      <td>0</td>\n",
       "      <td>1.4</td>\n",
       "      <td>95.0</td>\n",
       "      <td>5</td>\n",
       "      <td>5</td>\n",
       "    </tr>\n",
       "  </tbody>\n",
       "</table>\n",
       "</div>"
      ],
      "text/plain": [
       "   Make_v2  Model_Det  Model_year  Mileage  Diesel  Essence  Other_fuel  \\\n",
       "0       30         71        2014    94341       1        0           0   \n",
       "1        3       1612        2015    39051       1        0           0   \n",
       "2        2       1240        2014    75381       0        1           0   \n",
       "3       10        887        2007    92282       0        1           0   \n",
       "4        9       1492        2018       10       0        1           0   \n",
       "\n",
       "   Mecanique  Automatique  Cylindre  Chevaux  Puissance_fisc  Portes  \n",
       "0          1            0       1.6     92.0               4       5  \n",
       "1          0            1       3.0    258.0              16       5  \n",
       "2          0            1       4.0    560.0              47       5  \n",
       "3          1            0       1.3     70.0               5       3  \n",
       "4          1            0       1.4     95.0               5       5  "
      ]
     },
     "execution_count": 75,
     "metadata": {},
     "output_type": "execute_result"
    }
   ],
   "source": [
    "features = df[['Make_v2', 'Model_Det', 'Model_year', 'Mileage', 'Diesel', 'Essence', 'Other_fuel',\n",
    "       'Mecanique', 'Automatique', 'Cylindre', 'Chevaux', 'Puissance_fisc', 'Portes']]\n",
    "features.head()"
   ]
  },
  {
   "cell_type": "code",
   "execution_count": 76,
   "metadata": {},
   "outputs": [
    {
     "name": "stdout",
     "output_type": "stream",
     "text": [
      "Training Features Shape: (133102, 13)\n",
      "Training Labels Shape: (133102,)\n",
      "Testing Features Shape: (33276, 13)\n",
      "Testing Labels Shape: (33276,)\n"
     ]
    }
   ],
   "source": [
    "feature_list = list(features.columns)\n",
    "features = np.array(features)\n",
    "\n",
    "train_features, test_features, train_labels, test_labels = train_test_split(\n",
    "    features, labels, test_size = 0.20, random_state = 1)\n",
    "\n",
    "print('Training Features Shape:', train_features.shape)\n",
    "print('Training Labels Shape:', train_labels.shape)\n",
    "print('Testing Features Shape:', test_features.shape)\n",
    "print('Testing Labels Shape:', test_labels.shape)"
   ]
  },
  {
   "cell_type": "code",
   "execution_count": 77,
   "metadata": {},
   "outputs": [
    {
     "name": "stdout",
     "output_type": "stream",
     "text": [
      "Accuracy: 91.61%\n"
     ]
    }
   ],
   "source": [
    "xgb.fit(train_features, train_labels)\n",
    "old_predictions = predictions\n",
    "predictions = xgb.predict(test_features)\n",
    "print(calc_mape(predictions))"
   ]
  },
  {
   "cell_type": "markdown",
   "metadata": {},
   "source": [
    "Le nombre de porte n'impacte que très peu la précision du modèle"
   ]
  },
  {
   "cell_type": "code",
   "execution_count": 78,
   "metadata": {},
   "outputs": [],
   "source": [
    "result[\"Portes\"] = round(calc_mape_2(old_predictions) - calc_mape_2(predictions), 2)"
   ]
  },
  {
   "cell_type": "markdown",
   "metadata": {},
   "source": [
    "#### Couleur"
   ]
  },
  {
   "cell_type": "code",
   "execution_count": 79,
   "metadata": {},
   "outputs": [],
   "source": [
    "df['Couleur'] = le.fit_transform(df['Couleur'])"
   ]
  },
  {
   "cell_type": "code",
   "execution_count": 80,
   "metadata": {},
   "outputs": [
    {
     "data": {
      "text/html": [
       "<div>\n",
       "<style scoped>\n",
       "    .dataframe tbody tr th:only-of-type {\n",
       "        vertical-align: middle;\n",
       "    }\n",
       "\n",
       "    .dataframe tbody tr th {\n",
       "        vertical-align: top;\n",
       "    }\n",
       "\n",
       "    .dataframe thead th {\n",
       "        text-align: right;\n",
       "    }\n",
       "</style>\n",
       "<table border=\"1\" class=\"dataframe\">\n",
       "  <thead>\n",
       "    <tr style=\"text-align: right;\">\n",
       "      <th></th>\n",
       "      <th>Make_v2</th>\n",
       "      <th>Model_Det</th>\n",
       "      <th>Model_year</th>\n",
       "      <th>Mileage</th>\n",
       "      <th>Diesel</th>\n",
       "      <th>Essence</th>\n",
       "      <th>Other_fuel</th>\n",
       "      <th>Mecanique</th>\n",
       "      <th>Automatique</th>\n",
       "      <th>Cylindre</th>\n",
       "      <th>Chevaux</th>\n",
       "      <th>Puissance_fisc</th>\n",
       "      <th>Couleur</th>\n",
       "    </tr>\n",
       "  </thead>\n",
       "  <tbody>\n",
       "    <tr>\n",
       "      <th>0</th>\n",
       "      <td>30</td>\n",
       "      <td>71</td>\n",
       "      <td>2014</td>\n",
       "      <td>94341</td>\n",
       "      <td>1</td>\n",
       "      <td>0</td>\n",
       "      <td>0</td>\n",
       "      <td>1</td>\n",
       "      <td>0</td>\n",
       "      <td>1.6</td>\n",
       "      <td>92.0</td>\n",
       "      <td>4</td>\n",
       "      <td>2</td>\n",
       "    </tr>\n",
       "    <tr>\n",
       "      <th>1</th>\n",
       "      <td>3</td>\n",
       "      <td>1612</td>\n",
       "      <td>2015</td>\n",
       "      <td>39051</td>\n",
       "      <td>1</td>\n",
       "      <td>0</td>\n",
       "      <td>0</td>\n",
       "      <td>0</td>\n",
       "      <td>1</td>\n",
       "      <td>3.0</td>\n",
       "      <td>258.0</td>\n",
       "      <td>16</td>\n",
       "      <td>10</td>\n",
       "    </tr>\n",
       "    <tr>\n",
       "      <th>2</th>\n",
       "      <td>2</td>\n",
       "      <td>1240</td>\n",
       "      <td>2014</td>\n",
       "      <td>75381</td>\n",
       "      <td>0</td>\n",
       "      <td>1</td>\n",
       "      <td>0</td>\n",
       "      <td>0</td>\n",
       "      <td>1</td>\n",
       "      <td>4.0</td>\n",
       "      <td>560.0</td>\n",
       "      <td>47</td>\n",
       "      <td>8</td>\n",
       "    </tr>\n",
       "    <tr>\n",
       "      <th>3</th>\n",
       "      <td>10</td>\n",
       "      <td>887</td>\n",
       "      <td>2007</td>\n",
       "      <td>92282</td>\n",
       "      <td>0</td>\n",
       "      <td>1</td>\n",
       "      <td>0</td>\n",
       "      <td>1</td>\n",
       "      <td>0</td>\n",
       "      <td>1.3</td>\n",
       "      <td>70.0</td>\n",
       "      <td>5</td>\n",
       "      <td>6</td>\n",
       "    </tr>\n",
       "    <tr>\n",
       "      <th>4</th>\n",
       "      <td>9</td>\n",
       "      <td>1492</td>\n",
       "      <td>2018</td>\n",
       "      <td>10</td>\n",
       "      <td>0</td>\n",
       "      <td>1</td>\n",
       "      <td>0</td>\n",
       "      <td>1</td>\n",
       "      <td>0</td>\n",
       "      <td>1.4</td>\n",
       "      <td>95.0</td>\n",
       "      <td>5</td>\n",
       "      <td>2</td>\n",
       "    </tr>\n",
       "  </tbody>\n",
       "</table>\n",
       "</div>"
      ],
      "text/plain": [
       "   Make_v2  Model_Det  Model_year  Mileage  Diesel  Essence  Other_fuel  \\\n",
       "0       30         71        2014    94341       1        0           0   \n",
       "1        3       1612        2015    39051       1        0           0   \n",
       "2        2       1240        2014    75381       0        1           0   \n",
       "3       10        887        2007    92282       0        1           0   \n",
       "4        9       1492        2018       10       0        1           0   \n",
       "\n",
       "   Mecanique  Automatique  Cylindre  Chevaux  Puissance_fisc  Couleur  \n",
       "0          1            0       1.6     92.0               4        2  \n",
       "1          0            1       3.0    258.0              16       10  \n",
       "2          0            1       4.0    560.0              47        8  \n",
       "3          1            0       1.3     70.0               5        6  \n",
       "4          1            0       1.4     95.0               5        2  "
      ]
     },
     "execution_count": 80,
     "metadata": {},
     "output_type": "execute_result"
    }
   ],
   "source": [
    "features = df[['Make_v2', 'Model_Det', 'Model_year', 'Mileage', 'Diesel', 'Essence', 'Other_fuel',\n",
    "       'Mecanique', 'Automatique', 'Cylindre', 'Chevaux', 'Puissance_fisc', 'Couleur']]\n",
    "features.head()"
   ]
  },
  {
   "cell_type": "code",
   "execution_count": 81,
   "metadata": {},
   "outputs": [
    {
     "name": "stdout",
     "output_type": "stream",
     "text": [
      "Training Features Shape: (133102, 13)\n",
      "Training Labels Shape: (133102,)\n",
      "Testing Features Shape: (33276, 13)\n",
      "Testing Labels Shape: (33276,)\n"
     ]
    }
   ],
   "source": [
    "feature_list = list(features.columns)\n",
    "features = np.array(features)\n",
    "\n",
    "train_features, test_features, train_labels, test_labels = train_test_split(\n",
    "    features, labels, test_size = 0.20, random_state = 1)\n",
    "\n",
    "print('Training Features Shape:', train_features.shape)\n",
    "print('Training Labels Shape:', train_labels.shape)\n",
    "print('Testing Features Shape:', test_features.shape)\n",
    "print('Testing Labels Shape:', test_labels.shape)"
   ]
  },
  {
   "cell_type": "code",
   "execution_count": 82,
   "metadata": {},
   "outputs": [
    {
     "name": "stdout",
     "output_type": "stream",
     "text": [
      "Accuracy: 91.59%\n"
     ]
    }
   ],
   "source": [
    "xgb.fit(train_features, train_labels)\n",
    "old_predictions = predictions\n",
    "predictions = xgb.predict(test_features)\n",
    "print(calc_mape(predictions))"
   ]
  },
  {
   "cell_type": "markdown",
   "metadata": {},
   "source": [
    "Le nombre de porte n'impacte que très peu la précision du modèle"
   ]
  },
  {
   "cell_type": "code",
   "execution_count": 83,
   "metadata": {},
   "outputs": [],
   "source": [
    "result[\"Couleur\"] = round(calc_mape_2(old_predictions) - calc_mape_2(predictions), 2)"
   ]
  },
  {
   "cell_type": "markdown",
   "metadata": {},
   "source": [
    "### Ajout des options"
   ]
  },
  {
   "cell_type": "markdown",
   "metadata": {},
   "source": [
    "#### Nombre d'options"
   ]
  },
  {
   "cell_type": "code",
   "execution_count": 84,
   "metadata": {},
   "outputs": [
    {
     "data": {
      "text/html": [
       "<div>\n",
       "<style scoped>\n",
       "    .dataframe tbody tr th:only-of-type {\n",
       "        vertical-align: middle;\n",
       "    }\n",
       "\n",
       "    .dataframe tbody tr th {\n",
       "        vertical-align: top;\n",
       "    }\n",
       "\n",
       "    .dataframe thead th {\n",
       "        text-align: right;\n",
       "    }\n",
       "</style>\n",
       "<table border=\"1\" class=\"dataframe\">\n",
       "  <thead>\n",
       "    <tr style=\"text-align: right;\">\n",
       "      <th></th>\n",
       "      <th>Make_v2</th>\n",
       "      <th>Model_Det</th>\n",
       "      <th>Model_year</th>\n",
       "      <th>Mileage</th>\n",
       "      <th>Diesel</th>\n",
       "      <th>Essence</th>\n",
       "      <th>Other_fuel</th>\n",
       "      <th>Mecanique</th>\n",
       "      <th>Automatique</th>\n",
       "      <th>Cylindre</th>\n",
       "      <th>Chevaux</th>\n",
       "      <th>Puissance_fisc</th>\n",
       "      <th>Options_nb</th>\n",
       "    </tr>\n",
       "  </thead>\n",
       "  <tbody>\n",
       "    <tr>\n",
       "      <th>0</th>\n",
       "      <td>30</td>\n",
       "      <td>71</td>\n",
       "      <td>2014</td>\n",
       "      <td>94341</td>\n",
       "      <td>1</td>\n",
       "      <td>0</td>\n",
       "      <td>0</td>\n",
       "      <td>1</td>\n",
       "      <td>0</td>\n",
       "      <td>1.6</td>\n",
       "      <td>92.0</td>\n",
       "      <td>4</td>\n",
       "      <td>54</td>\n",
       "    </tr>\n",
       "    <tr>\n",
       "      <th>1</th>\n",
       "      <td>3</td>\n",
       "      <td>1612</td>\n",
       "      <td>2015</td>\n",
       "      <td>39051</td>\n",
       "      <td>1</td>\n",
       "      <td>0</td>\n",
       "      <td>0</td>\n",
       "      <td>0</td>\n",
       "      <td>1</td>\n",
       "      <td>3.0</td>\n",
       "      <td>258.0</td>\n",
       "      <td>16</td>\n",
       "      <td>41</td>\n",
       "    </tr>\n",
       "    <tr>\n",
       "      <th>2</th>\n",
       "      <td>2</td>\n",
       "      <td>1240</td>\n",
       "      <td>2014</td>\n",
       "      <td>75381</td>\n",
       "      <td>0</td>\n",
       "      <td>1</td>\n",
       "      <td>0</td>\n",
       "      <td>0</td>\n",
       "      <td>1</td>\n",
       "      <td>4.0</td>\n",
       "      <td>560.0</td>\n",
       "      <td>47</td>\n",
       "      <td>140</td>\n",
       "    </tr>\n",
       "    <tr>\n",
       "      <th>3</th>\n",
       "      <td>10</td>\n",
       "      <td>887</td>\n",
       "      <td>2007</td>\n",
       "      <td>92282</td>\n",
       "      <td>0</td>\n",
       "      <td>1</td>\n",
       "      <td>0</td>\n",
       "      <td>1</td>\n",
       "      <td>0</td>\n",
       "      <td>1.3</td>\n",
       "      <td>70.0</td>\n",
       "      <td>5</td>\n",
       "      <td>8</td>\n",
       "    </tr>\n",
       "    <tr>\n",
       "      <th>4</th>\n",
       "      <td>9</td>\n",
       "      <td>1492</td>\n",
       "      <td>2018</td>\n",
       "      <td>10</td>\n",
       "      <td>0</td>\n",
       "      <td>1</td>\n",
       "      <td>0</td>\n",
       "      <td>1</td>\n",
       "      <td>0</td>\n",
       "      <td>1.4</td>\n",
       "      <td>95.0</td>\n",
       "      <td>5</td>\n",
       "      <td>24</td>\n",
       "    </tr>\n",
       "  </tbody>\n",
       "</table>\n",
       "</div>"
      ],
      "text/plain": [
       "   Make_v2  Model_Det  Model_year  Mileage  Diesel  Essence  Other_fuel  \\\n",
       "0       30         71        2014    94341       1        0           0   \n",
       "1        3       1612        2015    39051       1        0           0   \n",
       "2        2       1240        2014    75381       0        1           0   \n",
       "3       10        887        2007    92282       0        1           0   \n",
       "4        9       1492        2018       10       0        1           0   \n",
       "\n",
       "   Mecanique  Automatique  Cylindre  Chevaux  Puissance_fisc  Options_nb  \n",
       "0          1            0       1.6     92.0               4          54  \n",
       "1          0            1       3.0    258.0              16          41  \n",
       "2          0            1       4.0    560.0              47         140  \n",
       "3          1            0       1.3     70.0               5           8  \n",
       "4          1            0       1.4     95.0               5          24  "
      ]
     },
     "execution_count": 84,
     "metadata": {},
     "output_type": "execute_result"
    }
   ],
   "source": [
    "features = df[['Make_v2', 'Model_Det', 'Model_year', 'Mileage', 'Diesel', 'Essence', 'Other_fuel',\n",
    "       'Mecanique', 'Automatique', 'Cylindre', 'Chevaux', 'Puissance_fisc', 'Options_nb']]\n",
    "features.head()"
   ]
  },
  {
   "cell_type": "code",
   "execution_count": 85,
   "metadata": {},
   "outputs": [
    {
     "name": "stdout",
     "output_type": "stream",
     "text": [
      "Training Features Shape: (133102, 13)\n",
      "Training Labels Shape: (133102,)\n",
      "Testing Features Shape: (33276, 13)\n",
      "Testing Labels Shape: (33276,)\n"
     ]
    }
   ],
   "source": [
    "feature_list = list(features.columns)\n",
    "features = np.array(features)\n",
    "\n",
    "train_features, test_features, train_labels, test_labels = train_test_split(\n",
    "    features, labels, test_size = 0.20, random_state = 1)\n",
    "\n",
    "print('Training Features Shape:', train_features.shape)\n",
    "print('Training Labels Shape:', train_labels.shape)\n",
    "print('Testing Features Shape:', test_features.shape)\n",
    "print('Testing Labels Shape:', test_labels.shape)"
   ]
  },
  {
   "cell_type": "code",
   "execution_count": 86,
   "metadata": {},
   "outputs": [
    {
     "name": "stdout",
     "output_type": "stream",
     "text": [
      "Accuracy: 91.82%\n"
     ]
    }
   ],
   "source": [
    "xgb.fit(train_features, train_labels)\n",
    "old_predictions = predictions\n",
    "predictions = xgb.predict(test_features)\n",
    "print(calc_mape(predictions))"
   ]
  },
  {
   "cell_type": "markdown",
   "metadata": {},
   "source": [
    "Le nombre d'options n'impacte que très peu la précision du modèle"
   ]
  },
  {
   "cell_type": "code",
   "execution_count": 87,
   "metadata": {},
   "outputs": [],
   "source": [
    "result[\"Options_nb\"] = round(calc_mape_2(old_predictions) - calc_mape_2(predictions), 2)"
   ]
  },
  {
   "cell_type": "markdown",
   "metadata": {},
   "source": [
    "#### Options"
   ]
  },
  {
   "cell_type": "code",
   "execution_count": 88,
   "metadata": {},
   "outputs": [
    {
     "data": {
      "text/html": [
       "<div>\n",
       "<style scoped>\n",
       "    .dataframe tbody tr th:only-of-type {\n",
       "        vertical-align: middle;\n",
       "    }\n",
       "\n",
       "    .dataframe tbody tr th {\n",
       "        vertical-align: top;\n",
       "    }\n",
       "\n",
       "    .dataframe thead th {\n",
       "        text-align: right;\n",
       "    }\n",
       "</style>\n",
       "<table border=\"1\" class=\"dataframe\">\n",
       "  <thead>\n",
       "    <tr style=\"text-align: right;\">\n",
       "      <th></th>\n",
       "      <th>Make_v2</th>\n",
       "      <th>Model_Det</th>\n",
       "      <th>Model_year</th>\n",
       "      <th>Mileage</th>\n",
       "      <th>Diesel</th>\n",
       "      <th>Essence</th>\n",
       "      <th>Other_fuel</th>\n",
       "      <th>Mecanique</th>\n",
       "      <th>Automatique</th>\n",
       "      <th>Cylindre</th>\n",
       "      <th>...</th>\n",
       "      <th>option_21</th>\n",
       "      <th>option_22</th>\n",
       "      <th>option_23</th>\n",
       "      <th>option_24</th>\n",
       "      <th>option_25</th>\n",
       "      <th>option_26</th>\n",
       "      <th>option_27</th>\n",
       "      <th>option_28</th>\n",
       "      <th>option_29</th>\n",
       "      <th>option_30</th>\n",
       "    </tr>\n",
       "  </thead>\n",
       "  <tbody>\n",
       "    <tr>\n",
       "      <th>0</th>\n",
       "      <td>30</td>\n",
       "      <td>71</td>\n",
       "      <td>2014</td>\n",
       "      <td>94341</td>\n",
       "      <td>1</td>\n",
       "      <td>0</td>\n",
       "      <td>0</td>\n",
       "      <td>1</td>\n",
       "      <td>0</td>\n",
       "      <td>1.6</td>\n",
       "      <td>...</td>\n",
       "      <td>1</td>\n",
       "      <td>1</td>\n",
       "      <td>0</td>\n",
       "      <td>1</td>\n",
       "      <td>1</td>\n",
       "      <td>1</td>\n",
       "      <td>1</td>\n",
       "      <td>1</td>\n",
       "      <td>1</td>\n",
       "      <td>0</td>\n",
       "    </tr>\n",
       "    <tr>\n",
       "      <th>1</th>\n",
       "      <td>3</td>\n",
       "      <td>1612</td>\n",
       "      <td>2015</td>\n",
       "      <td>39051</td>\n",
       "      <td>1</td>\n",
       "      <td>0</td>\n",
       "      <td>0</td>\n",
       "      <td>0</td>\n",
       "      <td>1</td>\n",
       "      <td>3.0</td>\n",
       "      <td>...</td>\n",
       "      <td>0</td>\n",
       "      <td>0</td>\n",
       "      <td>0</td>\n",
       "      <td>0</td>\n",
       "      <td>1</td>\n",
       "      <td>1</td>\n",
       "      <td>0</td>\n",
       "      <td>0</td>\n",
       "      <td>1</td>\n",
       "      <td>1</td>\n",
       "    </tr>\n",
       "    <tr>\n",
       "      <th>2</th>\n",
       "      <td>2</td>\n",
       "      <td>1240</td>\n",
       "      <td>2014</td>\n",
       "      <td>75381</td>\n",
       "      <td>0</td>\n",
       "      <td>1</td>\n",
       "      <td>0</td>\n",
       "      <td>0</td>\n",
       "      <td>1</td>\n",
       "      <td>4.0</td>\n",
       "      <td>...</td>\n",
       "      <td>1</td>\n",
       "      <td>1</td>\n",
       "      <td>0</td>\n",
       "      <td>1</td>\n",
       "      <td>1</td>\n",
       "      <td>1</td>\n",
       "      <td>1</td>\n",
       "      <td>1</td>\n",
       "      <td>1</td>\n",
       "      <td>1</td>\n",
       "    </tr>\n",
       "    <tr>\n",
       "      <th>3</th>\n",
       "      <td>10</td>\n",
       "      <td>887</td>\n",
       "      <td>2007</td>\n",
       "      <td>92282</td>\n",
       "      <td>0</td>\n",
       "      <td>1</td>\n",
       "      <td>0</td>\n",
       "      <td>1</td>\n",
       "      <td>0</td>\n",
       "      <td>1.3</td>\n",
       "      <td>...</td>\n",
       "      <td>0</td>\n",
       "      <td>0</td>\n",
       "      <td>0</td>\n",
       "      <td>0</td>\n",
       "      <td>0</td>\n",
       "      <td>1</td>\n",
       "      <td>0</td>\n",
       "      <td>1</td>\n",
       "      <td>0</td>\n",
       "      <td>1</td>\n",
       "    </tr>\n",
       "    <tr>\n",
       "      <th>4</th>\n",
       "      <td>9</td>\n",
       "      <td>1492</td>\n",
       "      <td>2018</td>\n",
       "      <td>10</td>\n",
       "      <td>0</td>\n",
       "      <td>1</td>\n",
       "      <td>0</td>\n",
       "      <td>1</td>\n",
       "      <td>0</td>\n",
       "      <td>1.4</td>\n",
       "      <td>...</td>\n",
       "      <td>0</td>\n",
       "      <td>0</td>\n",
       "      <td>0</td>\n",
       "      <td>1</td>\n",
       "      <td>1</td>\n",
       "      <td>0</td>\n",
       "      <td>0</td>\n",
       "      <td>1</td>\n",
       "      <td>0</td>\n",
       "      <td>1</td>\n",
       "    </tr>\n",
       "  </tbody>\n",
       "</table>\n",
       "<p>5 rows × 43 columns</p>\n",
       "</div>"
      ],
      "text/plain": [
       "   Make_v2  Model_Det  Model_year  Mileage  Diesel  Essence  Other_fuel  \\\n",
       "0       30         71        2014    94341       1        0           0   \n",
       "1        3       1612        2015    39051       1        0           0   \n",
       "2        2       1240        2014    75381       0        1           0   \n",
       "3       10        887        2007    92282       0        1           0   \n",
       "4        9       1492        2018       10       0        1           0   \n",
       "\n",
       "   Mecanique  Automatique  Cylindre    ...      option_21  option_22  \\\n",
       "0          1            0       1.6    ...              1          1   \n",
       "1          0            1       3.0    ...              0          0   \n",
       "2          0            1       4.0    ...              1          1   \n",
       "3          1            0       1.3    ...              0          0   \n",
       "4          1            0       1.4    ...              0          0   \n",
       "\n",
       "   option_23  option_24  option_25  option_26  option_27  option_28  \\\n",
       "0          0          1          1          1          1          1   \n",
       "1          0          0          1          1          0          0   \n",
       "2          0          1          1          1          1          1   \n",
       "3          0          0          0          1          0          1   \n",
       "4          0          1          1          0          0          1   \n",
       "\n",
       "   option_29  option_30  \n",
       "0          1          0  \n",
       "1          1          1  \n",
       "2          1          1  \n",
       "3          0          1  \n",
       "4          0          1  \n",
       "\n",
       "[5 rows x 43 columns]"
      ]
     },
     "execution_count": 88,
     "metadata": {},
     "output_type": "execute_result"
    }
   ],
   "source": [
    "features = df[['Make_v2', 'Model_Det', 'Model_year', 'Mileage', 'Diesel', 'Essence', 'Other_fuel',\n",
    "       'Mecanique', 'Automatique', 'Cylindre', 'Chevaux', 'Puissance_fisc', 'option_0',\n",
    "       'option_1', 'option_2', 'option_3', 'option_4', 'option_5', 'option_6', 'option_7', 'option_8',\n",
    "       'option_9', 'option_10', 'option_11', 'option_12', 'option_13', 'option_14', 'option_15',\n",
    "       'option_16', 'option_17', 'option_18', 'option_19', 'option_20', 'option_21', 'option_22', 'option_23',\n",
    "       'option_24', 'option_25', 'option_26', 'option_27', 'option_28', 'option_29', 'option_30']]\n",
    "features.head()"
   ]
  },
  {
   "cell_type": "code",
   "execution_count": 89,
   "metadata": {},
   "outputs": [
    {
     "name": "stdout",
     "output_type": "stream",
     "text": [
      "Training Features Shape: (133102, 43)\n",
      "Training Labels Shape: (133102,)\n",
      "Testing Features Shape: (33276, 43)\n",
      "Testing Labels Shape: (33276,)\n"
     ]
    }
   ],
   "source": [
    "feature_list = list(features.columns)\n",
    "features = np.array(features)\n",
    "\n",
    "train_features, test_features, train_labels, test_labels = train_test_split(\n",
    "    features, labels, test_size = 0.20, random_state = 1)\n",
    "\n",
    "print('Training Features Shape:', train_features.shape)\n",
    "print('Training Labels Shape:', train_labels.shape)\n",
    "print('Testing Features Shape:', test_features.shape)\n",
    "print('Testing Labels Shape:', test_labels.shape)"
   ]
  },
  {
   "cell_type": "code",
   "execution_count": 90,
   "metadata": {},
   "outputs": [
    {
     "name": "stdout",
     "output_type": "stream",
     "text": [
      "Accuracy: 91.85%\n"
     ]
    }
   ],
   "source": [
    "xgb.fit(train_features, train_labels)\n",
    "old_predictions = predictions\n",
    "predictions = xgb.predict(test_features)\n",
    "print(calc_mape(predictions))"
   ]
  },
  {
   "cell_type": "markdown",
   "metadata": {},
   "source": [
    "Les options n'impacte que très peu la précision du modèle"
   ]
  },
  {
   "cell_type": "code",
   "execution_count": 91,
   "metadata": {},
   "outputs": [],
   "source": [
    "result[\"Options\"] = round(calc_mape_2(old_predictions) - calc_mape_2(predictions), 2)"
   ]
  },
  {
   "cell_type": "markdown",
   "metadata": {},
   "source": [
    "### Ajout du prix neuf"
   ]
  },
  {
   "cell_type": "code",
   "execution_count": 92,
   "metadata": {},
   "outputs": [
    {
     "data": {
      "text/html": [
       "<div>\n",
       "<style scoped>\n",
       "    .dataframe tbody tr th:only-of-type {\n",
       "        vertical-align: middle;\n",
       "    }\n",
       "\n",
       "    .dataframe tbody tr th {\n",
       "        vertical-align: top;\n",
       "    }\n",
       "\n",
       "    .dataframe thead th {\n",
       "        text-align: right;\n",
       "    }\n",
       "</style>\n",
       "<table border=\"1\" class=\"dataframe\">\n",
       "  <thead>\n",
       "    <tr style=\"text-align: right;\">\n",
       "      <th></th>\n",
       "      <th>Make_v2</th>\n",
       "      <th>Model_Det</th>\n",
       "      <th>Model_year</th>\n",
       "      <th>Mileage</th>\n",
       "      <th>Diesel</th>\n",
       "      <th>Essence</th>\n",
       "      <th>Other_fuel</th>\n",
       "      <th>Mecanique</th>\n",
       "      <th>Automatique</th>\n",
       "      <th>Cylindre</th>\n",
       "      <th>Chevaux</th>\n",
       "      <th>Puissance_fisc</th>\n",
       "      <th>Prix_neuf</th>\n",
       "    </tr>\n",
       "  </thead>\n",
       "  <tbody>\n",
       "    <tr>\n",
       "      <th>0</th>\n",
       "      <td>30</td>\n",
       "      <td>71</td>\n",
       "      <td>2014</td>\n",
       "      <td>94341</td>\n",
       "      <td>1</td>\n",
       "      <td>0</td>\n",
       "      <td>0</td>\n",
       "      <td>1</td>\n",
       "      <td>0</td>\n",
       "      <td>1.6</td>\n",
       "      <td>92.0</td>\n",
       "      <td>4</td>\n",
       "      <td>21650.0</td>\n",
       "    </tr>\n",
       "    <tr>\n",
       "      <th>1</th>\n",
       "      <td>3</td>\n",
       "      <td>1612</td>\n",
       "      <td>2015</td>\n",
       "      <td>39051</td>\n",
       "      <td>1</td>\n",
       "      <td>0</td>\n",
       "      <td>0</td>\n",
       "      <td>0</td>\n",
       "      <td>1</td>\n",
       "      <td>3.0</td>\n",
       "      <td>258.0</td>\n",
       "      <td>16</td>\n",
       "      <td>85675.0</td>\n",
       "    </tr>\n",
       "    <tr>\n",
       "      <th>2</th>\n",
       "      <td>2</td>\n",
       "      <td>1240</td>\n",
       "      <td>2014</td>\n",
       "      <td>75381</td>\n",
       "      <td>0</td>\n",
       "      <td>1</td>\n",
       "      <td>0</td>\n",
       "      <td>0</td>\n",
       "      <td>1</td>\n",
       "      <td>4.0</td>\n",
       "      <td>560.0</td>\n",
       "      <td>47</td>\n",
       "      <td>NaN</td>\n",
       "    </tr>\n",
       "    <tr>\n",
       "      <th>3</th>\n",
       "      <td>10</td>\n",
       "      <td>887</td>\n",
       "      <td>2007</td>\n",
       "      <td>92282</td>\n",
       "      <td>0</td>\n",
       "      <td>1</td>\n",
       "      <td>0</td>\n",
       "      <td>1</td>\n",
       "      <td>0</td>\n",
       "      <td>1.3</td>\n",
       "      <td>70.0</td>\n",
       "      <td>5</td>\n",
       "      <td>NaN</td>\n",
       "    </tr>\n",
       "    <tr>\n",
       "      <th>4</th>\n",
       "      <td>9</td>\n",
       "      <td>1492</td>\n",
       "      <td>2018</td>\n",
       "      <td>10</td>\n",
       "      <td>0</td>\n",
       "      <td>1</td>\n",
       "      <td>0</td>\n",
       "      <td>1</td>\n",
       "      <td>0</td>\n",
       "      <td>1.4</td>\n",
       "      <td>95.0</td>\n",
       "      <td>5</td>\n",
       "      <td>13490.0</td>\n",
       "    </tr>\n",
       "  </tbody>\n",
       "</table>\n",
       "</div>"
      ],
      "text/plain": [
       "   Make_v2  Model_Det  Model_year  Mileage  Diesel  Essence  Other_fuel  \\\n",
       "0       30         71        2014    94341       1        0           0   \n",
       "1        3       1612        2015    39051       1        0           0   \n",
       "2        2       1240        2014    75381       0        1           0   \n",
       "3       10        887        2007    92282       0        1           0   \n",
       "4        9       1492        2018       10       0        1           0   \n",
       "\n",
       "   Mecanique  Automatique  Cylindre  Chevaux  Puissance_fisc  Prix_neuf  \n",
       "0          1            0       1.6     92.0               4    21650.0  \n",
       "1          0            1       3.0    258.0              16    85675.0  \n",
       "2          0            1       4.0    560.0              47        NaN  \n",
       "3          1            0       1.3     70.0               5        NaN  \n",
       "4          1            0       1.4     95.0               5    13490.0  "
      ]
     },
     "execution_count": 92,
     "metadata": {},
     "output_type": "execute_result"
    }
   ],
   "source": [
    "features = df[['Make_v2', 'Model_Det', 'Model_year', 'Mileage', 'Diesel', 'Essence', 'Other_fuel',\n",
    "       'Mecanique', 'Automatique', 'Cylindre', 'Chevaux', 'Puissance_fisc', 'Prix_neuf']]\n",
    "features.head()"
   ]
  },
  {
   "cell_type": "code",
   "execution_count": 93,
   "metadata": {},
   "outputs": [
    {
     "name": "stdout",
     "output_type": "stream",
     "text": [
      "Training Features Shape: (133102, 13)\n",
      "Training Labels Shape: (133102,)\n",
      "Testing Features Shape: (33276, 13)\n",
      "Testing Labels Shape: (33276,)\n"
     ]
    }
   ],
   "source": [
    "feature_list = list(features.columns)\n",
    "features = np.array(features)\n",
    "\n",
    "train_features, test_features, train_labels, test_labels = train_test_split(\n",
    "    features, labels, test_size = 0.20, random_state = 1)\n",
    "\n",
    "print('Training Features Shape:', train_features.shape)\n",
    "print('Training Labels Shape:', train_labels.shape)\n",
    "print('Testing Features Shape:', test_features.shape)\n",
    "print('Testing Labels Shape:', test_labels.shape)"
   ]
  },
  {
   "cell_type": "code",
   "execution_count": 94,
   "metadata": {},
   "outputs": [
    {
     "name": "stdout",
     "output_type": "stream",
     "text": [
      "Accuracy: 91.6%\n"
     ]
    }
   ],
   "source": [
    "xgb.fit(train_features, train_labels)\n",
    "old_predictions = predictions\n",
    "predictions = xgb.predict(test_features)\n",
    "print(calc_mape(predictions))"
   ]
  },
  {
   "cell_type": "markdown",
   "metadata": {},
   "source": [
    "Le prix neuf améliore légèrement la précision du modèle"
   ]
  },
  {
   "cell_type": "code",
   "execution_count": 95,
   "metadata": {},
   "outputs": [],
   "source": [
    "result[\"Prix_neuf\"] = round(calc_mape_2(old_predictions) - calc_mape_2(predictions), 2)"
   ]
  },
  {
   "cell_type": "markdown",
   "metadata": {},
   "source": [
    "### Résultat des features séléctionnés"
   ]
  },
  {
   "cell_type": "markdown",
   "metadata": {},
   "source": [
    "#### Les features supplémentaires que l'on garde sont :\n",
    "- Make_v2\n",
    "- Model_Det\n",
    "- Model_year\n",
    "- Mileage\n",
    "- Diesel\n",
    "- Essence\n",
    "- Other_fuel\n",
    "- Mecanique\n",
    "- Automatique\n",
    "- Cylindre\n",
    "- Chevaux\n",
    "- Puissance_fisc\n",
    "- Prix_neuf"
   ]
  },
  {
   "cell_type": "markdown",
   "metadata": {},
   "source": [
    "### Modele final avec la première méthode"
   ]
  },
  {
   "cell_type": "code",
   "execution_count": 96,
   "metadata": {},
   "outputs": [
    {
     "data": {
      "text/html": [
       "<div>\n",
       "<style scoped>\n",
       "    .dataframe tbody tr th:only-of-type {\n",
       "        vertical-align: middle;\n",
       "    }\n",
       "\n",
       "    .dataframe tbody tr th {\n",
       "        vertical-align: top;\n",
       "    }\n",
       "\n",
       "    .dataframe thead th {\n",
       "        text-align: right;\n",
       "    }\n",
       "</style>\n",
       "<table border=\"1\" class=\"dataframe\">\n",
       "  <thead>\n",
       "    <tr style=\"text-align: right;\">\n",
       "      <th></th>\n",
       "      <th>Make_v2</th>\n",
       "      <th>Model_Det</th>\n",
       "      <th>Model_year</th>\n",
       "      <th>Mileage</th>\n",
       "      <th>Diesel</th>\n",
       "      <th>Essence</th>\n",
       "      <th>Other_fuel</th>\n",
       "      <th>Mecanique</th>\n",
       "      <th>Automatique</th>\n",
       "      <th>Cylindre</th>\n",
       "      <th>Chevaux</th>\n",
       "      <th>Puissance_fisc</th>\n",
       "      <th>Prix_neuf</th>\n",
       "    </tr>\n",
       "  </thead>\n",
       "  <tbody>\n",
       "    <tr>\n",
       "      <th>0</th>\n",
       "      <td>30</td>\n",
       "      <td>71</td>\n",
       "      <td>2014</td>\n",
       "      <td>94341</td>\n",
       "      <td>1</td>\n",
       "      <td>0</td>\n",
       "      <td>0</td>\n",
       "      <td>1</td>\n",
       "      <td>0</td>\n",
       "      <td>1.6</td>\n",
       "      <td>92.0</td>\n",
       "      <td>4</td>\n",
       "      <td>21650.0</td>\n",
       "    </tr>\n",
       "    <tr>\n",
       "      <th>1</th>\n",
       "      <td>3</td>\n",
       "      <td>1612</td>\n",
       "      <td>2015</td>\n",
       "      <td>39051</td>\n",
       "      <td>1</td>\n",
       "      <td>0</td>\n",
       "      <td>0</td>\n",
       "      <td>0</td>\n",
       "      <td>1</td>\n",
       "      <td>3.0</td>\n",
       "      <td>258.0</td>\n",
       "      <td>16</td>\n",
       "      <td>85675.0</td>\n",
       "    </tr>\n",
       "    <tr>\n",
       "      <th>2</th>\n",
       "      <td>2</td>\n",
       "      <td>1240</td>\n",
       "      <td>2014</td>\n",
       "      <td>75381</td>\n",
       "      <td>0</td>\n",
       "      <td>1</td>\n",
       "      <td>0</td>\n",
       "      <td>0</td>\n",
       "      <td>1</td>\n",
       "      <td>4.0</td>\n",
       "      <td>560.0</td>\n",
       "      <td>47</td>\n",
       "      <td>NaN</td>\n",
       "    </tr>\n",
       "    <tr>\n",
       "      <th>3</th>\n",
       "      <td>10</td>\n",
       "      <td>887</td>\n",
       "      <td>2007</td>\n",
       "      <td>92282</td>\n",
       "      <td>0</td>\n",
       "      <td>1</td>\n",
       "      <td>0</td>\n",
       "      <td>1</td>\n",
       "      <td>0</td>\n",
       "      <td>1.3</td>\n",
       "      <td>70.0</td>\n",
       "      <td>5</td>\n",
       "      <td>NaN</td>\n",
       "    </tr>\n",
       "    <tr>\n",
       "      <th>4</th>\n",
       "      <td>9</td>\n",
       "      <td>1492</td>\n",
       "      <td>2018</td>\n",
       "      <td>10</td>\n",
       "      <td>0</td>\n",
       "      <td>1</td>\n",
       "      <td>0</td>\n",
       "      <td>1</td>\n",
       "      <td>0</td>\n",
       "      <td>1.4</td>\n",
       "      <td>95.0</td>\n",
       "      <td>5</td>\n",
       "      <td>13490.0</td>\n",
       "    </tr>\n",
       "  </tbody>\n",
       "</table>\n",
       "</div>"
      ],
      "text/plain": [
       "   Make_v2  Model_Det  Model_year  Mileage  Diesel  Essence  Other_fuel  \\\n",
       "0       30         71        2014    94341       1        0           0   \n",
       "1        3       1612        2015    39051       1        0           0   \n",
       "2        2       1240        2014    75381       0        1           0   \n",
       "3       10        887        2007    92282       0        1           0   \n",
       "4        9       1492        2018       10       0        1           0   \n",
       "\n",
       "   Mecanique  Automatique  Cylindre  Chevaux  Puissance_fisc  Prix_neuf  \n",
       "0          1            0       1.6     92.0               4    21650.0  \n",
       "1          0            1       3.0    258.0              16    85675.0  \n",
       "2          0            1       4.0    560.0              47        NaN  \n",
       "3          1            0       1.3     70.0               5        NaN  \n",
       "4          1            0       1.4     95.0               5    13490.0  "
      ]
     },
     "execution_count": 96,
     "metadata": {},
     "output_type": "execute_result"
    }
   ],
   "source": [
    "features = df[['Make_v2', 'Model_Det', 'Model_year', 'Mileage', 'Diesel', 'Essence', 'Other_fuel',\n",
    "       'Mecanique', 'Automatique', 'Cylindre', 'Chevaux', 'Puissance_fisc', 'Prix_neuf']]\n",
    "features.head()"
   ]
  },
  {
   "cell_type": "code",
   "execution_count": 97,
   "metadata": {},
   "outputs": [
    {
     "name": "stdout",
     "output_type": "stream",
     "text": [
      "Training Features Shape: (133102, 13)\n",
      "Training Labels Shape: (133102,)\n",
      "Testing Features Shape: (33276, 13)\n",
      "Testing Labels Shape: (33276,)\n"
     ]
    }
   ],
   "source": [
    "feature_list = list(features.columns)\n",
    "features = np.array(features)\n",
    "\n",
    "train_features, test_features, train_labels, test_labels = train_test_split(\n",
    "    features, labels, test_size = 0.20, random_state = 1)\n",
    "\n",
    "print('Training Features Shape:', train_features.shape)\n",
    "print('Training Labels Shape:', train_labels.shape)\n",
    "print('Testing Features Shape:', test_features.shape)\n",
    "print('Testing Labels Shape:', test_labels.shape)"
   ]
  },
  {
   "cell_type": "code",
   "execution_count": 98,
   "metadata": {},
   "outputs": [
    {
     "name": "stdout",
     "output_type": "stream",
     "text": [
      "Accuracy: 91.6%\n"
     ]
    }
   ],
   "source": [
    "xgb.fit(train_features, train_labels)\n",
    "predictions = xgb.predict(test_features)\n",
    "print(calc_mape(predictions))"
   ]
  },
  {
   "cell_type": "markdown",
   "metadata": {},
   "source": [
    "## Amelioration du model - Methode 2"
   ]
  },
  {
   "cell_type": "code",
   "execution_count": 99,
   "metadata": {},
   "outputs": [],
   "source": [
    "from xgboost import plot_importance\n",
    "from sklearn.metrics import accuracy_score\n",
    "\n",
    "from matplotlib import pyplot\n",
    "%matplotlib inline"
   ]
  },
  {
   "cell_type": "code",
   "execution_count": 100,
   "metadata": {},
   "outputs": [],
   "source": [
    "labels = np.array(df['Price'])"
   ]
  },
  {
   "cell_type": "code",
   "execution_count": 101,
   "metadata": {},
   "outputs": [],
   "source": [
    "features = df.drop(['Price', 'Online', 'Fuel', 'Gearbox', 'Version', 'Version_adj', 'Options'], axis=1)"
   ]
  },
  {
   "cell_type": "code",
   "execution_count": 102,
   "metadata": {},
   "outputs": [
    {
     "name": "stdout",
     "output_type": "stream",
     "text": [
      "Training Features Shape: (133102, 61)\n",
      "Training Labels Shape: (133102,)\n",
      "Testing Features Shape: (33276, 61)\n",
      "Testing Labels Shape: (33276,)\n"
     ]
    }
   ],
   "source": [
    "train_features, test_features, train_labels, test_labels = train_test_split(\n",
    "    features, labels, test_size = 0.20, random_state = 1)\n",
    "\n",
    "print('Training Features Shape:', train_features.shape)\n",
    "print('Training Labels Shape:', train_labels.shape)\n",
    "print('Testing Features Shape:', test_features.shape)\n",
    "print('Testing Labels Shape:', test_labels.shape)"
   ]
  },
  {
   "cell_type": "code",
   "execution_count": 103,
   "metadata": {},
   "outputs": [
    {
     "data": {
      "text/plain": [
       "XGBRegressor(base_score=0.5, booster='gbtree', colsample_bylevel=1,\n",
       "       colsample_bynode=1, colsample_bytree=1, gamma=0, gpu_id=-1,\n",
       "       importance_type='gain', interaction_constraints='',\n",
       "       learning_rate=0.300000012, max_delta_step=0, max_depth=6,\n",
       "       min_child_weight=1, missing=nan, monotone_constraints='()',\n",
       "       n_estimators=1000, n_jobs=0, num_parallel_tree=1,\n",
       "       objective='reg:squarederror', random_state=1, reg_alpha=0,\n",
       "       reg_lambda=1, scale_pos_weight=1, seed=1, subsample=1,\n",
       "       tree_method='exact', validate_parameters=1, verbosity=None)"
      ]
     },
     "execution_count": 103,
     "metadata": {},
     "output_type": "execute_result"
    }
   ],
   "source": [
    "xgb.fit(train_features, train_labels)"
   ]
  },
  {
   "cell_type": "code",
   "execution_count": 104,
   "metadata": {
    "scrolled": true
   },
   "outputs": [],
   "source": [
    "features_importance = xgb.get_booster().get_score(importance_type='weight')"
   ]
  },
  {
   "cell_type": "code",
   "execution_count": 105,
   "metadata": {},
   "outputs": [],
   "source": [
    "features_importance = sorted(features_importance.items(), key=lambda x: x[1], reverse=True)"
   ]
  },
  {
   "cell_type": "code",
   "execution_count": 106,
   "metadata": {},
   "outputs": [
    {
     "name": "stdout",
     "output_type": "stream",
     "text": [
      "[('Mileage', 7984), ('Usure', 5282), ('Options_nb', 4760), ('Prix_neuf', 3684), ('Chevaux', 3636), ('Model_year', 2760), ('Puissance_fisc', 2732), ('Model', 2676), ('Make', 2646), ('Cylindre', 2589), ('Model_Det', 2295), ('Couleur', 1722), ('Génération', 984), ('Portes', 689), ('Mecanique', 653), ('Make_v2', 427), ('Diesel', 315), ('option_31', 306), ('option_2', 302), ('option_0', 267), ('option_30', 262), ('option_37', 262), ('option_34', 254), ('option_35', 249), ('option_33', 248), ('option_32', 248), ('option_39', 230), ('option_20', 220), ('option_12', 219), ('option_17', 218), ('option_3', 216), ('option_28', 205), ('option_9', 192), ('option_7', 191), ('option_10', 190), ('option_1', 189), ('option_14', 188), ('option_6', 183), ('option_8', 180), ('option_24', 177), ('option_4', 176), ('option_26', 176), ('option_11', 175), ('option_29', 174), ('option_36', 170), ('option_19', 170), ('option_16', 169), ('option_15', 168), ('option_18', 161), ('option_21', 155), ('option_23', 152), ('Essence', 146), ('option_13', 137), ('option_5', 134), ('option_25', 126), ('Other_fuel', 97), ('option_27', 93), ('option_38', 86), ('option_22', 64)]\n"
     ]
    }
   ],
   "source": [
    "print(features_importance)"
   ]
  },
  {
   "cell_type": "markdown",
   "metadata": {},
   "source": [
    "On garde les features > 1000"
   ]
  },
  {
   "cell_type": "code",
   "execution_count": 107,
   "metadata": {},
   "outputs": [],
   "source": [
    "features_imp = [x[0] for x in features_importance if x[1] > 500]"
   ]
  },
  {
   "cell_type": "code",
   "execution_count": 108,
   "metadata": {},
   "outputs": [
    {
     "name": "stdout",
     "output_type": "stream",
     "text": [
      "['Mileage', 'Usure', 'Options_nb', 'Prix_neuf', 'Chevaux', 'Model_year', 'Puissance_fisc', 'Model', 'Make', 'Cylindre', 'Model_Det', 'Couleur', 'Génération', 'Portes', 'Mecanique']\n"
     ]
    }
   ],
   "source": [
    "print(features_imp)"
   ]
  },
  {
   "cell_type": "markdown",
   "metadata": {},
   "source": [
    "### Modele final avec la seconde méthode"
   ]
  },
  {
   "cell_type": "code",
   "execution_count": 109,
   "metadata": {},
   "outputs": [
    {
     "data": {
      "text/html": [
       "<div>\n",
       "<style scoped>\n",
       "    .dataframe tbody tr th:only-of-type {\n",
       "        vertical-align: middle;\n",
       "    }\n",
       "\n",
       "    .dataframe tbody tr th {\n",
       "        vertical-align: top;\n",
       "    }\n",
       "\n",
       "    .dataframe thead th {\n",
       "        text-align: right;\n",
       "    }\n",
       "</style>\n",
       "<table border=\"1\" class=\"dataframe\">\n",
       "  <thead>\n",
       "    <tr style=\"text-align: right;\">\n",
       "      <th></th>\n",
       "      <th>Mileage</th>\n",
       "      <th>Usure</th>\n",
       "      <th>Options_nb</th>\n",
       "      <th>Prix_neuf</th>\n",
       "      <th>Chevaux</th>\n",
       "      <th>Model_year</th>\n",
       "      <th>Puissance_fisc</th>\n",
       "      <th>Model</th>\n",
       "      <th>Make</th>\n",
       "      <th>Cylindre</th>\n",
       "      <th>Couleur</th>\n",
       "      <th>Génération</th>\n",
       "      <th>Portes</th>\n",
       "      <th>Mecanique</th>\n",
       "    </tr>\n",
       "  </thead>\n",
       "  <tbody>\n",
       "    <tr>\n",
       "      <th>0</th>\n",
       "      <td>94341</td>\n",
       "      <td>23585</td>\n",
       "      <td>54</td>\n",
       "      <td>21650.0</td>\n",
       "      <td>92.0</td>\n",
       "      <td>2014</td>\n",
       "      <td>4</td>\n",
       "      <td>34</td>\n",
       "      <td>59</td>\n",
       "      <td>1.6</td>\n",
       "      <td>2</td>\n",
       "      <td>1</td>\n",
       "      <td>5</td>\n",
       "      <td>1</td>\n",
       "    </tr>\n",
       "    <tr>\n",
       "      <th>1</th>\n",
       "      <td>39051</td>\n",
       "      <td>13017</td>\n",
       "      <td>41</td>\n",
       "      <td>85675.0</td>\n",
       "      <td>258.0</td>\n",
       "      <td>2015</td>\n",
       "      <td>16</td>\n",
       "      <td>716</td>\n",
       "      <td>9</td>\n",
       "      <td>3.0</td>\n",
       "      <td>10</td>\n",
       "      <td>2</td>\n",
       "      <td>5</td>\n",
       "      <td>0</td>\n",
       "    </tr>\n",
       "    <tr>\n",
       "      <th>2</th>\n",
       "      <td>75381</td>\n",
       "      <td>18845</td>\n",
       "      <td>140</td>\n",
       "      <td>NaN</td>\n",
       "      <td>560.0</td>\n",
       "      <td>2014</td>\n",
       "      <td>47</td>\n",
       "      <td>558</td>\n",
       "      <td>5</td>\n",
       "      <td>4.0</td>\n",
       "      <td>8</td>\n",
       "      <td>3</td>\n",
       "      <td>5</td>\n",
       "      <td>0</td>\n",
       "    </tr>\n",
       "    <tr>\n",
       "      <th>3</th>\n",
       "      <td>92282</td>\n",
       "      <td>8389</td>\n",
       "      <td>8</td>\n",
       "      <td>NaN</td>\n",
       "      <td>70.0</td>\n",
       "      <td>2007</td>\n",
       "      <td>5</td>\n",
       "      <td>397</td>\n",
       "      <td>28</td>\n",
       "      <td>1.3</td>\n",
       "      <td>6</td>\n",
       "      <td>1</td>\n",
       "      <td>3</td>\n",
       "      <td>1</td>\n",
       "    </tr>\n",
       "    <tr>\n",
       "      <th>4</th>\n",
       "      <td>10</td>\n",
       "      <td>10</td>\n",
       "      <td>24</td>\n",
       "      <td>13490.0</td>\n",
       "      <td>95.0</td>\n",
       "      <td>2018</td>\n",
       "      <td>5</td>\n",
       "      <td>652</td>\n",
       "      <td>26</td>\n",
       "      <td>1.4</td>\n",
       "      <td>2</td>\n",
       "      <td>2</td>\n",
       "      <td>5</td>\n",
       "      <td>1</td>\n",
       "    </tr>\n",
       "  </tbody>\n",
       "</table>\n",
       "</div>"
      ],
      "text/plain": [
       "   Mileage  Usure  Options_nb  Prix_neuf  Chevaux  Model_year  Puissance_fisc  \\\n",
       "0    94341  23585          54    21650.0     92.0        2014               4   \n",
       "1    39051  13017          41    85675.0    258.0        2015              16   \n",
       "2    75381  18845         140        NaN    560.0        2014              47   \n",
       "3    92282   8389           8        NaN     70.0        2007               5   \n",
       "4       10     10          24    13490.0     95.0        2018               5   \n",
       "\n",
       "   Model  Make  Cylindre  Couleur  Génération  Portes  Mecanique  \n",
       "0     34    59       1.6        2           1       5          1  \n",
       "1    716     9       3.0       10           2       5          0  \n",
       "2    558     5       4.0        8           3       5          0  \n",
       "3    397    28       1.3        6           1       3          1  \n",
       "4    652    26       1.4        2           2       5          1  "
      ]
     },
     "execution_count": 109,
     "metadata": {},
     "output_type": "execute_result"
    }
   ],
   "source": [
    "features = df[features_imp].drop(['Model_Det'], axis=1)\n",
    "features.head()"
   ]
  },
  {
   "cell_type": "code",
   "execution_count": 110,
   "metadata": {},
   "outputs": [
    {
     "name": "stdout",
     "output_type": "stream",
     "text": [
      "Training Features Shape: (133102, 14)\n",
      "Training Labels Shape: (133102,)\n",
      "Testing Features Shape: (33276, 14)\n",
      "Testing Labels Shape: (33276,)\n"
     ]
    }
   ],
   "source": [
    "feature_list = list(features.columns)\n",
    "features = np.array(features)\n",
    "\n",
    "train_features, test_features, train_labels, test_labels = train_test_split(\n",
    "    features, labels, test_size = 0.20, random_state = 1)\n",
    "\n",
    "print('Training Features Shape:', train_features.shape)\n",
    "print('Training Labels Shape:', train_labels.shape)\n",
    "print('Testing Features Shape:', test_features.shape)\n",
    "print('Testing Labels Shape:', test_labels.shape)"
   ]
  },
  {
   "cell_type": "code",
   "execution_count": 111,
   "metadata": {},
   "outputs": [
    {
     "name": "stdout",
     "output_type": "stream",
     "text": [
      "Accuracy: 91.69%\n"
     ]
    }
   ],
   "source": [
    "xgb.fit(train_features, train_labels)\n",
    "predictions = xgb.predict(test_features)\n",
    "print(calc_mape(predictions))"
   ]
  },
  {
   "cell_type": "markdown",
   "metadata": {},
   "source": [
    "## Modèle final"
   ]
  },
  {
   "cell_type": "markdown",
   "metadata": {},
   "source": [
    "### Affinement des paramètres"
   ]
  },
  {
   "cell_type": "code",
   "execution_count": 112,
   "metadata": {},
   "outputs": [
    {
     "data": {
      "text/html": [
       "<div>\n",
       "<style scoped>\n",
       "    .dataframe tbody tr th:only-of-type {\n",
       "        vertical-align: middle;\n",
       "    }\n",
       "\n",
       "    .dataframe tbody tr th {\n",
       "        vertical-align: top;\n",
       "    }\n",
       "\n",
       "    .dataframe thead th {\n",
       "        text-align: right;\n",
       "    }\n",
       "</style>\n",
       "<table border=\"1\" class=\"dataframe\">\n",
       "  <thead>\n",
       "    <tr style=\"text-align: right;\">\n",
       "      <th></th>\n",
       "      <th>Make_v2</th>\n",
       "      <th>Model_Det</th>\n",
       "      <th>Model_year</th>\n",
       "      <th>Mileage</th>\n",
       "      <th>Diesel</th>\n",
       "      <th>Essence</th>\n",
       "      <th>Other_fuel</th>\n",
       "      <th>Mecanique</th>\n",
       "      <th>Automatique</th>\n",
       "      <th>Cylindre</th>\n",
       "      <th>Chevaux</th>\n",
       "      <th>Puissance_fisc</th>\n",
       "      <th>Prix_neuf</th>\n",
       "    </tr>\n",
       "  </thead>\n",
       "  <tbody>\n",
       "    <tr>\n",
       "      <th>0</th>\n",
       "      <td>30</td>\n",
       "      <td>71</td>\n",
       "      <td>2014</td>\n",
       "      <td>94341</td>\n",
       "      <td>1</td>\n",
       "      <td>0</td>\n",
       "      <td>0</td>\n",
       "      <td>1</td>\n",
       "      <td>0</td>\n",
       "      <td>1.6</td>\n",
       "      <td>92.0</td>\n",
       "      <td>4</td>\n",
       "      <td>21650.0</td>\n",
       "    </tr>\n",
       "    <tr>\n",
       "      <th>1</th>\n",
       "      <td>3</td>\n",
       "      <td>1612</td>\n",
       "      <td>2015</td>\n",
       "      <td>39051</td>\n",
       "      <td>1</td>\n",
       "      <td>0</td>\n",
       "      <td>0</td>\n",
       "      <td>0</td>\n",
       "      <td>1</td>\n",
       "      <td>3.0</td>\n",
       "      <td>258.0</td>\n",
       "      <td>16</td>\n",
       "      <td>85675.0</td>\n",
       "    </tr>\n",
       "    <tr>\n",
       "      <th>2</th>\n",
       "      <td>2</td>\n",
       "      <td>1240</td>\n",
       "      <td>2014</td>\n",
       "      <td>75381</td>\n",
       "      <td>0</td>\n",
       "      <td>1</td>\n",
       "      <td>0</td>\n",
       "      <td>0</td>\n",
       "      <td>1</td>\n",
       "      <td>4.0</td>\n",
       "      <td>560.0</td>\n",
       "      <td>47</td>\n",
       "      <td>NaN</td>\n",
       "    </tr>\n",
       "    <tr>\n",
       "      <th>3</th>\n",
       "      <td>10</td>\n",
       "      <td>887</td>\n",
       "      <td>2007</td>\n",
       "      <td>92282</td>\n",
       "      <td>0</td>\n",
       "      <td>1</td>\n",
       "      <td>0</td>\n",
       "      <td>1</td>\n",
       "      <td>0</td>\n",
       "      <td>1.3</td>\n",
       "      <td>70.0</td>\n",
       "      <td>5</td>\n",
       "      <td>NaN</td>\n",
       "    </tr>\n",
       "    <tr>\n",
       "      <th>4</th>\n",
       "      <td>9</td>\n",
       "      <td>1492</td>\n",
       "      <td>2018</td>\n",
       "      <td>10</td>\n",
       "      <td>0</td>\n",
       "      <td>1</td>\n",
       "      <td>0</td>\n",
       "      <td>1</td>\n",
       "      <td>0</td>\n",
       "      <td>1.4</td>\n",
       "      <td>95.0</td>\n",
       "      <td>5</td>\n",
       "      <td>13490.0</td>\n",
       "    </tr>\n",
       "  </tbody>\n",
       "</table>\n",
       "</div>"
      ],
      "text/plain": [
       "   Make_v2  Model_Det  Model_year  Mileage  Diesel  Essence  Other_fuel  \\\n",
       "0       30         71        2014    94341       1        0           0   \n",
       "1        3       1612        2015    39051       1        0           0   \n",
       "2        2       1240        2014    75381       0        1           0   \n",
       "3       10        887        2007    92282       0        1           0   \n",
       "4        9       1492        2018       10       0        1           0   \n",
       "\n",
       "   Mecanique  Automatique  Cylindre  Chevaux  Puissance_fisc  Prix_neuf  \n",
       "0          1            0       1.6     92.0               4    21650.0  \n",
       "1          0            1       3.0    258.0              16    85675.0  \n",
       "2          0            1       4.0    560.0              47        NaN  \n",
       "3          1            0       1.3     70.0               5        NaN  \n",
       "4          1            0       1.4     95.0               5    13490.0  "
      ]
     },
     "execution_count": 112,
     "metadata": {},
     "output_type": "execute_result"
    }
   ],
   "source": [
    "features = df[['Make_v2', 'Model_Det', 'Model_year', 'Mileage', 'Diesel', 'Essence', 'Other_fuel',\n",
    "       'Mecanique', 'Automatique', 'Cylindre', 'Chevaux', 'Puissance_fisc', 'Prix_neuf']]\n",
    "features.head()"
   ]
  },
  {
   "cell_type": "code",
   "execution_count": 113,
   "metadata": {},
   "outputs": [
    {
     "name": "stdout",
     "output_type": "stream",
     "text": [
      "Training Features Shape: (133102, 13)\n",
      "Training Labels Shape: (133102,)\n",
      "Testing Features Shape: (33276, 13)\n",
      "Testing Labels Shape: (33276,)\n"
     ]
    }
   ],
   "source": [
    "feature_list = list(features.columns)\n",
    "features = np.array(features)\n",
    "\n",
    "train_features, test_features, train_labels, test_labels = train_test_split(\n",
    "    features, labels, test_size = 0.20, random_state = 1)\n",
    "\n",
    "print('Training Features Shape:', train_features.shape)\n",
    "print('Training Labels Shape:', train_labels.shape)\n",
    "print('Testing Features Shape:', test_features.shape)\n",
    "print('Testing Labels Shape:', test_labels.shape)"
   ]
  },
  {
   "cell_type": "code",
   "execution_count": 114,
   "metadata": {},
   "outputs": [],
   "source": [
    "xgb = xgboost.XGBRegressor(\n",
    "    n_estimators=1000,\n",
    "    seed=1,\n",
    "    learning_rate=0.09,\n",
    "    max_depth=7,\n",
    "    subsample=0.9,\n",
    "    colsample_bytree=0.9)"
   ]
  },
  {
   "cell_type": "code",
   "execution_count": 115,
   "metadata": {},
   "outputs": [
    {
     "data": {
      "text/plain": [
       "XGBRegressor(base_score=0.5, booster='gbtree', colsample_bylevel=1,\n",
       "       colsample_bynode=1, colsample_bytree=0.9, gamma=0, gpu_id=-1,\n",
       "       importance_type='gain', interaction_constraints='',\n",
       "       learning_rate=0.09, max_delta_step=0, max_depth=7,\n",
       "       min_child_weight=1, missing=nan, monotone_constraints='()',\n",
       "       n_estimators=1000, n_jobs=0, num_parallel_tree=1,\n",
       "       objective='reg:squarederror', random_state=1, reg_alpha=0,\n",
       "       reg_lambda=1, scale_pos_weight=1, seed=1, subsample=0.9,\n",
       "       tree_method='exact', validate_parameters=1, verbosity=None)"
      ]
     },
     "execution_count": 115,
     "metadata": {},
     "output_type": "execute_result"
    }
   ],
   "source": [
    "xgb.fit(train_features, train_labels)"
   ]
  },
  {
   "cell_type": "code",
   "execution_count": 116,
   "metadata": {},
   "outputs": [
    {
     "name": "stdout",
     "output_type": "stream",
     "text": [
      "Accuracy: 91.77%\n"
     ]
    }
   ],
   "source": [
    "predictions = xgb.predict(test_features)\n",
    "print(calc_mape(predictions))"
   ]
  },
  {
   "cell_type": "markdown",
   "metadata": {},
   "source": [
    "### Test du modèle"
   ]
  },
  {
   "cell_type": "code",
   "execution_count": 123,
   "metadata": {},
   "outputs": [
    {
     "data": {
      "text/plain": [
       "Make_v2               35.0\n",
       "Model_Det           1065.0\n",
       "Model_year          2013.0\n",
       "Mileage           111339.0\n",
       "Diesel                 1.0\n",
       "Essence                0.0\n",
       "Other_fuel             0.0\n",
       "Mecanique              0.0\n",
       "Automatique            1.0\n",
       "Cylindre               2.0\n",
       "Chevaux              150.0\n",
       "Puissance_fisc         8.0\n",
       "Prix_neuf              NaN\n",
       "Name: 166376, dtype: float64"
      ]
     },
     "execution_count": 123,
     "metadata": {},
     "output_type": "execute_result"
    }
   ],
   "source": [
    "sample = df[['Make_v2', 'Model_Det', 'Model_year', 'Mileage', 'Diesel', 'Essence', 'Other_fuel',\n",
    "       'Mecanique', 'Automatique', 'Cylindre', 'Chevaux', 'Puissance_fisc', 'Prix_neuf']].iloc[-2]\n",
    "sample"
   ]
  },
  {
   "cell_type": "code",
   "execution_count": 124,
   "metadata": {},
   "outputs": [],
   "source": [
    "predic = xgb.predict(sample)"
   ]
  },
  {
   "cell_type": "code",
   "execution_count": 125,
   "metadata": {},
   "outputs": [
    {
     "name": "stdout",
     "output_type": "stream",
     "text": [
      "Estimation du vehicule : 11745.0 - Prix de revente du vehicule : 11918.0\n"
     ]
    }
   ],
   "source": [
    "print(\"Estimation du vehicule : {0} - Prix de revente du vehicule : {1}\".format(round(predic[0]), df[\"Price\"].iloc[-2]))"
   ]
  },
  {
   "cell_type": "code",
   "execution_count": null,
   "metadata": {},
   "outputs": [],
   "source": []
  }
 ],
 "metadata": {
  "kernelspec": {
   "display_name": "Python 3",
   "language": "python",
   "name": "python3"
  },
  "language_info": {
   "codemirror_mode": {
    "name": "ipython",
    "version": 3
   },
   "file_extension": ".py",
   "mimetype": "text/x-python",
   "name": "python",
   "nbconvert_exporter": "python",
   "pygments_lexer": "ipython3",
   "version": "3.7.1"
  }
 },
 "nbformat": 4,
 "nbformat_minor": 2
}
