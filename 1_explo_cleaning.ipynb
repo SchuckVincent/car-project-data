{
 "cells": [
  {
   "cell_type": "markdown",
   "metadata": {},
   "source": [
    "## Imports"
   ]
  },
  {
   "cell_type": "code",
   "execution_count": 1,
   "metadata": {},
   "outputs": [
    {
     "name": "stderr",
     "output_type": "stream",
     "text": [
      "/anaconda3/lib/python3.7/site-packages/requests/__init__.py:91: RequestsDependencyWarning: urllib3 (1.25.9) or chardet (3.0.4) doesn't match a supported version!\n",
      "  RequestsDependencyWarning)\n"
     ]
    }
   ],
   "source": [
    "%matplotlib inline\n",
    "import matplotlib.pyplot as plt\n",
    "import pandas as pd\n",
    "import re\n",
    "\n",
    "import seaborn as sns\n",
    "import numpy as np\n",
    "import math\n",
    "\n",
    "from requests_html import HTMLSession\n",
    "import random\n",
    "from time import sleep\n",
    "\n",
    "from fuzzywuzzy import fuzz\n",
    "from collections import Counter\n",
    "\n",
    "from sklearn.feature_extraction.text import CountVectorizer\n",
    "from nltk.corpus import stopwords"
   ]
  },
  {
   "cell_type": "markdown",
   "metadata": {},
   "source": [
    "## Exploration du dataset"
   ]
  },
  {
   "cell_type": "code",
   "execution_count": 2,
   "metadata": {},
   "outputs": [],
   "source": [
    "car_data = pd.read_csv(\"Data_cars.csv\")"
   ]
  },
  {
   "cell_type": "code",
   "execution_count": 3,
   "metadata": {},
   "outputs": [
    {
     "data": {
      "text/plain": [
       "(166695, 9)"
      ]
     },
     "execution_count": 3,
     "metadata": {},
     "output_type": "execute_result"
    }
   ],
   "source": [
    "car_data.shape"
   ]
  },
  {
   "cell_type": "markdown",
   "metadata": {},
   "source": [
    "Pour les phases de tests, on ne prend qu'une partie de dataset"
   ]
  },
  {
   "cell_type": "code",
   "execution_count": 4,
   "metadata": {},
   "outputs": [],
   "source": [
    "# car_data = car_data[0:20000]"
   ]
  },
  {
   "cell_type": "code",
   "execution_count": 5,
   "metadata": {},
   "outputs": [
    {
     "name": "stdout",
     "output_type": "stream",
     "text": [
      "Index(['Price', 'Make', 'Model', 'Model_year', 'Mileage', 'Fuel', 'Gearbox',\n",
      "       'Online', 'Description'],\n",
      "      dtype='object')\n"
     ]
    },
    {
     "data": {
      "text/html": [
       "<div>\n",
       "<style scoped>\n",
       "    .dataframe tbody tr th:only-of-type {\n",
       "        vertical-align: middle;\n",
       "    }\n",
       "\n",
       "    .dataframe tbody tr th {\n",
       "        vertical-align: top;\n",
       "    }\n",
       "\n",
       "    .dataframe thead th {\n",
       "        text-align: right;\n",
       "    }\n",
       "</style>\n",
       "<table border=\"1\" class=\"dataframe\">\n",
       "  <thead>\n",
       "    <tr style=\"text-align: right;\">\n",
       "      <th></th>\n",
       "      <th>Price</th>\n",
       "      <th>Make</th>\n",
       "      <th>Model</th>\n",
       "      <th>Model_year</th>\n",
       "      <th>Mileage</th>\n",
       "      <th>Fuel</th>\n",
       "      <th>Gearbox</th>\n",
       "      <th>Online</th>\n",
       "      <th>Description</th>\n",
       "    </tr>\n",
       "  </thead>\n",
       "  <tbody>\n",
       "    <tr>\n",
       "      <th>0</th>\n",
       "      <td>11220.0</td>\n",
       "      <td>PEUGEOT</td>\n",
       "      <td>308</td>\n",
       "      <td>2014</td>\n",
       "      <td>94341.0 km</td>\n",
       "      <td>Diesel</td>\n",
       "      <td>mécanique</td>\n",
       "      <td>06/07/2018 à 3h47</td>\n",
       "      <td>modele: 308 (2E GENERATION), version: 1.6 HDI ...</td>\n",
       "    </tr>\n",
       "    <tr>\n",
       "      <th>1</th>\n",
       "      <td>57526.0</td>\n",
       "      <td>BMW</td>\n",
       "      <td>X6</td>\n",
       "      <td>2015</td>\n",
       "      <td>39051.0 km</td>\n",
       "      <td>Diesel</td>\n",
       "      <td>automatique</td>\n",
       "      <td>03/04/2018 à 16h41</td>\n",
       "      <td>modele: X6 F16, version: (F16) XDRIVE30D 258 M...</td>\n",
       "    </tr>\n",
       "    <tr>\n",
       "      <th>2</th>\n",
       "      <td>80379.0</td>\n",
       "      <td>AUDI</td>\n",
       "      <td>RS6</td>\n",
       "      <td>2014</td>\n",
       "      <td>75381.0 km</td>\n",
       "      <td>Essence</td>\n",
       "      <td>automatique</td>\n",
       "      <td>30/07/2018 à 1h55</td>\n",
       "      <td>modele: RS6 (3E GENERATION) AVANT, version: II...</td>\n",
       "    </tr>\n",
       "    <tr>\n",
       "      <th>3</th>\n",
       "      <td>2830.0</td>\n",
       "      <td>FORD</td>\n",
       "      <td>KA</td>\n",
       "      <td>2007</td>\n",
       "      <td>92282.0 km</td>\n",
       "      <td>Essence</td>\n",
       "      <td>mécanique</td>\n",
       "      <td>09/07/2018 à 14h12</td>\n",
       "      <td>modele: KA, version: 1.3 70 FUN, puissance_fis...</td>\n",
       "    </tr>\n",
       "    <tr>\n",
       "      <th>4</th>\n",
       "      <td>12925.0</td>\n",
       "      <td>FIAT</td>\n",
       "      <td>TIPO</td>\n",
       "      <td>2018</td>\n",
       "      <td>10.0 km</td>\n",
       "      <td>Essence</td>\n",
       "      <td>mécanique</td>\n",
       "      <td>19/05/2018 à 3h52</td>\n",
       "      <td>modele: TIPO 2 SW, version: II SW 1.4 95 POP, ...</td>\n",
       "    </tr>\n",
       "    <tr>\n",
       "      <th>5</th>\n",
       "      <td>27956.0</td>\n",
       "      <td>BMW</td>\n",
       "      <td>X3</td>\n",
       "      <td>2012</td>\n",
       "      <td>95623.0 km</td>\n",
       "      <td>Diesel</td>\n",
       "      <td>automatique</td>\n",
       "      <td>14/03/2018 à 4h24</td>\n",
       "      <td>modele: X3 F25, version: (F25) XDRIVE35D 313 S...</td>\n",
       "    </tr>\n",
       "    <tr>\n",
       "      <th>6</th>\n",
       "      <td>16888.0</td>\n",
       "      <td>AUDI</td>\n",
       "      <td>A3</td>\n",
       "      <td>2013</td>\n",
       "      <td>49018.0 km</td>\n",
       "      <td>Diesel</td>\n",
       "      <td>mécanique</td>\n",
       "      <td>16/04/2018 à 21h35</td>\n",
       "      <td>modele: A3 (2E GENERATION) SPORTBACK, version:...</td>\n",
       "    </tr>\n",
       "    <tr>\n",
       "      <th>7</th>\n",
       "      <td>18188.0</td>\n",
       "      <td>RENAULT</td>\n",
       "      <td>MEGANE</td>\n",
       "      <td>2017</td>\n",
       "      <td>9795.0 km</td>\n",
       "      <td>Diesel</td>\n",
       "      <td>automatique</td>\n",
       "      <td>29/04/2018 à 12h44</td>\n",
       "      <td>modele: MEGANE 4 ESTATE, version: IV ESTATE 1....</td>\n",
       "    </tr>\n",
       "    <tr>\n",
       "      <th>8</th>\n",
       "      <td>10594.0</td>\n",
       "      <td>FORD</td>\n",
       "      <td>C-MAX</td>\n",
       "      <td>2012</td>\n",
       "      <td>126670.0 km</td>\n",
       "      <td>Diesel</td>\n",
       "      <td>mécanique</td>\n",
       "      <td>22/06/2018 à 5h11</td>\n",
       "      <td>modele: C-MAX 2, version: II 1.6 TDCI 115 FAP ...</td>\n",
       "    </tr>\n",
       "    <tr>\n",
       "      <th>9</th>\n",
       "      <td>69131.0</td>\n",
       "      <td>MERCEDES</td>\n",
       "      <td>CLASSE C</td>\n",
       "      <td>2015</td>\n",
       "      <td>39439.0 km</td>\n",
       "      <td>Essence</td>\n",
       "      <td>automatique</td>\n",
       "      <td>08/03/2018 à 17h35</td>\n",
       "      <td>modele: CLASSE C 4 AMG, version: (W205) 63 AMG...</td>\n",
       "    </tr>\n",
       "  </tbody>\n",
       "</table>\n",
       "</div>"
      ],
      "text/plain": [
       "     Price      Make     Model  Model_year      Mileage     Fuel      Gearbox  \\\n",
       "0  11220.0   PEUGEOT       308        2014   94341.0 km   Diesel    mécanique   \n",
       "1  57526.0       BMW        X6        2015   39051.0 km   Diesel  automatique   \n",
       "2  80379.0      AUDI       RS6        2014   75381.0 km  Essence  automatique   \n",
       "3   2830.0      FORD        KA        2007   92282.0 km  Essence    mécanique   \n",
       "4  12925.0      FIAT      TIPO        2018      10.0 km  Essence    mécanique   \n",
       "5  27956.0       BMW        X3        2012   95623.0 km   Diesel  automatique   \n",
       "6  16888.0      AUDI        A3        2013   49018.0 km   Diesel    mécanique   \n",
       "7  18188.0   RENAULT    MEGANE        2017    9795.0 km   Diesel  automatique   \n",
       "8  10594.0      FORD     C-MAX        2012  126670.0 km   Diesel    mécanique   \n",
       "9  69131.0  MERCEDES  CLASSE C        2015   39439.0 km  Essence  automatique   \n",
       "\n",
       "               Online                                        Description  \n",
       "0   06/07/2018 à 3h47  modele: 308 (2E GENERATION), version: 1.6 HDI ...  \n",
       "1  03/04/2018 à 16h41  modele: X6 F16, version: (F16) XDRIVE30D 258 M...  \n",
       "2   30/07/2018 à 1h55  modele: RS6 (3E GENERATION) AVANT, version: II...  \n",
       "3  09/07/2018 à 14h12  modele: KA, version: 1.3 70 FUN, puissance_fis...  \n",
       "4   19/05/2018 à 3h52  modele: TIPO 2 SW, version: II SW 1.4 95 POP, ...  \n",
       "5   14/03/2018 à 4h24  modele: X3 F25, version: (F25) XDRIVE35D 313 S...  \n",
       "6  16/04/2018 à 21h35  modele: A3 (2E GENERATION) SPORTBACK, version:...  \n",
       "7  29/04/2018 à 12h44  modele: MEGANE 4 ESTATE, version: IV ESTATE 1....  \n",
       "8   22/06/2018 à 5h11  modele: C-MAX 2, version: II 1.6 TDCI 115 FAP ...  \n",
       "9  08/03/2018 à 17h35  modele: CLASSE C 4 AMG, version: (W205) 63 AMG...  "
      ]
     },
     "execution_count": 5,
     "metadata": {},
     "output_type": "execute_result"
    }
   ],
   "source": [
    "print(car_data.columns)\n",
    "car_data.head(10)"
   ]
  },
  {
   "cell_type": "code",
   "execution_count": 6,
   "metadata": {},
   "outputs": [
    {
     "data": {
      "text/html": [
       "<div>\n",
       "<style scoped>\n",
       "    .dataframe tbody tr th:only-of-type {\n",
       "        vertical-align: middle;\n",
       "    }\n",
       "\n",
       "    .dataframe tbody tr th {\n",
       "        vertical-align: top;\n",
       "    }\n",
       "\n",
       "    .dataframe thead th {\n",
       "        text-align: right;\n",
       "    }\n",
       "</style>\n",
       "<table border=\"1\" class=\"dataframe\">\n",
       "  <thead>\n",
       "    <tr style=\"text-align: right;\">\n",
       "      <th></th>\n",
       "      <th>count</th>\n",
       "      <th>mean</th>\n",
       "      <th>std</th>\n",
       "      <th>min</th>\n",
       "      <th>25%</th>\n",
       "      <th>50%</th>\n",
       "      <th>75%</th>\n",
       "      <th>max</th>\n",
       "    </tr>\n",
       "  </thead>\n",
       "  <tbody>\n",
       "    <tr>\n",
       "      <th>Price</th>\n",
       "      <td>166695.0</td>\n",
       "      <td>19333.694580</td>\n",
       "      <td>16420.342104</td>\n",
       "      <td>1.0</td>\n",
       "      <td>11280.0</td>\n",
       "      <td>15774.0</td>\n",
       "      <td>22707.5</td>\n",
       "      <td>1486500.0</td>\n",
       "    </tr>\n",
       "    <tr>\n",
       "      <th>Model_year</th>\n",
       "      <td>166695.0</td>\n",
       "      <td>2014.605387</td>\n",
       "      <td>8.304980</td>\n",
       "      <td>1900.0</td>\n",
       "      <td>2013.0</td>\n",
       "      <td>2016.0</td>\n",
       "      <td>2017.0</td>\n",
       "      <td>5018.0</td>\n",
       "    </tr>\n",
       "  </tbody>\n",
       "</table>\n",
       "</div>"
      ],
      "text/plain": [
       "               count          mean           std     min      25%      50%  \\\n",
       "Price       166695.0  19333.694580  16420.342104     1.0  11280.0  15774.0   \n",
       "Model_year  166695.0   2014.605387      8.304980  1900.0   2013.0   2016.0   \n",
       "\n",
       "                75%        max  \n",
       "Price       22707.5  1486500.0  \n",
       "Model_year   2017.0     5018.0  "
      ]
     },
     "execution_count": 6,
     "metadata": {},
     "output_type": "execute_result"
    }
   ],
   "source": [
    "car_data.describe().T"
   ]
  },
  {
   "cell_type": "code",
   "execution_count": 7,
   "metadata": {},
   "outputs": [
    {
     "data": {
      "text/plain": [
       "Price          0\n",
       "Make           0\n",
       "Model          0\n",
       "Model_year     0\n",
       "Mileage        0\n",
       "Fuel           0\n",
       "Gearbox        0\n",
       "Online         0\n",
       "Description    0\n",
       "dtype: int64"
      ]
     },
     "execution_count": 7,
     "metadata": {},
     "output_type": "execute_result"
    }
   ],
   "source": [
    "count_nan = len(car_data) - car_data.count()\n",
    "count_nan"
   ]
  },
  {
   "cell_type": "markdown",
   "metadata": {},
   "source": [
    "## Features engineering"
   ]
  },
  {
   "cell_type": "code",
   "execution_count": 8,
   "metadata": {},
   "outputs": [],
   "source": [
    "df = pd.DataFrame(columns = [\"Make\"])"
   ]
  },
  {
   "cell_type": "markdown",
   "metadata": {},
   "source": [
    "### Marque"
   ]
  },
  {
   "cell_type": "code",
   "execution_count": 9,
   "metadata": {},
   "outputs": [],
   "source": [
    "df[\"Make\"] = car_data[\"Make\"]"
   ]
  },
  {
   "cell_type": "markdown",
   "metadata": {},
   "source": [
    "#### Regroupement de marques et leurs filliales"
   ]
  },
  {
   "cell_type": "code",
   "execution_count": 10,
   "metadata": {},
   "outputs": [
    {
     "data": {
      "text/plain": [
       "array(['ABARTH', 'AC', 'AIXAM', 'ALFA ROMEO', 'ALPINA', 'ALPINE',\n",
       "       'ASTON MARTIN', 'AUDI', 'AUSTIN', 'AUSTIN HEALEY', 'AUTOBIANCHI',\n",
       "       'BELLIER', 'BENTLEY', 'BMW', 'BMW-ALPINA', 'BOLLORE', 'BUGATTI',\n",
       "       'BURBY S', 'CADILLAC', 'CATERHAM', 'CHATENET', 'CHEVROLET',\n",
       "       'CHRYSLER', 'CITROEN', 'DACIA', 'DAEWOO', 'DAIHATSU', 'DANGEL',\n",
       "       'DODGE', 'DONKERVOORT', 'DS', 'FERRARI', 'FIAT', 'FISKER', 'FORD',\n",
       "       'GRECAV', 'HONDA', 'HUMMER', 'HYUNDAI', 'INFINITI', 'INNOCENTI',\n",
       "       'INTERMECCANICA', 'JAGUAR', 'JEEP', 'JIAYUAN', 'KIA', 'LADA',\n",
       "       'LAMBORGHINI', 'LANCIA', 'LAND ROVER', 'LEXUS', 'LIGIER', 'LOTUS',\n",
       "       'MASERATI', 'MATRA', 'MAZDA', 'MCLAREN', 'MERCEDES',\n",
       "       'MERCEDES-AMG', 'MG', 'MIA ELECTRIC', 'MICROCAR', 'MINI',\n",
       "       'MITSUBISHI', 'MORGAN', 'MPM MOTORS', 'NISSAN', 'OLDSMOBILE',\n",
       "       'OPEL', 'PACKARD', 'PEUGEOT', 'PORSCHE', 'RENAULT', 'RILEY',\n",
       "       'ROLLS ROYCE', 'ROVER', 'SAAB', 'SEAT', 'SECMA', 'SHELBY', 'SIMCA',\n",
       "       'SKODA', 'SMART', 'SSANGYONG', 'SUBARU', 'SUNBEAM', 'SUZUKI',\n",
       "       'TESLA', 'TOYOTA', 'TRIUMPH', 'VOLKSWAGEN', 'VOLVO'], dtype=object)"
      ]
     },
     "execution_count": 10,
     "metadata": {},
     "output_type": "execute_result"
    }
   ],
   "source": [
    "temp = df['Make'].unique()\n",
    "np.sort(temp)"
   ]
  },
  {
   "cell_type": "markdown",
   "metadata": {},
   "source": [
    "BMW-ALPINA et ALPINA sont des marques identiques, tout comme PEUGEOT et DANGEL"
   ]
  },
  {
   "cell_type": "code",
   "execution_count": 11,
   "metadata": {},
   "outputs": [],
   "source": [
    "df[\"Make\"] = df[\"Make\"].apply(lambda x: 'BMW-ALPINA' if x == 'ALPINA' else x)"
   ]
  },
  {
   "cell_type": "code",
   "execution_count": 12,
   "metadata": {},
   "outputs": [],
   "source": [
    "df[\"Make\"] = df[\"Make\"].apply(lambda x: 'PEUGEOT' if x == 'DANGEL' else x)"
   ]
  },
  {
   "cell_type": "code",
   "execution_count": 13,
   "metadata": {},
   "outputs": [
    {
     "data": {
      "text/plain": [
       "array(['ABARTH', 'AC', 'AIXAM', 'ALFA ROMEO', 'ALPINE', 'ASTON MARTIN',\n",
       "       'AUDI', 'AUSTIN', 'AUSTIN HEALEY', 'AUTOBIANCHI', 'BELLIER',\n",
       "       'BENTLEY', 'BMW', 'BMW-ALPINA', 'BOLLORE', 'BUGATTI', 'BURBY S',\n",
       "       'CADILLAC', 'CATERHAM', 'CHATENET', 'CHEVROLET', 'CHRYSLER',\n",
       "       'CITROEN', 'DACIA', 'DAEWOO', 'DAIHATSU', 'DODGE', 'DONKERVOORT',\n",
       "       'DS', 'FERRARI', 'FIAT', 'FISKER', 'FORD', 'GRECAV', 'HONDA',\n",
       "       'HUMMER', 'HYUNDAI', 'INFINITI', 'INNOCENTI', 'INTERMECCANICA',\n",
       "       'JAGUAR', 'JEEP', 'JIAYUAN', 'KIA', 'LADA', 'LAMBORGHINI',\n",
       "       'LANCIA', 'LAND ROVER', 'LEXUS', 'LIGIER', 'LOTUS', 'MASERATI',\n",
       "       'MATRA', 'MAZDA', 'MCLAREN', 'MERCEDES', 'MERCEDES-AMG', 'MG',\n",
       "       'MIA ELECTRIC', 'MICROCAR', 'MINI', 'MITSUBISHI', 'MORGAN',\n",
       "       'MPM MOTORS', 'NISSAN', 'OLDSMOBILE', 'OPEL', 'PACKARD', 'PEUGEOT',\n",
       "       'PORSCHE', 'RENAULT', 'RILEY', 'ROLLS ROYCE', 'ROVER', 'SAAB',\n",
       "       'SEAT', 'SECMA', 'SHELBY', 'SIMCA', 'SKODA', 'SMART', 'SSANGYONG',\n",
       "       'SUBARU', 'SUNBEAM', 'SUZUKI', 'TESLA', 'TOYOTA', 'TRIUMPH',\n",
       "       'VOLKSWAGEN', 'VOLVO'], dtype=object)"
      ]
     },
     "execution_count": 13,
     "metadata": {},
     "output_type": "execute_result"
    }
   ],
   "source": [
    "temp = df['Make'].unique()\n",
    "np.sort(temp)"
   ]
  },
  {
   "cell_type": "markdown",
   "metadata": {},
   "source": [
    "#### Regroupement des marques avec peu de voiture en categorie"
   ]
  },
  {
   "cell_type": "code",
   "execution_count": 14,
   "metadata": {},
   "outputs": [],
   "source": [
    "df['Make_v2'] = df['Make']"
   ]
  },
  {
   "cell_type": "code",
   "execution_count": 15,
   "metadata": {
    "scrolled": true
   },
   "outputs": [
    {
     "data": {
      "text/plain": [
       "SAAB              20\n",
       "MORGAN            18\n",
       "ROVER             17\n",
       "TRIUMPH           17\n",
       "AIXAM             14\n",
       "MICROCAR          11\n",
       "LIGIER            10\n",
       "MCLAREN           10\n",
       "DAIHATSU           8\n",
       "HUMMER             8\n",
       "AUSTIN             7\n",
       "AUSTIN HEALEY      6\n",
       "BMW-ALPINA         6\n",
       "CHATENET           4\n",
       "PACKARD            3\n",
       "LADA               3\n",
       "DAEWOO             3\n",
       "OLDSMOBILE         2\n",
       "BOLLORE            2\n",
       "MIA ELECTRIC       2\n",
       "ALPINE             2\n",
       "DONKERVOORT        2\n",
       "SUNBEAM            1\n",
       "CATERHAM           1\n",
       "BUGATTI            1\n",
       "AUTOBIANCHI        1\n",
       "FISKER             1\n",
       "SIMCA              1\n",
       "MATRA              1\n",
       "AC                 1\n",
       "INTERMECCANICA     1\n",
       "SHELBY             1\n",
       "BURBY S            1\n",
       "SECMA              1\n",
       "JIAYUAN            1\n",
       "BELLIER            1\n",
       "MPM MOTORS         1\n",
       "RILEY              1\n",
       "INNOCENTI          1\n",
       "GRECAV             1\n",
       "Name: Make_v2, dtype: int64"
      ]
     },
     "execution_count": 15,
     "metadata": {},
     "output_type": "execute_result"
    }
   ],
   "source": [
    "df['Make_v2'].value_counts()[-40:]"
   ]
  },
  {
   "cell_type": "markdown",
   "metadata": {},
   "source": [
    "Création de listes de marques en fonction de leur gamme de voiture"
   ]
  },
  {
   "cell_type": "code",
   "execution_count": 16,
   "metadata": {},
   "outputs": [],
   "source": [
    "high = [\"RILEY\",\"AC\",\"MPM MOTORS\",\"BUGATTI\",\"INTERMECCANICA\",\"MATRA\",\"CATERHAM\",\"SHELBY\",\"FISKER\",\"SUNBEAM\",\n",
    "        \"DONKERVOORT\",\"ALPINE\",\"OLDSMOBILE\",\"AUSTIN HEALEY\",\"BMW-ALPINA\",\"AUSTIN\",\"HUMMER\",\"MCLAREN\",\"TRIUMPH\",\n",
    "        \"ROVER\",\"MORGAN\",\"TESLA\",\"ROLLS ROYCE\",\"LOTUS\",\"CADILLAC\",\"MERCEDES-AMG\",\"LAMBORGHINI\",\"DODGE\",\"BENTLEY\",\n",
    "        \"ASTON MARTIN\",\"CHRYSLER\"]\n",
    "\n",
    "medium = [\"SECMA\",\"BURBY S\",\"SIMCA\",\"MIA ELECTRIC\",\"BOLLORE\",\"DAEWOO\",\"PACKARD\",\"LADA\",\"DAIHATSU\",\"SAAB\",\"MG\",\n",
    "          \"SSANGYONG\"]\n",
    "\n",
    "low = [\"AUTOBIANCHI\",\"BELLIER\",\"GRECAV\",\"INNOCENTI\",\"JIAYUAN\"]\n",
    "\n",
    "sans_permis = [\"LIGIER\",\"MICROCAR\",\"CHATENET\",\"AIXAM\"]"
   ]
  },
  {
   "cell_type": "code",
   "execution_count": 17,
   "metadata": {},
   "outputs": [],
   "source": [
    "df[\"Make_v2\"] = df[\"Make_v2\"].apply(lambda x: 'HIGH' if x in high else x)\n",
    "df[\"Make_v2\"] = df[\"Make_v2\"].apply(lambda x: 'MEDIUM' if x in medium else x)\n",
    "df[\"Make_v2\"] = df[\"Make_v2\"].apply(lambda x: 'LOW' if x in low else x)\n",
    "df[\"Make_v2\"] = df[\"Make_v2\"].apply(lambda x: 'SANS PERMIS' if x in sans_permis else x)"
   ]
  },
  {
   "cell_type": "code",
   "execution_count": 18,
   "metadata": {
    "scrolled": true
   },
   "outputs": [
    {
     "data": {
      "text/plain": [
       "SUZUKI         1045\n",
       "ALFA ROMEO     1043\n",
       "JEEP            930\n",
       "MAZDA           738\n",
       "JAGUAR          690\n",
       "SMART           684\n",
       "HONDA           667\n",
       "HIGH            531\n",
       "LEXUS           476\n",
       "CHEVROLET       395\n",
       "MITSUBISHI      389\n",
       "INFINITI        269\n",
       "MASERATI        181\n",
       "ABARTH          177\n",
       "FERRARI         167\n",
       "MEDIUM          123\n",
       "SUBARU          117\n",
       "LANCIA          111\n",
       "SANS PERMIS      39\n",
       "LOW               5\n",
       "Name: Make_v2, dtype: int64"
      ]
     },
     "execution_count": 18,
     "metadata": {},
     "output_type": "execute_result"
    }
   ],
   "source": [
    "df['Make_v2'].value_counts()[-20:]"
   ]
  },
  {
   "cell_type": "markdown",
   "metadata": {},
   "source": [
    "### Modèle"
   ]
  },
  {
   "cell_type": "code",
   "execution_count": 19,
   "metadata": {},
   "outputs": [],
   "source": [
    "df[\"Model\"] = car_data[\"Model\"]"
   ]
  },
  {
   "cell_type": "markdown",
   "metadata": {},
   "source": [
    "#### Modèle détaillé (description)"
   ]
  },
  {
   "cell_type": "code",
   "execution_count": 20,
   "metadata": {},
   "outputs": [],
   "source": [
    "df[\"Model_Det\"] = car_data[\"Description\"].apply(lambda x: x.split('modele: ')[1].split(', version:')[0].upper())"
   ]
  },
  {
   "cell_type": "code",
   "execution_count": 21,
   "metadata": {},
   "outputs": [],
   "source": [
    "df[\"Model_Det\"] = [df.iloc[i][\"Model\"] if x==\"\" else x for i, x in enumerate(df[\"Model_Det\"])]"
   ]
  },
  {
   "cell_type": "code",
   "execution_count": 22,
   "metadata": {},
   "outputs": [],
   "source": [
    "df[\"Model_Det\"] = df[\"Model_Det\"].apply(lambda x: x.replace(\"(2E GENERATION)\", \"2\"))\n",
    "df[\"Model_Det\"] = df[\"Model_Det\"].apply(lambda x: x.replace(\"(3E GENERATION)\", \"3\"))\n",
    "df[\"Model_Det\"] = df[\"Model_Det\"].apply(lambda x: x.replace(\"(4E GENERATION)\", \"4\"))\n",
    "df[\"Model_Det\"] = df[\"Model_Det\"].apply(lambda x: x.replace(\"(5E GENERATION)\", \"5\"))\n",
    "df[\"Model_Det\"] = df[\"Model_Det\"].apply(lambda x: x.replace(\"(6E GENERATION)\", \"6\"))\n",
    "df[\"Model_Det\"] = df[\"Model_Det\"].apply(lambda x: x.replace(\"(7E GENERATION)\", \"7\"))\n",
    "df[\"Model_Det\"] = df[\"Model_Det\"].apply(lambda x: x.replace(\"(8E GENERATION)\", \"8\"))\n",
    "df[\"Model_Det\"] = df[\"Model_Det\"].apply(lambda x: x.replace(\"(9E GENERATION)\", \"9\"))"
   ]
  },
  {
   "cell_type": "code",
   "execution_count": 23,
   "metadata": {},
   "outputs": [
    {
     "data": {
      "text/plain": [
       "1819"
      ]
     },
     "execution_count": 23,
     "metadata": {},
     "output_type": "execute_result"
    }
   ],
   "source": [
    "df['Model_Det'].unique().size"
   ]
  },
  {
   "cell_type": "markdown",
   "metadata": {},
   "source": [
    "### Année de construction / age / date de l'offre"
   ]
  },
  {
   "cell_type": "markdown",
   "metadata": {},
   "source": [
    "#### Année de construction"
   ]
  },
  {
   "cell_type": "code",
   "execution_count": 24,
   "metadata": {},
   "outputs": [],
   "source": [
    "df[\"Model_year\"] = car_data[\"Model_year\"]"
   ]
  },
  {
   "cell_type": "code",
   "execution_count": 25,
   "metadata": {
    "scrolled": true
   },
   "outputs": [
    {
     "data": {
      "image/png": "[encoded data removed]",
      "text/plain": [
       "<Figure size 3600x1080 with 1 Axes>"
      ]
     },
     "metadata": {
      "needs_background": "light"
     },
     "output_type": "display_data"
    }
   ],
   "source": [
    "plt.figure(figsize=(50, 15))\n",
    "plt.xticks(rotation=45)\n",
    "sns.set(font_scale=2.5)\n",
    "ax = sns.countplot(data=df, x = 'Model_year')"
   ]
  },
  {
   "cell_type": "markdown",
   "metadata": {},
   "source": [
    "On supprime les valeurs sous 1990 et au dessus de 2020"
   ]
  },
  {
   "cell_type": "code",
   "execution_count": 26,
   "metadata": {},
   "outputs": [
    {
     "data": {
      "text/plain": [
       "(166695, 5)"
      ]
     },
     "execution_count": 26,
     "metadata": {},
     "output_type": "execute_result"
    }
   ],
   "source": [
    "df.shape"
   ]
  },
  {
   "cell_type": "code",
   "execution_count": 27,
   "metadata": {},
   "outputs": [],
   "source": [
    "df = df[df[\"Model_year\"] < 2020]\n",
    "df = df[df[\"Model_year\"] > 1990]\n",
    "\n",
    "car_data = car_data[car_data[\"Model_year\"] < 2020]\n",
    "car_data = car_data[car_data[\"Model_year\"] > 1990]"
   ]
  },
  {
   "cell_type": "code",
   "execution_count": 28,
   "metadata": {},
   "outputs": [
    {
     "data": {
      "text/plain": [
       "(166378, 5)"
      ]
     },
     "execution_count": 28,
     "metadata": {},
     "output_type": "execute_result"
    }
   ],
   "source": [
    "df.shape"
   ]
  },
  {
   "cell_type": "code",
   "execution_count": 29,
   "metadata": {},
   "outputs": [
    {
     "data": {
      "image/png": "[encoded data removed]",
      "text/plain": [
       "<Figure size 3600x1080 with 1 Axes>"
      ]
     },
     "metadata": {},
     "output_type": "display_data"
    }
   ],
   "source": [
    "plt.figure(figsize=(50, 15))\n",
    "plt.xticks(rotation=45)\n",
    "sns.set(font_scale=2.5)\n",
    "ax = sns.countplot(data=df, x = 'Model_year')"
   ]
  },
  {
   "cell_type": "markdown",
   "metadata": {},
   "source": [
    "#### Date de l'offre"
   ]
  },
  {
   "cell_type": "code",
   "execution_count": 30,
   "metadata": {},
   "outputs": [],
   "source": [
    "df[\"Online\"] = car_data[\"Online\"]"
   ]
  },
  {
   "cell_type": "code",
   "execution_count": 31,
   "metadata": {},
   "outputs": [],
   "source": [
    "df[\"Online\"] = df[\"Online\"].apply(lambda x: x[0:10])"
   ]
  },
  {
   "cell_type": "markdown",
   "metadata": {},
   "source": [
    "#### Age de la voiture"
   ]
  },
  {
   "cell_type": "code",
   "execution_count": 32,
   "metadata": {},
   "outputs": [],
   "source": [
    "df[\"Age\"] = [int(x[6:10]) - int(df.iloc[i][\"Model_year\"]) for i, x in enumerate(df[\"Online\"])]"
   ]
  },
  {
   "cell_type": "markdown",
   "metadata": {},
   "source": [
    "### Kilométrage et Usure"
   ]
  },
  {
   "cell_type": "markdown",
   "metadata": {},
   "source": [
    "#### Kilométrage"
   ]
  },
  {
   "cell_type": "code",
   "execution_count": 33,
   "metadata": {},
   "outputs": [],
   "source": [
    "df[\"Mileage\"] = car_data[\"Mileage\"]"
   ]
  },
  {
   "cell_type": "code",
   "execution_count": 34,
   "metadata": {},
   "outputs": [],
   "source": [
    "df[\"Mileage\"] = df[\"Mileage\"].apply(lambda x: int(x[:-5]))"
   ]
  },
  {
   "cell_type": "markdown",
   "metadata": {},
   "source": [
    "#### Usure"
   ]
  },
  {
   "cell_type": "markdown",
   "metadata": {},
   "source": [
    "Usure : Kilométrage / Année"
   ]
  },
  {
   "cell_type": "code",
   "execution_count": 35,
   "metadata": {},
   "outputs": [],
   "source": [
    "df[\"Usure\"] = [int(df.iloc[i][\"Mileage\"] / x) \n",
    "               if x != 0\n",
    "               else int(df.iloc[i][\"Mileage\"])\n",
    "               for i, x in enumerate(df[\"Age\"])]"
   ]
  },
  {
   "cell_type": "code",
   "execution_count": 36,
   "metadata": {},
   "outputs": [
    {
     "data": {
      "text/html": [
       "<div>\n",
       "<style scoped>\n",
       "    .dataframe tbody tr th:only-of-type {\n",
       "        vertical-align: middle;\n",
       "    }\n",
       "\n",
       "    .dataframe tbody tr th {\n",
       "        vertical-align: top;\n",
       "    }\n",
       "\n",
       "    .dataframe thead th {\n",
       "        text-align: right;\n",
       "    }\n",
       "</style>\n",
       "<table border=\"1\" class=\"dataframe\">\n",
       "  <thead>\n",
       "    <tr style=\"text-align: right;\">\n",
       "      <th></th>\n",
       "      <th>Make</th>\n",
       "      <th>Make_v2</th>\n",
       "      <th>Model</th>\n",
       "      <th>Model_Det</th>\n",
       "      <th>Model_year</th>\n",
       "      <th>Online</th>\n",
       "      <th>Age</th>\n",
       "      <th>Mileage</th>\n",
       "      <th>Usure</th>\n",
       "    </tr>\n",
       "  </thead>\n",
       "  <tbody>\n",
       "    <tr>\n",
       "      <th>0</th>\n",
       "      <td>PEUGEOT</td>\n",
       "      <td>PEUGEOT</td>\n",
       "      <td>308</td>\n",
       "      <td>308 2</td>\n",
       "      <td>2014</td>\n",
       "      <td>06/07/2018</td>\n",
       "      <td>4</td>\n",
       "      <td>94341</td>\n",
       "      <td>23585</td>\n",
       "    </tr>\n",
       "    <tr>\n",
       "      <th>1</th>\n",
       "      <td>BMW</td>\n",
       "      <td>BMW</td>\n",
       "      <td>X6</td>\n",
       "      <td>X6 F16</td>\n",
       "      <td>2015</td>\n",
       "      <td>03/04/2018</td>\n",
       "      <td>3</td>\n",
       "      <td>39051</td>\n",
       "      <td>13017</td>\n",
       "    </tr>\n",
       "    <tr>\n",
       "      <th>2</th>\n",
       "      <td>AUDI</td>\n",
       "      <td>AUDI</td>\n",
       "      <td>RS6</td>\n",
       "      <td>RS6 3 AVANT</td>\n",
       "      <td>2014</td>\n",
       "      <td>30/07/2018</td>\n",
       "      <td>4</td>\n",
       "      <td>75381</td>\n",
       "      <td>18845</td>\n",
       "    </tr>\n",
       "    <tr>\n",
       "      <th>3</th>\n",
       "      <td>FORD</td>\n",
       "      <td>FORD</td>\n",
       "      <td>KA</td>\n",
       "      <td>KA</td>\n",
       "      <td>2007</td>\n",
       "      <td>09/07/2018</td>\n",
       "      <td>11</td>\n",
       "      <td>92282</td>\n",
       "      <td>8389</td>\n",
       "    </tr>\n",
       "    <tr>\n",
       "      <th>4</th>\n",
       "      <td>FIAT</td>\n",
       "      <td>FIAT</td>\n",
       "      <td>TIPO</td>\n",
       "      <td>TIPO 2 SW</td>\n",
       "      <td>2018</td>\n",
       "      <td>19/05/2018</td>\n",
       "      <td>0</td>\n",
       "      <td>10</td>\n",
       "      <td>10</td>\n",
       "    </tr>\n",
       "  </tbody>\n",
       "</table>\n",
       "</div>"
      ],
      "text/plain": [
       "      Make  Make_v2 Model    Model_Det  Model_year      Online  Age  Mileage  \\\n",
       "0  PEUGEOT  PEUGEOT   308        308 2        2014  06/07/2018    4    94341   \n",
       "1      BMW      BMW    X6       X6 F16        2015  03/04/2018    3    39051   \n",
       "2     AUDI     AUDI   RS6  RS6 3 AVANT        2014  30/07/2018    4    75381   \n",
       "3     FORD     FORD    KA           KA        2007  09/07/2018   11    92282   \n",
       "4     FIAT     FIAT  TIPO    TIPO 2 SW        2018  19/05/2018    0       10   \n",
       "\n",
       "   Usure  \n",
       "0  23585  \n",
       "1  13017  \n",
       "2  18845  \n",
       "3   8389  \n",
       "4     10  "
      ]
     },
     "execution_count": 36,
     "metadata": {},
     "output_type": "execute_result"
    }
   ],
   "source": [
    "df.head()"
   ]
  },
  {
   "cell_type": "markdown",
   "metadata": {},
   "source": [
    "### Fuel"
   ]
  },
  {
   "cell_type": "code",
   "execution_count": 37,
   "metadata": {},
   "outputs": [],
   "source": [
    "df[\"Fuel\"] = car_data[\"Fuel\"]"
   ]
  },
  {
   "cell_type": "code",
   "execution_count": 38,
   "metadata": {},
   "outputs": [
    {
     "data": {
      "text/plain": [
       "Diesel                              109431\n",
       "Essence                              53092\n",
       "Hybride essence électrique            2724\n",
       "Electrique                             703\n",
       "Hybride diesel électrique              310\n",
       "Bicarburation essence GPL               96\n",
       "Bicarburation essence bioéthanol        21\n",
       "Bicarburation essence GNV                1\n",
       "Name: Fuel, dtype: int64"
      ]
     },
     "execution_count": 38,
     "metadata": {},
     "output_type": "execute_result"
    }
   ],
   "source": [
    "df[\"Fuel\"].value_counts()"
   ]
  },
  {
   "cell_type": "code",
   "execution_count": 39,
   "metadata": {},
   "outputs": [],
   "source": [
    "df[\"Diesel\"] = df[\"Fuel\"].apply(lambda x: 1 if x == \"Diesel\" else 0)\n",
    "df[\"Essence\"] = df[\"Fuel\"].apply(lambda x: 1 if x == \"Essence\" else 0)\n",
    "df[\"Other_fuel\"] = df[\"Fuel\"].apply(lambda x: 1 if x != \"Essence\" and x != \"Diesel\" else 0)"
   ]
  },
  {
   "cell_type": "code",
   "execution_count": 40,
   "metadata": {},
   "outputs": [
    {
     "data": {
      "text/html": [
       "<div>\n",
       "<style scoped>\n",
       "    .dataframe tbody tr th:only-of-type {\n",
       "        vertical-align: middle;\n",
       "    }\n",
       "\n",
       "    .dataframe tbody tr th {\n",
       "        vertical-align: top;\n",
       "    }\n",
       "\n",
       "    .dataframe thead th {\n",
       "        text-align: right;\n",
       "    }\n",
       "</style>\n",
       "<table border=\"1\" class=\"dataframe\">\n",
       "  <thead>\n",
       "    <tr style=\"text-align: right;\">\n",
       "      <th></th>\n",
       "      <th>Make</th>\n",
       "      <th>Make_v2</th>\n",
       "      <th>Model</th>\n",
       "      <th>Model_Det</th>\n",
       "      <th>Model_year</th>\n",
       "      <th>Online</th>\n",
       "      <th>Age</th>\n",
       "      <th>Mileage</th>\n",
       "      <th>Usure</th>\n",
       "      <th>Fuel</th>\n",
       "      <th>Diesel</th>\n",
       "      <th>Essence</th>\n",
       "      <th>Other_fuel</th>\n",
       "    </tr>\n",
       "  </thead>\n",
       "  <tbody>\n",
       "    <tr>\n",
       "      <th>0</th>\n",
       "      <td>PEUGEOT</td>\n",
       "      <td>PEUGEOT</td>\n",
       "      <td>308</td>\n",
       "      <td>308 2</td>\n",
       "      <td>2014</td>\n",
       "      <td>06/07/2018</td>\n",
       "      <td>4</td>\n",
       "      <td>94341</td>\n",
       "      <td>23585</td>\n",
       "      <td>Diesel</td>\n",
       "      <td>1</td>\n",
       "      <td>0</td>\n",
       "      <td>0</td>\n",
       "    </tr>\n",
       "    <tr>\n",
       "      <th>1</th>\n",
       "      <td>BMW</td>\n",
       "      <td>BMW</td>\n",
       "      <td>X6</td>\n",
       "      <td>X6 F16</td>\n",
       "      <td>2015</td>\n",
       "      <td>03/04/2018</td>\n",
       "      <td>3</td>\n",
       "      <td>39051</td>\n",
       "      <td>13017</td>\n",
       "      <td>Diesel</td>\n",
       "      <td>1</td>\n",
       "      <td>0</td>\n",
       "      <td>0</td>\n",
       "    </tr>\n",
       "    <tr>\n",
       "      <th>2</th>\n",
       "      <td>AUDI</td>\n",
       "      <td>AUDI</td>\n",
       "      <td>RS6</td>\n",
       "      <td>RS6 3 AVANT</td>\n",
       "      <td>2014</td>\n",
       "      <td>30/07/2018</td>\n",
       "      <td>4</td>\n",
       "      <td>75381</td>\n",
       "      <td>18845</td>\n",
       "      <td>Essence</td>\n",
       "      <td>0</td>\n",
       "      <td>1</td>\n",
       "      <td>0</td>\n",
       "    </tr>\n",
       "    <tr>\n",
       "      <th>3</th>\n",
       "      <td>FORD</td>\n",
       "      <td>FORD</td>\n",
       "      <td>KA</td>\n",
       "      <td>KA</td>\n",
       "      <td>2007</td>\n",
       "      <td>09/07/2018</td>\n",
       "      <td>11</td>\n",
       "      <td>92282</td>\n",
       "      <td>8389</td>\n",
       "      <td>Essence</td>\n",
       "      <td>0</td>\n",
       "      <td>1</td>\n",
       "      <td>0</td>\n",
       "    </tr>\n",
       "    <tr>\n",
       "      <th>4</th>\n",
       "      <td>FIAT</td>\n",
       "      <td>FIAT</td>\n",
       "      <td>TIPO</td>\n",
       "      <td>TIPO 2 SW</td>\n",
       "      <td>2018</td>\n",
       "      <td>19/05/2018</td>\n",
       "      <td>0</td>\n",
       "      <td>10</td>\n",
       "      <td>10</td>\n",
       "      <td>Essence</td>\n",
       "      <td>0</td>\n",
       "      <td>1</td>\n",
       "      <td>0</td>\n",
       "    </tr>\n",
       "  </tbody>\n",
       "</table>\n",
       "</div>"
      ],
      "text/plain": [
       "      Make  Make_v2 Model    Model_Det  Model_year      Online  Age  Mileage  \\\n",
       "0  PEUGEOT  PEUGEOT   308        308 2        2014  06/07/2018    4    94341   \n",
       "1      BMW      BMW    X6       X6 F16        2015  03/04/2018    3    39051   \n",
       "2     AUDI     AUDI   RS6  RS6 3 AVANT        2014  30/07/2018    4    75381   \n",
       "3     FORD     FORD    KA           KA        2007  09/07/2018   11    92282   \n",
       "4     FIAT     FIAT  TIPO    TIPO 2 SW        2018  19/05/2018    0       10   \n",
       "\n",
       "   Usure     Fuel  Diesel  Essence  Other_fuel  \n",
       "0  23585   Diesel       1        0           0  \n",
       "1  13017   Diesel       1        0           0  \n",
       "2  18845  Essence       0        1           0  \n",
       "3   8389  Essence       0        1           0  \n",
       "4     10  Essence       0        1           0  "
      ]
     },
     "execution_count": 40,
     "metadata": {},
     "output_type": "execute_result"
    }
   ],
   "source": [
    "df.head(5)"
   ]
  },
  {
   "cell_type": "markdown",
   "metadata": {},
   "source": [
    "### Gearbox"
   ]
  },
  {
   "cell_type": "code",
   "execution_count": 41,
   "metadata": {},
   "outputs": [],
   "source": [
    "df[\"Gearbox\"] = car_data[\"Gearbox\"]"
   ]
  },
  {
   "cell_type": "code",
   "execution_count": 42,
   "metadata": {},
   "outputs": [
    {
     "data": {
      "text/plain": [
       "mécanique      112766\n",
       "automatique     53612\n",
       "Name: Gearbox, dtype: int64"
      ]
     },
     "execution_count": 42,
     "metadata": {},
     "output_type": "execute_result"
    }
   ],
   "source": [
    "df[\"Gearbox\"].value_counts()"
   ]
  },
  {
   "cell_type": "code",
   "execution_count": 43,
   "metadata": {},
   "outputs": [],
   "source": [
    "df[\"Mecanique\"] = df[\"Gearbox\"].apply(lambda x: 1 if x == \"mécanique\" else 0)\n",
    "df[\"Automatique\"] = df[\"Gearbox\"].apply(lambda x: 1 if x == \"automatique\" else 0)"
   ]
  },
  {
   "cell_type": "code",
   "execution_count": 44,
   "metadata": {},
   "outputs": [
    {
     "data": {
      "text/html": [
       "<div>\n",
       "<style scoped>\n",
       "    .dataframe tbody tr th:only-of-type {\n",
       "        vertical-align: middle;\n",
       "    }\n",
       "\n",
       "    .dataframe tbody tr th {\n",
       "        vertical-align: top;\n",
       "    }\n",
       "\n",
       "    .dataframe thead th {\n",
       "        text-align: right;\n",
       "    }\n",
       "</style>\n",
       "<table border=\"1\" class=\"dataframe\">\n",
       "  <thead>\n",
       "    <tr style=\"text-align: right;\">\n",
       "      <th></th>\n",
       "      <th>Make</th>\n",
       "      <th>Make_v2</th>\n",
       "      <th>Model</th>\n",
       "      <th>Model_Det</th>\n",
       "      <th>Model_year</th>\n",
       "      <th>Online</th>\n",
       "      <th>Age</th>\n",
       "      <th>Mileage</th>\n",
       "      <th>Usure</th>\n",
       "      <th>Fuel</th>\n",
       "      <th>Diesel</th>\n",
       "      <th>Essence</th>\n",
       "      <th>Other_fuel</th>\n",
       "      <th>Gearbox</th>\n",
       "      <th>Mecanique</th>\n",
       "      <th>Automatique</th>\n",
       "    </tr>\n",
       "  </thead>\n",
       "  <tbody>\n",
       "    <tr>\n",
       "      <th>0</th>\n",
       "      <td>PEUGEOT</td>\n",
       "      <td>PEUGEOT</td>\n",
       "      <td>308</td>\n",
       "      <td>308 2</td>\n",
       "      <td>2014</td>\n",
       "      <td>06/07/2018</td>\n",
       "      <td>4</td>\n",
       "      <td>94341</td>\n",
       "      <td>23585</td>\n",
       "      <td>Diesel</td>\n",
       "      <td>1</td>\n",
       "      <td>0</td>\n",
       "      <td>0</td>\n",
       "      <td>mécanique</td>\n",
       "      <td>1</td>\n",
       "      <td>0</td>\n",
       "    </tr>\n",
       "    <tr>\n",
       "      <th>1</th>\n",
       "      <td>BMW</td>\n",
       "      <td>BMW</td>\n",
       "      <td>X6</td>\n",
       "      <td>X6 F16</td>\n",
       "      <td>2015</td>\n",
       "      <td>03/04/2018</td>\n",
       "      <td>3</td>\n",
       "      <td>39051</td>\n",
       "      <td>13017</td>\n",
       "      <td>Diesel</td>\n",
       "      <td>1</td>\n",
       "      <td>0</td>\n",
       "      <td>0</td>\n",
       "      <td>automatique</td>\n",
       "      <td>0</td>\n",
       "      <td>1</td>\n",
       "    </tr>\n",
       "    <tr>\n",
       "      <th>2</th>\n",
       "      <td>AUDI</td>\n",
       "      <td>AUDI</td>\n",
       "      <td>RS6</td>\n",
       "      <td>RS6 3 AVANT</td>\n",
       "      <td>2014</td>\n",
       "      <td>30/07/2018</td>\n",
       "      <td>4</td>\n",
       "      <td>75381</td>\n",
       "      <td>18845</td>\n",
       "      <td>Essence</td>\n",
       "      <td>0</td>\n",
       "      <td>1</td>\n",
       "      <td>0</td>\n",
       "      <td>automatique</td>\n",
       "      <td>0</td>\n",
       "      <td>1</td>\n",
       "    </tr>\n",
       "    <tr>\n",
       "      <th>3</th>\n",
       "      <td>FORD</td>\n",
       "      <td>FORD</td>\n",
       "      <td>KA</td>\n",
       "      <td>KA</td>\n",
       "      <td>2007</td>\n",
       "      <td>09/07/2018</td>\n",
       "      <td>11</td>\n",
       "      <td>92282</td>\n",
       "      <td>8389</td>\n",
       "      <td>Essence</td>\n",
       "      <td>0</td>\n",
       "      <td>1</td>\n",
       "      <td>0</td>\n",
       "      <td>mécanique</td>\n",
       "      <td>1</td>\n",
       "      <td>0</td>\n",
       "    </tr>\n",
       "    <tr>\n",
       "      <th>4</th>\n",
       "      <td>FIAT</td>\n",
       "      <td>FIAT</td>\n",
       "      <td>TIPO</td>\n",
       "      <td>TIPO 2 SW</td>\n",
       "      <td>2018</td>\n",
       "      <td>19/05/2018</td>\n",
       "      <td>0</td>\n",
       "      <td>10</td>\n",
       "      <td>10</td>\n",
       "      <td>Essence</td>\n",
       "      <td>0</td>\n",
       "      <td>1</td>\n",
       "      <td>0</td>\n",
       "      <td>mécanique</td>\n",
       "      <td>1</td>\n",
       "      <td>0</td>\n",
       "    </tr>\n",
       "  </tbody>\n",
       "</table>\n",
       "</div>"
      ],
      "text/plain": [
       "      Make  Make_v2 Model    Model_Det  Model_year      Online  Age  Mileage  \\\n",
       "0  PEUGEOT  PEUGEOT   308        308 2        2014  06/07/2018    4    94341   \n",
       "1      BMW      BMW    X6       X6 F16        2015  03/04/2018    3    39051   \n",
       "2     AUDI     AUDI   RS6  RS6 3 AVANT        2014  30/07/2018    4    75381   \n",
       "3     FORD     FORD    KA           KA        2007  09/07/2018   11    92282   \n",
       "4     FIAT     FIAT  TIPO    TIPO 2 SW        2018  19/05/2018    0       10   \n",
       "\n",
       "   Usure     Fuel  Diesel  Essence  Other_fuel      Gearbox  Mecanique  \\\n",
       "0  23585   Diesel       1        0           0    mécanique          1   \n",
       "1  13017   Diesel       1        0           0  automatique          0   \n",
       "2  18845  Essence       0        1           0  automatique          0   \n",
       "3   8389  Essence       0        1           0    mécanique          1   \n",
       "4     10  Essence       0        1           0    mécanique          1   \n",
       "\n",
       "   Automatique  \n",
       "0            0  \n",
       "1            1  \n",
       "2            1  \n",
       "3            0  \n",
       "4            0  "
      ]
     },
     "execution_count": 44,
     "metadata": {},
     "output_type": "execute_result"
    }
   ],
   "source": [
    "df.head(5)"
   ]
  },
  {
   "cell_type": "markdown",
   "metadata": {},
   "source": [
    "### Traitement description"
   ]
  },
  {
   "cell_type": "code",
   "execution_count": 45,
   "metadata": {},
   "outputs": [
    {
     "data": {
      "text/plain": [
       "\"modele: 308 (2E GENERATION), version: 1.6 HDI FAP 92CH BUSINESS 5P, puissance_fiscale: 4, portes: 5.0, options: banquette arrière 3 places;volant cuir;cache bagages;airbag frontal;banquette 1/3 - 2/3;sièges rang 2 rabattables à plat;vitres teintées;boucliers av et ar couleur caisse;phares av. de jour à LED;airbags rideaux;rétroviseurs électriques et dégivrants;siège conducteur avec réglage lombaire;vitres électriques;feux de freinage d'urgence;banquette rabattable;feux ar. à LED;AFU;contrôle de pression des pneus;airbags front. + lat.;blanc banquise;lampes de lecture à l'arrière;sièges réglables en hauteur;alarme d'oubli d'extinction des feux;EBD;volant sport;température extérieure;système audio;becquet;feux automatiques;fermeture électrique;ESP;fermeture électrique automatique;bacs de portes avant;anti patinage;accoudoir central avant;commandes du système audio au volant;fixations ISOFIX;poches d'aumonières;lampes de lecture à l'avant;lunette arrière dégivrante;essuie-glace arrière;ordinateur de bord;phares halogènes;climatisation;volant réglable en hauteur et profondeur;siège conducteur réglable hauteur;boite à gants réfrigérée;ABS;ceintures avant ajustables en hauteur;prise 12V;ecran tactile multifonction;FAP;3 ceintures ar. 3 points;ouverture des vitres séquentielle, couleur: BLANC BANQUISE\""
      ]
     },
     "execution_count": 45,
     "metadata": {},
     "output_type": "execute_result"
    }
   ],
   "source": [
    "car_data.iloc[0]['Description']"
   ]
  },
  {
   "cell_type": "markdown",
   "metadata": {},
   "source": [
    "### - Version"
   ]
  },
  {
   "cell_type": "code",
   "execution_count": 46,
   "metadata": {},
   "outputs": [],
   "source": [
    "df[\"Version\"] = car_data[\"Description\"].apply(lambda x: x.split('version: ')[1].split(', puissance_fiscale:')[0].upper())"
   ]
  },
  {
   "cell_type": "code",
   "execution_count": 47,
   "metadata": {},
   "outputs": [
    {
     "data": {
      "text/plain": [
       "0                         1.6 HDI FAP 92CH BUSINESS 5P\n",
       "1                     (F16) XDRIVE30D 258 M SPORT BVA8\n",
       "2             III AVANT 4.0 TFSI 560 QUATTRO TIPTRONIC\n",
       "3                                           1.3 70 FUN\n",
       "4                                     II SW 1.4 95 POP\n",
       "5                (F25) XDRIVE35D 313 SPORT DESIGN BVA8\n",
       "6    II (2) SPORTBACK 2.0 TDI 140 7CV AMBITION LUXE...\n",
       "7                 IV ESTATE 1.5 DCI 110 ENERGY ZEN EDC\n",
       "8                    II 1.6 TDCI 115 FAP TITANIUM BVM6\n",
       "9                   (W205) 63 AMG S SPEEDSHIFT MCT AMG\n",
       "Name: Version, dtype: object"
      ]
     },
     "execution_count": 47,
     "metadata": {},
     "output_type": "execute_result"
    }
   ],
   "source": [
    "df[\"Version\"].head(10)"
   ]
  },
  {
   "cell_type": "code",
   "execution_count": 48,
   "metadata": {},
   "outputs": [],
   "source": [
    "df[\"Version_temp\"] = df[\"Version\"]"
   ]
  },
  {
   "cell_type": "markdown",
   "metadata": {},
   "source": [
    "#### Numéro de génération"
   ]
  },
  {
   "cell_type": "code",
   "execution_count": 49,
   "metadata": {},
   "outputs": [],
   "source": [
    "#Générations standard\n",
    "vers = {\"II\": 2, \"III\": 3, \"IV\": 4, \"V\": 5, \"VI\": 6, \"VII\": 7, \"VIII\": 8, \"IX\": 9, \"X\": 10,\n",
    "        \"(2)\": 2, \"(3)\": 3, \"(4)\": 4, \"(5)\": 5, \"(6)\": 6, \"(7)\": 7, \"(8)\": 8, \"(9)\": 9, \"(10)\": 10}\n",
    "\n",
    "#Génération BMW.....\n",
    "vers2 = {\"(E28)\": 2, \"(E30)\": 2, \"(E32)\": 2, \"(E63)\": 2, \"(E64)\": 2, \"(E70)\": 2, \"(E89)\": 2, \"(F16)\": 2,\n",
    "         \"(X6)\": 2, \"(F20)\": 2,\"(F21)\": 2, \"(F25)\": 2, \"(F48)\": 2, \"(E34)\": 3, \"(E36)\": 3, \"(E38)\": 3, \n",
    "         \"(F06)\": 3, \"(F12)\": 3, \"(F13)\": 3, \"(F15)\": 3, \"(F52)\": 3, \"(E39)\": 4, \"(E46)\": 4, \"(E65)\": 4, \n",
    "         \"(E66)\": 4, \"(E67)\": 4, \"(E68)\": 4, \"(E60)\": 5, \"(E61)\": 5, \"(E90)\": 5, \"(E91)\": 5, \"(E92)\": 5, \n",
    "         \"(E93)\": 5, \"(F01)\": 5, \"(F02)\": 5, \"(F03)\": 5, \"(F04)\": 5, \"(F07)\": 6, \"(F10)\": 6, \"(F11)\": 6, \n",
    "         \"(F18)\": 6, \"(F30)\": 6, (\"F31\"): 6, (\"F34\"): 6, (\"F35\"): 6, (\"G11\"): 6, (\"G12\"): 6, (\"G30\"): 7,\n",
    "         \"(G31)\": 7}"
   ]
  },
  {
   "cell_type": "code",
   "execution_count": 50,
   "metadata": {},
   "outputs": [],
   "source": [
    "df[\"Génération\"] = df[\"Version_temp\"].apply(lambda x: vers[x.split(\" \")[0]] if x.split(\" \")[0] in vers else 1)"
   ]
  },
  {
   "cell_type": "code",
   "execution_count": 51,
   "metadata": {},
   "outputs": [],
   "source": [
    "df[\"Génération\"] = [vers2[x.split(\" \")[0]] \n",
    "               if x.split(\" \")[0] in vers2\n",
    "               else df.iloc[i][\"Génération\"]\n",
    "               for i, x in enumerate(df[\"Version_temp\"])]"
   ]
  },
  {
   "cell_type": "code",
   "execution_count": 52,
   "metadata": {},
   "outputs": [],
   "source": [
    "df[\"Version_temp\"] = df[\"Version_temp\"].apply(lambda x: ' '.join(x.split(\" \")[1:]) if x.split(\" \")[0] in vers or x.split(\" \")[0] in vers2 else x)"
   ]
  },
  {
   "cell_type": "code",
   "execution_count": 53,
   "metadata": {
    "scrolled": true
   },
   "outputs": [
    {
     "data": {
      "text/html": [
       "<div>\n",
       "<style scoped>\n",
       "    .dataframe tbody tr th:only-of-type {\n",
       "        vertical-align: middle;\n",
       "    }\n",
       "\n",
       "    .dataframe tbody tr th {\n",
       "        vertical-align: top;\n",
       "    }\n",
       "\n",
       "    .dataframe thead th {\n",
       "        text-align: right;\n",
       "    }\n",
       "</style>\n",
       "<table border=\"1\" class=\"dataframe\">\n",
       "  <thead>\n",
       "    <tr style=\"text-align: right;\">\n",
       "      <th></th>\n",
       "      <th>Make</th>\n",
       "      <th>Model</th>\n",
       "      <th>Version</th>\n",
       "      <th>Version_temp</th>\n",
       "      <th>Génération</th>\n",
       "    </tr>\n",
       "  </thead>\n",
       "  <tbody>\n",
       "    <tr>\n",
       "      <th>0</th>\n",
       "      <td>PEUGEOT</td>\n",
       "      <td>308</td>\n",
       "      <td>1.6 HDI FAP 92CH BUSINESS 5P</td>\n",
       "      <td>1.6 HDI FAP 92CH BUSINESS 5P</td>\n",
       "      <td>1</td>\n",
       "    </tr>\n",
       "    <tr>\n",
       "      <th>1</th>\n",
       "      <td>BMW</td>\n",
       "      <td>X6</td>\n",
       "      <td>(F16) XDRIVE30D 258 M SPORT BVA8</td>\n",
       "      <td>XDRIVE30D 258 M SPORT BVA8</td>\n",
       "      <td>2</td>\n",
       "    </tr>\n",
       "    <tr>\n",
       "      <th>2</th>\n",
       "      <td>AUDI</td>\n",
       "      <td>RS6</td>\n",
       "      <td>III AVANT 4.0 TFSI 560 QUATTRO TIPTRONIC</td>\n",
       "      <td>AVANT 4.0 TFSI 560 QUATTRO TIPTRONIC</td>\n",
       "      <td>3</td>\n",
       "    </tr>\n",
       "    <tr>\n",
       "      <th>3</th>\n",
       "      <td>FORD</td>\n",
       "      <td>KA</td>\n",
       "      <td>1.3 70 FUN</td>\n",
       "      <td>1.3 70 FUN</td>\n",
       "      <td>1</td>\n",
       "    </tr>\n",
       "    <tr>\n",
       "      <th>4</th>\n",
       "      <td>FIAT</td>\n",
       "      <td>TIPO</td>\n",
       "      <td>II SW 1.4 95 POP</td>\n",
       "      <td>SW 1.4 95 POP</td>\n",
       "      <td>2</td>\n",
       "    </tr>\n",
       "    <tr>\n",
       "      <th>5</th>\n",
       "      <td>BMW</td>\n",
       "      <td>X3</td>\n",
       "      <td>(F25) XDRIVE35D 313 SPORT DESIGN BVA8</td>\n",
       "      <td>XDRIVE35D 313 SPORT DESIGN BVA8</td>\n",
       "      <td>2</td>\n",
       "    </tr>\n",
       "    <tr>\n",
       "      <th>6</th>\n",
       "      <td>AUDI</td>\n",
       "      <td>A3</td>\n",
       "      <td>II (2) SPORTBACK 2.0 TDI 140 7CV AMBITION LUXE...</td>\n",
       "      <td>(2) SPORTBACK 2.0 TDI 140 7CV AMBITION LUXE QU...</td>\n",
       "      <td>2</td>\n",
       "    </tr>\n",
       "    <tr>\n",
       "      <th>7</th>\n",
       "      <td>RENAULT</td>\n",
       "      <td>MEGANE</td>\n",
       "      <td>IV ESTATE 1.5 DCI 110 ENERGY ZEN EDC</td>\n",
       "      <td>ESTATE 1.5 DCI 110 ENERGY ZEN EDC</td>\n",
       "      <td>4</td>\n",
       "    </tr>\n",
       "    <tr>\n",
       "      <th>8</th>\n",
       "      <td>FORD</td>\n",
       "      <td>C-MAX</td>\n",
       "      <td>II 1.6 TDCI 115 FAP TITANIUM BVM6</td>\n",
       "      <td>1.6 TDCI 115 FAP TITANIUM BVM6</td>\n",
       "      <td>2</td>\n",
       "    </tr>\n",
       "    <tr>\n",
       "      <th>9</th>\n",
       "      <td>MERCEDES</td>\n",
       "      <td>CLASSE C</td>\n",
       "      <td>(W205) 63 AMG S SPEEDSHIFT MCT AMG</td>\n",
       "      <td>(W205) 63 AMG S SPEEDSHIFT MCT AMG</td>\n",
       "      <td>1</td>\n",
       "    </tr>\n",
       "  </tbody>\n",
       "</table>\n",
       "</div>"
      ],
      "text/plain": [
       "       Make     Model                                            Version  \\\n",
       "0   PEUGEOT       308                       1.6 HDI FAP 92CH BUSINESS 5P   \n",
       "1       BMW        X6                   (F16) XDRIVE30D 258 M SPORT BVA8   \n",
       "2      AUDI       RS6           III AVANT 4.0 TFSI 560 QUATTRO TIPTRONIC   \n",
       "3      FORD        KA                                         1.3 70 FUN   \n",
       "4      FIAT      TIPO                                   II SW 1.4 95 POP   \n",
       "5       BMW        X3              (F25) XDRIVE35D 313 SPORT DESIGN BVA8   \n",
       "6      AUDI        A3  II (2) SPORTBACK 2.0 TDI 140 7CV AMBITION LUXE...   \n",
       "7   RENAULT    MEGANE               IV ESTATE 1.5 DCI 110 ENERGY ZEN EDC   \n",
       "8      FORD     C-MAX                  II 1.6 TDCI 115 FAP TITANIUM BVM6   \n",
       "9  MERCEDES  CLASSE C                 (W205) 63 AMG S SPEEDSHIFT MCT AMG   \n",
       "\n",
       "                                        Version_temp  Génération  \n",
       "0                       1.6 HDI FAP 92CH BUSINESS 5P           1  \n",
       "1                         XDRIVE30D 258 M SPORT BVA8           2  \n",
       "2               AVANT 4.0 TFSI 560 QUATTRO TIPTRONIC           3  \n",
       "3                                         1.3 70 FUN           1  \n",
       "4                                      SW 1.4 95 POP           2  \n",
       "5                    XDRIVE35D 313 SPORT DESIGN BVA8           2  \n",
       "6  (2) SPORTBACK 2.0 TDI 140 7CV AMBITION LUXE QU...           2  \n",
       "7                  ESTATE 1.5 DCI 110 ENERGY ZEN EDC           4  \n",
       "8                     1.6 TDCI 115 FAP TITANIUM BVM6           2  \n",
       "9                 (W205) 63 AMG S SPEEDSHIFT MCT AMG           1  "
      ]
     },
     "execution_count": 53,
     "metadata": {},
     "output_type": "execute_result"
    }
   ],
   "source": [
    "df[[\"Make\",\"Model\", \"Version\", \"Version_temp\", \"Génération\"]].head(10)"
   ]
  },
  {
   "cell_type": "code",
   "execution_count": 54,
   "metadata": {},
   "outputs": [],
   "source": [
    "df[\"Version_temp\"] = df[\"Version_temp\"].apply(lambda x: ' '.join(x.split(\" \")[1:]) if \"(\" in x.split(\" \")[0] and \")\" in x.split(\" \")[0] else x)"
   ]
  },
  {
   "cell_type": "code",
   "execution_count": 55,
   "metadata": {},
   "outputs": [
    {
     "data": {
      "text/html": [
       "<div>\n",
       "<style scoped>\n",
       "    .dataframe tbody tr th:only-of-type {\n",
       "        vertical-align: middle;\n",
       "    }\n",
       "\n",
       "    .dataframe tbody tr th {\n",
       "        vertical-align: top;\n",
       "    }\n",
       "\n",
       "    .dataframe thead th {\n",
       "        text-align: right;\n",
       "    }\n",
       "</style>\n",
       "<table border=\"1\" class=\"dataframe\">\n",
       "  <thead>\n",
       "    <tr style=\"text-align: right;\">\n",
       "      <th></th>\n",
       "      <th>Make</th>\n",
       "      <th>Model</th>\n",
       "      <th>Model_Det</th>\n",
       "      <th>Version</th>\n",
       "      <th>Version_temp</th>\n",
       "      <th>Génération</th>\n",
       "    </tr>\n",
       "  </thead>\n",
       "  <tbody>\n",
       "    <tr>\n",
       "      <th>0</th>\n",
       "      <td>PEUGEOT</td>\n",
       "      <td>308</td>\n",
       "      <td>308 2</td>\n",
       "      <td>1.6 HDI FAP 92CH BUSINESS 5P</td>\n",
       "      <td>1.6 HDI FAP 92CH BUSINESS 5P</td>\n",
       "      <td>1</td>\n",
       "    </tr>\n",
       "    <tr>\n",
       "      <th>1</th>\n",
       "      <td>BMW</td>\n",
       "      <td>X6</td>\n",
       "      <td>X6 F16</td>\n",
       "      <td>(F16) XDRIVE30D 258 M SPORT BVA8</td>\n",
       "      <td>XDRIVE30D 258 M SPORT BVA8</td>\n",
       "      <td>2</td>\n",
       "    </tr>\n",
       "    <tr>\n",
       "      <th>2</th>\n",
       "      <td>AUDI</td>\n",
       "      <td>RS6</td>\n",
       "      <td>RS6 3 AVANT</td>\n",
       "      <td>III AVANT 4.0 TFSI 560 QUATTRO TIPTRONIC</td>\n",
       "      <td>AVANT 4.0 TFSI 560 QUATTRO TIPTRONIC</td>\n",
       "      <td>3</td>\n",
       "    </tr>\n",
       "    <tr>\n",
       "      <th>3</th>\n",
       "      <td>FORD</td>\n",
       "      <td>KA</td>\n",
       "      <td>KA</td>\n",
       "      <td>1.3 70 FUN</td>\n",
       "      <td>1.3 70 FUN</td>\n",
       "      <td>1</td>\n",
       "    </tr>\n",
       "    <tr>\n",
       "      <th>4</th>\n",
       "      <td>FIAT</td>\n",
       "      <td>TIPO</td>\n",
       "      <td>TIPO 2 SW</td>\n",
       "      <td>II SW 1.4 95 POP</td>\n",
       "      <td>SW 1.4 95 POP</td>\n",
       "      <td>2</td>\n",
       "    </tr>\n",
       "    <tr>\n",
       "      <th>5</th>\n",
       "      <td>BMW</td>\n",
       "      <td>X3</td>\n",
       "      <td>X3 F25</td>\n",
       "      <td>(F25) XDRIVE35D 313 SPORT DESIGN BVA8</td>\n",
       "      <td>XDRIVE35D 313 SPORT DESIGN BVA8</td>\n",
       "      <td>2</td>\n",
       "    </tr>\n",
       "    <tr>\n",
       "      <th>6</th>\n",
       "      <td>AUDI</td>\n",
       "      <td>A3</td>\n",
       "      <td>A3 2 SPORTBACK</td>\n",
       "      <td>II (2) SPORTBACK 2.0 TDI 140 7CV AMBITION LUXE...</td>\n",
       "      <td>SPORTBACK 2.0 TDI 140 7CV AMBITION LUXE QUATTRO</td>\n",
       "      <td>2</td>\n",
       "    </tr>\n",
       "    <tr>\n",
       "      <th>7</th>\n",
       "      <td>RENAULT</td>\n",
       "      <td>MEGANE</td>\n",
       "      <td>MEGANE 4 ESTATE</td>\n",
       "      <td>IV ESTATE 1.5 DCI 110 ENERGY ZEN EDC</td>\n",
       "      <td>ESTATE 1.5 DCI 110 ENERGY ZEN EDC</td>\n",
       "      <td>4</td>\n",
       "    </tr>\n",
       "    <tr>\n",
       "      <th>8</th>\n",
       "      <td>FORD</td>\n",
       "      <td>C-MAX</td>\n",
       "      <td>C-MAX 2</td>\n",
       "      <td>II 1.6 TDCI 115 FAP TITANIUM BVM6</td>\n",
       "      <td>1.6 TDCI 115 FAP TITANIUM BVM6</td>\n",
       "      <td>2</td>\n",
       "    </tr>\n",
       "    <tr>\n",
       "      <th>9</th>\n",
       "      <td>MERCEDES</td>\n",
       "      <td>CLASSE C</td>\n",
       "      <td>CLASSE C 4 AMG</td>\n",
       "      <td>(W205) 63 AMG S SPEEDSHIFT MCT AMG</td>\n",
       "      <td>63 AMG S SPEEDSHIFT MCT AMG</td>\n",
       "      <td>1</td>\n",
       "    </tr>\n",
       "  </tbody>\n",
       "</table>\n",
       "</div>"
      ],
      "text/plain": [
       "       Make     Model        Model_Det  \\\n",
       "0   PEUGEOT       308            308 2   \n",
       "1       BMW        X6           X6 F16   \n",
       "2      AUDI       RS6      RS6 3 AVANT   \n",
       "3      FORD        KA               KA   \n",
       "4      FIAT      TIPO        TIPO 2 SW   \n",
       "5       BMW        X3           X3 F25   \n",
       "6      AUDI        A3   A3 2 SPORTBACK   \n",
       "7   RENAULT    MEGANE  MEGANE 4 ESTATE   \n",
       "8      FORD     C-MAX          C-MAX 2   \n",
       "9  MERCEDES  CLASSE C   CLASSE C 4 AMG   \n",
       "\n",
       "                                             Version  \\\n",
       "0                       1.6 HDI FAP 92CH BUSINESS 5P   \n",
       "1                   (F16) XDRIVE30D 258 M SPORT BVA8   \n",
       "2           III AVANT 4.0 TFSI 560 QUATTRO TIPTRONIC   \n",
       "3                                         1.3 70 FUN   \n",
       "4                                   II SW 1.4 95 POP   \n",
       "5              (F25) XDRIVE35D 313 SPORT DESIGN BVA8   \n",
       "6  II (2) SPORTBACK 2.0 TDI 140 7CV AMBITION LUXE...   \n",
       "7               IV ESTATE 1.5 DCI 110 ENERGY ZEN EDC   \n",
       "8                  II 1.6 TDCI 115 FAP TITANIUM BVM6   \n",
       "9                 (W205) 63 AMG S SPEEDSHIFT MCT AMG   \n",
       "\n",
       "                                      Version_temp  Génération  \n",
       "0                     1.6 HDI FAP 92CH BUSINESS 5P           1  \n",
       "1                       XDRIVE30D 258 M SPORT BVA8           2  \n",
       "2             AVANT 4.0 TFSI 560 QUATTRO TIPTRONIC           3  \n",
       "3                                       1.3 70 FUN           1  \n",
       "4                                    SW 1.4 95 POP           2  \n",
       "5                  XDRIVE35D 313 SPORT DESIGN BVA8           2  \n",
       "6  SPORTBACK 2.0 TDI 140 7CV AMBITION LUXE QUATTRO           2  \n",
       "7                ESTATE 1.5 DCI 110 ENERGY ZEN EDC           4  \n",
       "8                   1.6 TDCI 115 FAP TITANIUM BVM6           2  \n",
       "9                      63 AMG S SPEEDSHIFT MCT AMG           1  "
      ]
     },
     "execution_count": 55,
     "metadata": {},
     "output_type": "execute_result"
    }
   ],
   "source": [
    "df[[\"Make\", \"Model\", \"Model_Det\", \"Version\", \"Version_temp\", \"Génération\"]].head(10)"
   ]
  },
  {
   "cell_type": "markdown",
   "metadata": {},
   "source": [
    "#### Modèle special"
   ]
  },
  {
   "cell_type": "code",
   "execution_count": 56,
   "metadata": {},
   "outputs": [],
   "source": [
    "df[\"Version_adj\"] = df[\"Version_temp\"].apply(lambda x: x.split(\" \")[0] if x.split(\" \")[0].isalpha() else None)"
   ]
  },
  {
   "cell_type": "code",
   "execution_count": 57,
   "metadata": {},
   "outputs": [
    {
     "data": {
      "text/html": [
       "<div>\n",
       "<style scoped>\n",
       "    .dataframe tbody tr th:only-of-type {\n",
       "        vertical-align: middle;\n",
       "    }\n",
       "\n",
       "    .dataframe tbody tr th {\n",
       "        vertical-align: top;\n",
       "    }\n",
       "\n",
       "    .dataframe thead th {\n",
       "        text-align: right;\n",
       "    }\n",
       "</style>\n",
       "<table border=\"1\" class=\"dataframe\">\n",
       "  <thead>\n",
       "    <tr style=\"text-align: right;\">\n",
       "      <th></th>\n",
       "      <th>Make</th>\n",
       "      <th>Model</th>\n",
       "      <th>Model_Det</th>\n",
       "      <th>Version</th>\n",
       "      <th>Version_temp</th>\n",
       "      <th>Version_adj</th>\n",
       "    </tr>\n",
       "  </thead>\n",
       "  <tbody>\n",
       "    <tr>\n",
       "      <th>0</th>\n",
       "      <td>PEUGEOT</td>\n",
       "      <td>308</td>\n",
       "      <td>308 2</td>\n",
       "      <td>1.6 HDI FAP 92CH BUSINESS 5P</td>\n",
       "      <td>1.6 HDI FAP 92CH BUSINESS 5P</td>\n",
       "      <td>None</td>\n",
       "    </tr>\n",
       "    <tr>\n",
       "      <th>1</th>\n",
       "      <td>BMW</td>\n",
       "      <td>X6</td>\n",
       "      <td>X6 F16</td>\n",
       "      <td>(F16) XDRIVE30D 258 M SPORT BVA8</td>\n",
       "      <td>XDRIVE30D 258 M SPORT BVA8</td>\n",
       "      <td>None</td>\n",
       "    </tr>\n",
       "    <tr>\n",
       "      <th>2</th>\n",
       "      <td>AUDI</td>\n",
       "      <td>RS6</td>\n",
       "      <td>RS6 3 AVANT</td>\n",
       "      <td>III AVANT 4.0 TFSI 560 QUATTRO TIPTRONIC</td>\n",
       "      <td>AVANT 4.0 TFSI 560 QUATTRO TIPTRONIC</td>\n",
       "      <td>AVANT</td>\n",
       "    </tr>\n",
       "    <tr>\n",
       "      <th>3</th>\n",
       "      <td>FORD</td>\n",
       "      <td>KA</td>\n",
       "      <td>KA</td>\n",
       "      <td>1.3 70 FUN</td>\n",
       "      <td>1.3 70 FUN</td>\n",
       "      <td>None</td>\n",
       "    </tr>\n",
       "    <tr>\n",
       "      <th>4</th>\n",
       "      <td>FIAT</td>\n",
       "      <td>TIPO</td>\n",
       "      <td>TIPO 2 SW</td>\n",
       "      <td>II SW 1.4 95 POP</td>\n",
       "      <td>SW 1.4 95 POP</td>\n",
       "      <td>SW</td>\n",
       "    </tr>\n",
       "    <tr>\n",
       "      <th>5</th>\n",
       "      <td>BMW</td>\n",
       "      <td>X3</td>\n",
       "      <td>X3 F25</td>\n",
       "      <td>(F25) XDRIVE35D 313 SPORT DESIGN BVA8</td>\n",
       "      <td>XDRIVE35D 313 SPORT DESIGN BVA8</td>\n",
       "      <td>None</td>\n",
       "    </tr>\n",
       "    <tr>\n",
       "      <th>6</th>\n",
       "      <td>AUDI</td>\n",
       "      <td>A3</td>\n",
       "      <td>A3 2 SPORTBACK</td>\n",
       "      <td>II (2) SPORTBACK 2.0 TDI 140 7CV AMBITION LUXE...</td>\n",
       "      <td>SPORTBACK 2.0 TDI 140 7CV AMBITION LUXE QUATTRO</td>\n",
       "      <td>SPORTBACK</td>\n",
       "    </tr>\n",
       "    <tr>\n",
       "      <th>7</th>\n",
       "      <td>RENAULT</td>\n",
       "      <td>MEGANE</td>\n",
       "      <td>MEGANE 4 ESTATE</td>\n",
       "      <td>IV ESTATE 1.5 DCI 110 ENERGY ZEN EDC</td>\n",
       "      <td>ESTATE 1.5 DCI 110 ENERGY ZEN EDC</td>\n",
       "      <td>ESTATE</td>\n",
       "    </tr>\n",
       "    <tr>\n",
       "      <th>8</th>\n",
       "      <td>FORD</td>\n",
       "      <td>C-MAX</td>\n",
       "      <td>C-MAX 2</td>\n",
       "      <td>II 1.6 TDCI 115 FAP TITANIUM BVM6</td>\n",
       "      <td>1.6 TDCI 115 FAP TITANIUM BVM6</td>\n",
       "      <td>None</td>\n",
       "    </tr>\n",
       "    <tr>\n",
       "      <th>9</th>\n",
       "      <td>MERCEDES</td>\n",
       "      <td>CLASSE C</td>\n",
       "      <td>CLASSE C 4 AMG</td>\n",
       "      <td>(W205) 63 AMG S SPEEDSHIFT MCT AMG</td>\n",
       "      <td>63 AMG S SPEEDSHIFT MCT AMG</td>\n",
       "      <td>None</td>\n",
       "    </tr>\n",
       "  </tbody>\n",
       "</table>\n",
       "</div>"
      ],
      "text/plain": [
       "       Make     Model        Model_Det  \\\n",
       "0   PEUGEOT       308            308 2   \n",
       "1       BMW        X6           X6 F16   \n",
       "2      AUDI       RS6      RS6 3 AVANT   \n",
       "3      FORD        KA               KA   \n",
       "4      FIAT      TIPO        TIPO 2 SW   \n",
       "5       BMW        X3           X3 F25   \n",
       "6      AUDI        A3   A3 2 SPORTBACK   \n",
       "7   RENAULT    MEGANE  MEGANE 4 ESTATE   \n",
       "8      FORD     C-MAX          C-MAX 2   \n",
       "9  MERCEDES  CLASSE C   CLASSE C 4 AMG   \n",
       "\n",
       "                                             Version  \\\n",
       "0                       1.6 HDI FAP 92CH BUSINESS 5P   \n",
       "1                   (F16) XDRIVE30D 258 M SPORT BVA8   \n",
       "2           III AVANT 4.0 TFSI 560 QUATTRO TIPTRONIC   \n",
       "3                                         1.3 70 FUN   \n",
       "4                                   II SW 1.4 95 POP   \n",
       "5              (F25) XDRIVE35D 313 SPORT DESIGN BVA8   \n",
       "6  II (2) SPORTBACK 2.0 TDI 140 7CV AMBITION LUXE...   \n",
       "7               IV ESTATE 1.5 DCI 110 ENERGY ZEN EDC   \n",
       "8                  II 1.6 TDCI 115 FAP TITANIUM BVM6   \n",
       "9                 (W205) 63 AMG S SPEEDSHIFT MCT AMG   \n",
       "\n",
       "                                      Version_temp Version_adj  \n",
       "0                     1.6 HDI FAP 92CH BUSINESS 5P        None  \n",
       "1                       XDRIVE30D 258 M SPORT BVA8        None  \n",
       "2             AVANT 4.0 TFSI 560 QUATTRO TIPTRONIC       AVANT  \n",
       "3                                       1.3 70 FUN        None  \n",
       "4                                    SW 1.4 95 POP          SW  \n",
       "5                  XDRIVE35D 313 SPORT DESIGN BVA8        None  \n",
       "6  SPORTBACK 2.0 TDI 140 7CV AMBITION LUXE QUATTRO   SPORTBACK  \n",
       "7                ESTATE 1.5 DCI 110 ENERGY ZEN EDC      ESTATE  \n",
       "8                   1.6 TDCI 115 FAP TITANIUM BVM6        None  \n",
       "9                      63 AMG S SPEEDSHIFT MCT AMG        None  "
      ]
     },
     "execution_count": 57,
     "metadata": {},
     "output_type": "execute_result"
    }
   ],
   "source": [
    "df[[\"Make\", \"Model\", \"Model_Det\", \"Version\", \"Version_temp\", \"Version_adj\"]].head(10)"
   ]
  },
  {
   "cell_type": "code",
   "execution_count": 58,
   "metadata": {
    "scrolled": false
   },
   "outputs": [
    {
     "data": {
      "text/plain": [
       "SW           3627\n",
       "SPORTBACK    2836\n",
       "ESTATE       2381\n",
       "COUPE        1745\n",
       "CABRIOLET    1421\n",
       "STEPWAY       959\n",
       "AVANT         869\n",
       "GRAN          748\n",
       "TOURING       729\n",
       "COOPER        686\n",
       "HDI           680\n",
       "DCI           442\n",
       "COMBI         381\n",
       "BLUEHDI       360\n",
       "C             359\n",
       "ACTIVE        357\n",
       "SHOOTING      327\n",
       "CC            324\n",
       "CLUBMAN       313\n",
       "TOURER        296\n",
       "Name: Version_adj, dtype: int64"
      ]
     },
     "execution_count": 58,
     "metadata": {},
     "output_type": "execute_result"
    }
   ],
   "source": [
    "df[\"Version_adj\"].value_counts()[0:20]"
   ]
  },
  {
   "cell_type": "code",
   "execution_count": 59,
   "metadata": {},
   "outputs": [
    {
     "data": {
      "text/plain": [
       "418"
      ]
     },
     "execution_count": 59,
     "metadata": {},
     "output_type": "execute_result"
    }
   ],
   "source": [
    "df['Version_adj'].unique().size"
   ]
  },
  {
   "cell_type": "code",
   "execution_count": 60,
   "metadata": {},
   "outputs": [],
   "source": [
    "df[\"Version_temp\"] = df[\"Version_temp\"].apply(lambda x: ' '.join(x.split(\" \")[1:]) if x.split(\" \")[0].isalpha() else x)"
   ]
  },
  {
   "cell_type": "code",
   "execution_count": 61,
   "metadata": {},
   "outputs": [
    {
     "data": {
      "text/html": [
       "<div>\n",
       "<style scoped>\n",
       "    .dataframe tbody tr th:only-of-type {\n",
       "        vertical-align: middle;\n",
       "    }\n",
       "\n",
       "    .dataframe tbody tr th {\n",
       "        vertical-align: top;\n",
       "    }\n",
       "\n",
       "    .dataframe thead th {\n",
       "        text-align: right;\n",
       "    }\n",
       "</style>\n",
       "<table border=\"1\" class=\"dataframe\">\n",
       "  <thead>\n",
       "    <tr style=\"text-align: right;\">\n",
       "      <th></th>\n",
       "      <th>Make</th>\n",
       "      <th>Model</th>\n",
       "      <th>Model_Det</th>\n",
       "      <th>Version</th>\n",
       "      <th>Version_temp</th>\n",
       "      <th>Version_adj</th>\n",
       "    </tr>\n",
       "  </thead>\n",
       "  <tbody>\n",
       "    <tr>\n",
       "      <th>0</th>\n",
       "      <td>PEUGEOT</td>\n",
       "      <td>308</td>\n",
       "      <td>308 2</td>\n",
       "      <td>1.6 HDI FAP 92CH BUSINESS 5P</td>\n",
       "      <td>1.6 HDI FAP 92CH BUSINESS 5P</td>\n",
       "      <td>None</td>\n",
       "    </tr>\n",
       "    <tr>\n",
       "      <th>1</th>\n",
       "      <td>BMW</td>\n",
       "      <td>X6</td>\n",
       "      <td>X6 F16</td>\n",
       "      <td>(F16) XDRIVE30D 258 M SPORT BVA8</td>\n",
       "      <td>XDRIVE30D 258 M SPORT BVA8</td>\n",
       "      <td>None</td>\n",
       "    </tr>\n",
       "    <tr>\n",
       "      <th>2</th>\n",
       "      <td>AUDI</td>\n",
       "      <td>RS6</td>\n",
       "      <td>RS6 3 AVANT</td>\n",
       "      <td>III AVANT 4.0 TFSI 560 QUATTRO TIPTRONIC</td>\n",
       "      <td>4.0 TFSI 560 QUATTRO TIPTRONIC</td>\n",
       "      <td>AVANT</td>\n",
       "    </tr>\n",
       "    <tr>\n",
       "      <th>3</th>\n",
       "      <td>FORD</td>\n",
       "      <td>KA</td>\n",
       "      <td>KA</td>\n",
       "      <td>1.3 70 FUN</td>\n",
       "      <td>1.3 70 FUN</td>\n",
       "      <td>None</td>\n",
       "    </tr>\n",
       "    <tr>\n",
       "      <th>4</th>\n",
       "      <td>FIAT</td>\n",
       "      <td>TIPO</td>\n",
       "      <td>TIPO 2 SW</td>\n",
       "      <td>II SW 1.4 95 POP</td>\n",
       "      <td>1.4 95 POP</td>\n",
       "      <td>SW</td>\n",
       "    </tr>\n",
       "    <tr>\n",
       "      <th>5</th>\n",
       "      <td>BMW</td>\n",
       "      <td>X3</td>\n",
       "      <td>X3 F25</td>\n",
       "      <td>(F25) XDRIVE35D 313 SPORT DESIGN BVA8</td>\n",
       "      <td>XDRIVE35D 313 SPORT DESIGN BVA8</td>\n",
       "      <td>None</td>\n",
       "    </tr>\n",
       "    <tr>\n",
       "      <th>6</th>\n",
       "      <td>AUDI</td>\n",
       "      <td>A3</td>\n",
       "      <td>A3 2 SPORTBACK</td>\n",
       "      <td>II (2) SPORTBACK 2.0 TDI 140 7CV AMBITION LUXE...</td>\n",
       "      <td>2.0 TDI 140 7CV AMBITION LUXE QUATTRO</td>\n",
       "      <td>SPORTBACK</td>\n",
       "    </tr>\n",
       "    <tr>\n",
       "      <th>7</th>\n",
       "      <td>RENAULT</td>\n",
       "      <td>MEGANE</td>\n",
       "      <td>MEGANE 4 ESTATE</td>\n",
       "      <td>IV ESTATE 1.5 DCI 110 ENERGY ZEN EDC</td>\n",
       "      <td>1.5 DCI 110 ENERGY ZEN EDC</td>\n",
       "      <td>ESTATE</td>\n",
       "    </tr>\n",
       "    <tr>\n",
       "      <th>8</th>\n",
       "      <td>FORD</td>\n",
       "      <td>C-MAX</td>\n",
       "      <td>C-MAX 2</td>\n",
       "      <td>II 1.6 TDCI 115 FAP TITANIUM BVM6</td>\n",
       "      <td>1.6 TDCI 115 FAP TITANIUM BVM6</td>\n",
       "      <td>None</td>\n",
       "    </tr>\n",
       "    <tr>\n",
       "      <th>9</th>\n",
       "      <td>MERCEDES</td>\n",
       "      <td>CLASSE C</td>\n",
       "      <td>CLASSE C 4 AMG</td>\n",
       "      <td>(W205) 63 AMG S SPEEDSHIFT MCT AMG</td>\n",
       "      <td>63 AMG S SPEEDSHIFT MCT AMG</td>\n",
       "      <td>None</td>\n",
       "    </tr>\n",
       "  </tbody>\n",
       "</table>\n",
       "</div>"
      ],
      "text/plain": [
       "       Make     Model        Model_Det  \\\n",
       "0   PEUGEOT       308            308 2   \n",
       "1       BMW        X6           X6 F16   \n",
       "2      AUDI       RS6      RS6 3 AVANT   \n",
       "3      FORD        KA               KA   \n",
       "4      FIAT      TIPO        TIPO 2 SW   \n",
       "5       BMW        X3           X3 F25   \n",
       "6      AUDI        A3   A3 2 SPORTBACK   \n",
       "7   RENAULT    MEGANE  MEGANE 4 ESTATE   \n",
       "8      FORD     C-MAX          C-MAX 2   \n",
       "9  MERCEDES  CLASSE C   CLASSE C 4 AMG   \n",
       "\n",
       "                                             Version  \\\n",
       "0                       1.6 HDI FAP 92CH BUSINESS 5P   \n",
       "1                   (F16) XDRIVE30D 258 M SPORT BVA8   \n",
       "2           III AVANT 4.0 TFSI 560 QUATTRO TIPTRONIC   \n",
       "3                                         1.3 70 FUN   \n",
       "4                                   II SW 1.4 95 POP   \n",
       "5              (F25) XDRIVE35D 313 SPORT DESIGN BVA8   \n",
       "6  II (2) SPORTBACK 2.0 TDI 140 7CV AMBITION LUXE...   \n",
       "7               IV ESTATE 1.5 DCI 110 ENERGY ZEN EDC   \n",
       "8                  II 1.6 TDCI 115 FAP TITANIUM BVM6   \n",
       "9                 (W205) 63 AMG S SPEEDSHIFT MCT AMG   \n",
       "\n",
       "                            Version_temp Version_adj  \n",
       "0           1.6 HDI FAP 92CH BUSINESS 5P        None  \n",
       "1             XDRIVE30D 258 M SPORT BVA8        None  \n",
       "2         4.0 TFSI 560 QUATTRO TIPTRONIC       AVANT  \n",
       "3                             1.3 70 FUN        None  \n",
       "4                             1.4 95 POP          SW  \n",
       "5        XDRIVE35D 313 SPORT DESIGN BVA8        None  \n",
       "6  2.0 TDI 140 7CV AMBITION LUXE QUATTRO   SPORTBACK  \n",
       "7             1.5 DCI 110 ENERGY ZEN EDC      ESTATE  \n",
       "8         1.6 TDCI 115 FAP TITANIUM BVM6        None  \n",
       "9            63 AMG S SPEEDSHIFT MCT AMG        None  "
      ]
     },
     "execution_count": 61,
     "metadata": {},
     "output_type": "execute_result"
    }
   ],
   "source": [
    "df[[\"Make\", \"Model\", \"Model_Det\", \"Version\", \"Version_temp\", \"Version_adj\"]].head(10)"
   ]
  },
  {
   "cell_type": "markdown",
   "metadata": {},
   "source": [
    "#### Cylindré"
   ]
  },
  {
   "cell_type": "code",
   "execution_count": 62,
   "metadata": {},
   "outputs": [],
   "source": [
    "def test_float(x):\n",
    "    try:\n",
    "        return float(x)\n",
    "    except ValueError:\n",
    "        return x\n",
    "    \n",
    "def test_int(x):\n",
    "    try:\n",
    "        return int(x)\n",
    "    except ValueError:\n",
    "        return x   \n",
    "\n",
    "def int_to_float(x):\n",
    "    if isinstance(x, int) :\n",
    "        x = [str(i) for i in str(x)]\n",
    "        if len(x) == 3 :\n",
    "            del x[-1]\n",
    "            x.insert(-1, \".\")\n",
    "            x = ''.join(x)\n",
    "            return float(x)\n",
    "        else :\n",
    "            x.insert(-1, \".\")\n",
    "            x = ''.join(x)\n",
    "            return float(x)\n",
    "        \n",
    "def extract_int(x):\n",
    "    x = [str(i) for i in str(x) if i.isdigit()]\n",
    "    if len(x) > 0 :\n",
    "        x = int(''.join(x))\n",
    "        return x\n",
    "    else :\n",
    "        return 0.0"
   ]
  },
  {
   "cell_type": "markdown",
   "metadata": {},
   "source": [
    "On extrait en premier les float"
   ]
  },
  {
   "cell_type": "code",
   "execution_count": 63,
   "metadata": {},
   "outputs": [],
   "source": [
    "df[\"Cylindre\"] = df[\"Version_temp\"].apply(lambda x: x.split(\" \")[0] if isinstance(test_float(x.split(\" \")[0]), float) and \".\" in x.split(\" \")[0] else None)"
   ]
  },
  {
   "cell_type": "markdown",
   "metadata": {},
   "source": [
    "On transforme ensuite les int en cylindrés"
   ]
  },
  {
   "cell_type": "code",
   "execution_count": 64,
   "metadata": {},
   "outputs": [],
   "source": [
    "df[\"Cylindre\"] = [int_to_float(int(x.split(\" \")[0]))\n",
    "                   if isinstance(test_int(x.split(\" \")[0]), int)\n",
    "                   else df.iloc[i][\"Cylindre\"]\n",
    "                   for i, x in enumerate(df[\"Version_temp\"])]"
   ]
  },
  {
   "cell_type": "code",
   "execution_count": 65,
   "metadata": {},
   "outputs": [
    {
     "data": {
      "text/html": [
       "<div>\n",
       "<style scoped>\n",
       "    .dataframe tbody tr th:only-of-type {\n",
       "        vertical-align: middle;\n",
       "    }\n",
       "\n",
       "    .dataframe tbody tr th {\n",
       "        vertical-align: top;\n",
       "    }\n",
       "\n",
       "    .dataframe thead th {\n",
       "        text-align: right;\n",
       "    }\n",
       "</style>\n",
       "<table border=\"1\" class=\"dataframe\">\n",
       "  <thead>\n",
       "    <tr style=\"text-align: right;\">\n",
       "      <th></th>\n",
       "      <th>Make</th>\n",
       "      <th>Model</th>\n",
       "      <th>Model_Det</th>\n",
       "      <th>Version</th>\n",
       "      <th>Version_temp</th>\n",
       "      <th>Cylindre</th>\n",
       "    </tr>\n",
       "  </thead>\n",
       "  <tbody>\n",
       "    <tr>\n",
       "      <th>0</th>\n",
       "      <td>PEUGEOT</td>\n",
       "      <td>308</td>\n",
       "      <td>308 2</td>\n",
       "      <td>1.6 HDI FAP 92CH BUSINESS 5P</td>\n",
       "      <td>1.6 HDI FAP 92CH BUSINESS 5P</td>\n",
       "      <td>1.6</td>\n",
       "    </tr>\n",
       "    <tr>\n",
       "      <th>1</th>\n",
       "      <td>BMW</td>\n",
       "      <td>X6</td>\n",
       "      <td>X6 F16</td>\n",
       "      <td>(F16) XDRIVE30D 258 M SPORT BVA8</td>\n",
       "      <td>XDRIVE30D 258 M SPORT BVA8</td>\n",
       "      <td>None</td>\n",
       "    </tr>\n",
       "    <tr>\n",
       "      <th>2</th>\n",
       "      <td>AUDI</td>\n",
       "      <td>RS6</td>\n",
       "      <td>RS6 3 AVANT</td>\n",
       "      <td>III AVANT 4.0 TFSI 560 QUATTRO TIPTRONIC</td>\n",
       "      <td>4.0 TFSI 560 QUATTRO TIPTRONIC</td>\n",
       "      <td>4.0</td>\n",
       "    </tr>\n",
       "    <tr>\n",
       "      <th>3</th>\n",
       "      <td>FORD</td>\n",
       "      <td>KA</td>\n",
       "      <td>KA</td>\n",
       "      <td>1.3 70 FUN</td>\n",
       "      <td>1.3 70 FUN</td>\n",
       "      <td>1.3</td>\n",
       "    </tr>\n",
       "    <tr>\n",
       "      <th>4</th>\n",
       "      <td>FIAT</td>\n",
       "      <td>TIPO</td>\n",
       "      <td>TIPO 2 SW</td>\n",
       "      <td>II SW 1.4 95 POP</td>\n",
       "      <td>1.4 95 POP</td>\n",
       "      <td>1.4</td>\n",
       "    </tr>\n",
       "    <tr>\n",
       "      <th>5</th>\n",
       "      <td>BMW</td>\n",
       "      <td>X3</td>\n",
       "      <td>X3 F25</td>\n",
       "      <td>(F25) XDRIVE35D 313 SPORT DESIGN BVA8</td>\n",
       "      <td>XDRIVE35D 313 SPORT DESIGN BVA8</td>\n",
       "      <td>None</td>\n",
       "    </tr>\n",
       "    <tr>\n",
       "      <th>6</th>\n",
       "      <td>AUDI</td>\n",
       "      <td>A3</td>\n",
       "      <td>A3 2 SPORTBACK</td>\n",
       "      <td>II (2) SPORTBACK 2.0 TDI 140 7CV AMBITION LUXE...</td>\n",
       "      <td>2.0 TDI 140 7CV AMBITION LUXE QUATTRO</td>\n",
       "      <td>2.0</td>\n",
       "    </tr>\n",
       "    <tr>\n",
       "      <th>7</th>\n",
       "      <td>RENAULT</td>\n",
       "      <td>MEGANE</td>\n",
       "      <td>MEGANE 4 ESTATE</td>\n",
       "      <td>IV ESTATE 1.5 DCI 110 ENERGY ZEN EDC</td>\n",
       "      <td>1.5 DCI 110 ENERGY ZEN EDC</td>\n",
       "      <td>1.5</td>\n",
       "    </tr>\n",
       "    <tr>\n",
       "      <th>8</th>\n",
       "      <td>FORD</td>\n",
       "      <td>C-MAX</td>\n",
       "      <td>C-MAX 2</td>\n",
       "      <td>II 1.6 TDCI 115 FAP TITANIUM BVM6</td>\n",
       "      <td>1.6 TDCI 115 FAP TITANIUM BVM6</td>\n",
       "      <td>1.6</td>\n",
       "    </tr>\n",
       "    <tr>\n",
       "      <th>9</th>\n",
       "      <td>MERCEDES</td>\n",
       "      <td>CLASSE C</td>\n",
       "      <td>CLASSE C 4 AMG</td>\n",
       "      <td>(W205) 63 AMG S SPEEDSHIFT MCT AMG</td>\n",
       "      <td>63 AMG S SPEEDSHIFT MCT AMG</td>\n",
       "      <td>6.3</td>\n",
       "    </tr>\n",
       "  </tbody>\n",
       "</table>\n",
       "</div>"
      ],
      "text/plain": [
       "       Make     Model        Model_Det  \\\n",
       "0   PEUGEOT       308            308 2   \n",
       "1       BMW        X6           X6 F16   \n",
       "2      AUDI       RS6      RS6 3 AVANT   \n",
       "3      FORD        KA               KA   \n",
       "4      FIAT      TIPO        TIPO 2 SW   \n",
       "5       BMW        X3           X3 F25   \n",
       "6      AUDI        A3   A3 2 SPORTBACK   \n",
       "7   RENAULT    MEGANE  MEGANE 4 ESTATE   \n",
       "8      FORD     C-MAX          C-MAX 2   \n",
       "9  MERCEDES  CLASSE C   CLASSE C 4 AMG   \n",
       "\n",
       "                                             Version  \\\n",
       "0                       1.6 HDI FAP 92CH BUSINESS 5P   \n",
       "1                   (F16) XDRIVE30D 258 M SPORT BVA8   \n",
       "2           III AVANT 4.0 TFSI 560 QUATTRO TIPTRONIC   \n",
       "3                                         1.3 70 FUN   \n",
       "4                                   II SW 1.4 95 POP   \n",
       "5              (F25) XDRIVE35D 313 SPORT DESIGN BVA8   \n",
       "6  II (2) SPORTBACK 2.0 TDI 140 7CV AMBITION LUXE...   \n",
       "7               IV ESTATE 1.5 DCI 110 ENERGY ZEN EDC   \n",
       "8                  II 1.6 TDCI 115 FAP TITANIUM BVM6   \n",
       "9                 (W205) 63 AMG S SPEEDSHIFT MCT AMG   \n",
       "\n",
       "                            Version_temp Cylindre  \n",
       "0           1.6 HDI FAP 92CH BUSINESS 5P      1.6  \n",
       "1             XDRIVE30D 258 M SPORT BVA8     None  \n",
       "2         4.0 TFSI 560 QUATTRO TIPTRONIC      4.0  \n",
       "3                             1.3 70 FUN      1.3  \n",
       "4                             1.4 95 POP      1.4  \n",
       "5        XDRIVE35D 313 SPORT DESIGN BVA8     None  \n",
       "6  2.0 TDI 140 7CV AMBITION LUXE QUATTRO      2.0  \n",
       "7             1.5 DCI 110 ENERGY ZEN EDC      1.5  \n",
       "8         1.6 TDCI 115 FAP TITANIUM BVM6      1.6  \n",
       "9            63 AMG S SPEEDSHIFT MCT AMG      6.3  "
      ]
     },
     "execution_count": 65,
     "metadata": {},
     "output_type": "execute_result"
    }
   ],
   "source": [
    "df[[\"Make\", \"Model\", \"Model_Det\", \"Version\", \"Version_temp\", \"Cylindre\"]].head(10)"
   ]
  },
  {
   "cell_type": "markdown",
   "metadata": {},
   "source": [
    "On extrait les cylindrés dans les valeurs alphanumériques"
   ]
  },
  {
   "cell_type": "code",
   "execution_count": 66,
   "metadata": {},
   "outputs": [],
   "source": [
    "df[\"Cylindre\"] = [int_to_float(extract_int(x.split(\" \")[0]))\n",
    "                   if not x.split(\" \")[0].isalpha() and not df.iloc[i][\"Cylindre\"]\n",
    "                   else df.iloc[i][\"Cylindre\"]\n",
    "                   for i, x in enumerate(df[\"Version_temp\"])]"
   ]
  },
  {
   "cell_type": "code",
   "execution_count": 67,
   "metadata": {},
   "outputs": [
    {
     "data": {
      "text/html": [
       "<div>\n",
       "<style scoped>\n",
       "    .dataframe tbody tr th:only-of-type {\n",
       "        vertical-align: middle;\n",
       "    }\n",
       "\n",
       "    .dataframe tbody tr th {\n",
       "        vertical-align: top;\n",
       "    }\n",
       "\n",
       "    .dataframe thead th {\n",
       "        text-align: right;\n",
       "    }\n",
       "</style>\n",
       "<table border=\"1\" class=\"dataframe\">\n",
       "  <thead>\n",
       "    <tr style=\"text-align: right;\">\n",
       "      <th></th>\n",
       "      <th>Make</th>\n",
       "      <th>Model</th>\n",
       "      <th>Model_Det</th>\n",
       "      <th>Version</th>\n",
       "      <th>Version_temp</th>\n",
       "      <th>Cylindre</th>\n",
       "    </tr>\n",
       "  </thead>\n",
       "  <tbody>\n",
       "    <tr>\n",
       "      <th>0</th>\n",
       "      <td>PEUGEOT</td>\n",
       "      <td>308</td>\n",
       "      <td>308 2</td>\n",
       "      <td>1.6 HDI FAP 92CH BUSINESS 5P</td>\n",
       "      <td>1.6 HDI FAP 92CH BUSINESS 5P</td>\n",
       "      <td>1.6</td>\n",
       "    </tr>\n",
       "    <tr>\n",
       "      <th>1</th>\n",
       "      <td>BMW</td>\n",
       "      <td>X6</td>\n",
       "      <td>X6 F16</td>\n",
       "      <td>(F16) XDRIVE30D 258 M SPORT BVA8</td>\n",
       "      <td>XDRIVE30D 258 M SPORT BVA8</td>\n",
       "      <td>3</td>\n",
       "    </tr>\n",
       "    <tr>\n",
       "      <th>2</th>\n",
       "      <td>AUDI</td>\n",
       "      <td>RS6</td>\n",
       "      <td>RS6 3 AVANT</td>\n",
       "      <td>III AVANT 4.0 TFSI 560 QUATTRO TIPTRONIC</td>\n",
       "      <td>4.0 TFSI 560 QUATTRO TIPTRONIC</td>\n",
       "      <td>4.0</td>\n",
       "    </tr>\n",
       "    <tr>\n",
       "      <th>3</th>\n",
       "      <td>FORD</td>\n",
       "      <td>KA</td>\n",
       "      <td>KA</td>\n",
       "      <td>1.3 70 FUN</td>\n",
       "      <td>1.3 70 FUN</td>\n",
       "      <td>1.3</td>\n",
       "    </tr>\n",
       "    <tr>\n",
       "      <th>4</th>\n",
       "      <td>FIAT</td>\n",
       "      <td>TIPO</td>\n",
       "      <td>TIPO 2 SW</td>\n",
       "      <td>II SW 1.4 95 POP</td>\n",
       "      <td>1.4 95 POP</td>\n",
       "      <td>1.4</td>\n",
       "    </tr>\n",
       "    <tr>\n",
       "      <th>5</th>\n",
       "      <td>BMW</td>\n",
       "      <td>X3</td>\n",
       "      <td>X3 F25</td>\n",
       "      <td>(F25) XDRIVE35D 313 SPORT DESIGN BVA8</td>\n",
       "      <td>XDRIVE35D 313 SPORT DESIGN BVA8</td>\n",
       "      <td>3.5</td>\n",
       "    </tr>\n",
       "    <tr>\n",
       "      <th>6</th>\n",
       "      <td>AUDI</td>\n",
       "      <td>A3</td>\n",
       "      <td>A3 2 SPORTBACK</td>\n",
       "      <td>II (2) SPORTBACK 2.0 TDI 140 7CV AMBITION LUXE...</td>\n",
       "      <td>2.0 TDI 140 7CV AMBITION LUXE QUATTRO</td>\n",
       "      <td>2.0</td>\n",
       "    </tr>\n",
       "    <tr>\n",
       "      <th>7</th>\n",
       "      <td>RENAULT</td>\n",
       "      <td>MEGANE</td>\n",
       "      <td>MEGANE 4 ESTATE</td>\n",
       "      <td>IV ESTATE 1.5 DCI 110 ENERGY ZEN EDC</td>\n",
       "      <td>1.5 DCI 110 ENERGY ZEN EDC</td>\n",
       "      <td>1.5</td>\n",
       "    </tr>\n",
       "    <tr>\n",
       "      <th>8</th>\n",
       "      <td>FORD</td>\n",
       "      <td>C-MAX</td>\n",
       "      <td>C-MAX 2</td>\n",
       "      <td>II 1.6 TDCI 115 FAP TITANIUM BVM6</td>\n",
       "      <td>1.6 TDCI 115 FAP TITANIUM BVM6</td>\n",
       "      <td>1.6</td>\n",
       "    </tr>\n",
       "    <tr>\n",
       "      <th>9</th>\n",
       "      <td>MERCEDES</td>\n",
       "      <td>CLASSE C</td>\n",
       "      <td>CLASSE C 4 AMG</td>\n",
       "      <td>(W205) 63 AMG S SPEEDSHIFT MCT AMG</td>\n",
       "      <td>63 AMG S SPEEDSHIFT MCT AMG</td>\n",
       "      <td>6.3</td>\n",
       "    </tr>\n",
       "  </tbody>\n",
       "</table>\n",
       "</div>"
      ],
      "text/plain": [
       "       Make     Model        Model_Det  \\\n",
       "0   PEUGEOT       308            308 2   \n",
       "1       BMW        X6           X6 F16   \n",
       "2      AUDI       RS6      RS6 3 AVANT   \n",
       "3      FORD        KA               KA   \n",
       "4      FIAT      TIPO        TIPO 2 SW   \n",
       "5       BMW        X3           X3 F25   \n",
       "6      AUDI        A3   A3 2 SPORTBACK   \n",
       "7   RENAULT    MEGANE  MEGANE 4 ESTATE   \n",
       "8      FORD     C-MAX          C-MAX 2   \n",
       "9  MERCEDES  CLASSE C   CLASSE C 4 AMG   \n",
       "\n",
       "                                             Version  \\\n",
       "0                       1.6 HDI FAP 92CH BUSINESS 5P   \n",
       "1                   (F16) XDRIVE30D 258 M SPORT BVA8   \n",
       "2           III AVANT 4.0 TFSI 560 QUATTRO TIPTRONIC   \n",
       "3                                         1.3 70 FUN   \n",
       "4                                   II SW 1.4 95 POP   \n",
       "5              (F25) XDRIVE35D 313 SPORT DESIGN BVA8   \n",
       "6  II (2) SPORTBACK 2.0 TDI 140 7CV AMBITION LUXE...   \n",
       "7               IV ESTATE 1.5 DCI 110 ENERGY ZEN EDC   \n",
       "8                  II 1.6 TDCI 115 FAP TITANIUM BVM6   \n",
       "9                 (W205) 63 AMG S SPEEDSHIFT MCT AMG   \n",
       "\n",
       "                            Version_temp Cylindre  \n",
       "0           1.6 HDI FAP 92CH BUSINESS 5P      1.6  \n",
       "1             XDRIVE30D 258 M SPORT BVA8        3  \n",
       "2         4.0 TFSI 560 QUATTRO TIPTRONIC      4.0  \n",
       "3                             1.3 70 FUN      1.3  \n",
       "4                             1.4 95 POP      1.4  \n",
       "5        XDRIVE35D 313 SPORT DESIGN BVA8      3.5  \n",
       "6  2.0 TDI 140 7CV AMBITION LUXE QUATTRO      2.0  \n",
       "7             1.5 DCI 110 ENERGY ZEN EDC      1.5  \n",
       "8         1.6 TDCI 115 FAP TITANIUM BVM6      1.6  \n",
       "9            63 AMG S SPEEDSHIFT MCT AMG      6.3  "
      ]
     },
     "execution_count": 67,
     "metadata": {},
     "output_type": "execute_result"
    }
   ],
   "source": [
    "df[[\"Make\", \"Model\", \"Model_Det\", \"Version\", \"Version_temp\", \"Cylindre\"]].head(10)"
   ]
  },
  {
   "cell_type": "markdown",
   "metadata": {},
   "source": [
    "On supprime tout ce qui n'est pas alpha"
   ]
  },
  {
   "cell_type": "code",
   "execution_count": 68,
   "metadata": {},
   "outputs": [],
   "source": [
    "df[\"Version_temp\"] = df[\"Version_temp\"].apply(lambda x: ' '.join(x.split(\" \")[1:]) if not x.split(\" \")[0].isalpha() else x)"
   ]
  },
  {
   "cell_type": "code",
   "execution_count": 69,
   "metadata": {},
   "outputs": [],
   "source": [
    "df[\"Cylindre\"] = df[\"Cylindre\"].apply(lambda x: float(x) if x else None)"
   ]
  },
  {
   "cell_type": "code",
   "execution_count": 70,
   "metadata": {},
   "outputs": [
    {
     "data": {
      "text/html": [
       "<div>\n",
       "<style scoped>\n",
       "    .dataframe tbody tr th:only-of-type {\n",
       "        vertical-align: middle;\n",
       "    }\n",
       "\n",
       "    .dataframe tbody tr th {\n",
       "        vertical-align: top;\n",
       "    }\n",
       "\n",
       "    .dataframe thead th {\n",
       "        text-align: right;\n",
       "    }\n",
       "</style>\n",
       "<table border=\"1\" class=\"dataframe\">\n",
       "  <thead>\n",
       "    <tr style=\"text-align: right;\">\n",
       "      <th></th>\n",
       "      <th>Make</th>\n",
       "      <th>Model</th>\n",
       "      <th>Model_Det</th>\n",
       "      <th>Version</th>\n",
       "      <th>Version_temp</th>\n",
       "      <th>Version_adj</th>\n",
       "      <th>Cylindre</th>\n",
       "    </tr>\n",
       "  </thead>\n",
       "  <tbody>\n",
       "    <tr>\n",
       "      <th>0</th>\n",
       "      <td>PEUGEOT</td>\n",
       "      <td>308</td>\n",
       "      <td>308 2</td>\n",
       "      <td>1.6 HDI FAP 92CH BUSINESS 5P</td>\n",
       "      <td>HDI FAP 92CH BUSINESS 5P</td>\n",
       "      <td>None</td>\n",
       "      <td>1.6</td>\n",
       "    </tr>\n",
       "    <tr>\n",
       "      <th>1</th>\n",
       "      <td>BMW</td>\n",
       "      <td>X6</td>\n",
       "      <td>X6 F16</td>\n",
       "      <td>(F16) XDRIVE30D 258 M SPORT BVA8</td>\n",
       "      <td>258 M SPORT BVA8</td>\n",
       "      <td>None</td>\n",
       "      <td>3.0</td>\n",
       "    </tr>\n",
       "    <tr>\n",
       "      <th>2</th>\n",
       "      <td>AUDI</td>\n",
       "      <td>RS6</td>\n",
       "      <td>RS6 3 AVANT</td>\n",
       "      <td>III AVANT 4.0 TFSI 560 QUATTRO TIPTRONIC</td>\n",
       "      <td>TFSI 560 QUATTRO TIPTRONIC</td>\n",
       "      <td>AVANT</td>\n",
       "      <td>4.0</td>\n",
       "    </tr>\n",
       "    <tr>\n",
       "      <th>3</th>\n",
       "      <td>FORD</td>\n",
       "      <td>KA</td>\n",
       "      <td>KA</td>\n",
       "      <td>1.3 70 FUN</td>\n",
       "      <td>70 FUN</td>\n",
       "      <td>None</td>\n",
       "      <td>1.3</td>\n",
       "    </tr>\n",
       "    <tr>\n",
       "      <th>4</th>\n",
       "      <td>FIAT</td>\n",
       "      <td>TIPO</td>\n",
       "      <td>TIPO 2 SW</td>\n",
       "      <td>II SW 1.4 95 POP</td>\n",
       "      <td>95 POP</td>\n",
       "      <td>SW</td>\n",
       "      <td>1.4</td>\n",
       "    </tr>\n",
       "    <tr>\n",
       "      <th>5</th>\n",
       "      <td>BMW</td>\n",
       "      <td>X3</td>\n",
       "      <td>X3 F25</td>\n",
       "      <td>(F25) XDRIVE35D 313 SPORT DESIGN BVA8</td>\n",
       "      <td>313 SPORT DESIGN BVA8</td>\n",
       "      <td>None</td>\n",
       "      <td>3.5</td>\n",
       "    </tr>\n",
       "    <tr>\n",
       "      <th>6</th>\n",
       "      <td>AUDI</td>\n",
       "      <td>A3</td>\n",
       "      <td>A3 2 SPORTBACK</td>\n",
       "      <td>II (2) SPORTBACK 2.0 TDI 140 7CV AMBITION LUXE...</td>\n",
       "      <td>TDI 140 7CV AMBITION LUXE QUATTRO</td>\n",
       "      <td>SPORTBACK</td>\n",
       "      <td>2.0</td>\n",
       "    </tr>\n",
       "    <tr>\n",
       "      <th>7</th>\n",
       "      <td>RENAULT</td>\n",
       "      <td>MEGANE</td>\n",
       "      <td>MEGANE 4 ESTATE</td>\n",
       "      <td>IV ESTATE 1.5 DCI 110 ENERGY ZEN EDC</td>\n",
       "      <td>DCI 110 ENERGY ZEN EDC</td>\n",
       "      <td>ESTATE</td>\n",
       "      <td>1.5</td>\n",
       "    </tr>\n",
       "    <tr>\n",
       "      <th>8</th>\n",
       "      <td>FORD</td>\n",
       "      <td>C-MAX</td>\n",
       "      <td>C-MAX 2</td>\n",
       "      <td>II 1.6 TDCI 115 FAP TITANIUM BVM6</td>\n",
       "      <td>TDCI 115 FAP TITANIUM BVM6</td>\n",
       "      <td>None</td>\n",
       "      <td>1.6</td>\n",
       "    </tr>\n",
       "    <tr>\n",
       "      <th>9</th>\n",
       "      <td>MERCEDES</td>\n",
       "      <td>CLASSE C</td>\n",
       "      <td>CLASSE C 4 AMG</td>\n",
       "      <td>(W205) 63 AMG S SPEEDSHIFT MCT AMG</td>\n",
       "      <td>AMG S SPEEDSHIFT MCT AMG</td>\n",
       "      <td>None</td>\n",
       "      <td>6.3</td>\n",
       "    </tr>\n",
       "  </tbody>\n",
       "</table>\n",
       "</div>"
      ],
      "text/plain": [
       "       Make     Model        Model_Det  \\\n",
       "0   PEUGEOT       308            308 2   \n",
       "1       BMW        X6           X6 F16   \n",
       "2      AUDI       RS6      RS6 3 AVANT   \n",
       "3      FORD        KA               KA   \n",
       "4      FIAT      TIPO        TIPO 2 SW   \n",
       "5       BMW        X3           X3 F25   \n",
       "6      AUDI        A3   A3 2 SPORTBACK   \n",
       "7   RENAULT    MEGANE  MEGANE 4 ESTATE   \n",
       "8      FORD     C-MAX          C-MAX 2   \n",
       "9  MERCEDES  CLASSE C   CLASSE C 4 AMG   \n",
       "\n",
       "                                             Version  \\\n",
       "0                       1.6 HDI FAP 92CH BUSINESS 5P   \n",
       "1                   (F16) XDRIVE30D 258 M SPORT BVA8   \n",
       "2           III AVANT 4.0 TFSI 560 QUATTRO TIPTRONIC   \n",
       "3                                         1.3 70 FUN   \n",
       "4                                   II SW 1.4 95 POP   \n",
       "5              (F25) XDRIVE35D 313 SPORT DESIGN BVA8   \n",
       "6  II (2) SPORTBACK 2.0 TDI 140 7CV AMBITION LUXE...   \n",
       "7               IV ESTATE 1.5 DCI 110 ENERGY ZEN EDC   \n",
       "8                  II 1.6 TDCI 115 FAP TITANIUM BVM6   \n",
       "9                 (W205) 63 AMG S SPEEDSHIFT MCT AMG   \n",
       "\n",
       "                        Version_temp Version_adj  Cylindre  \n",
       "0           HDI FAP 92CH BUSINESS 5P        None       1.6  \n",
       "1                   258 M SPORT BVA8        None       3.0  \n",
       "2         TFSI 560 QUATTRO TIPTRONIC       AVANT       4.0  \n",
       "3                             70 FUN        None       1.3  \n",
       "4                             95 POP          SW       1.4  \n",
       "5              313 SPORT DESIGN BVA8        None       3.5  \n",
       "6  TDI 140 7CV AMBITION LUXE QUATTRO   SPORTBACK       2.0  \n",
       "7             DCI 110 ENERGY ZEN EDC      ESTATE       1.5  \n",
       "8         TDCI 115 FAP TITANIUM BVM6        None       1.6  \n",
       "9           AMG S SPEEDSHIFT MCT AMG        None       6.3  "
      ]
     },
     "execution_count": 70,
     "metadata": {},
     "output_type": "execute_result"
    }
   ],
   "source": [
    "df[[\"Make\", \"Model\", \"Model_Det\", \"Version\", \"Version_temp\", \"Version_adj\", \"Cylindre\"]].head(10)"
   ]
  },
  {
   "cell_type": "markdown",
   "metadata": {},
   "source": [
    "% de cylindré non trouvé"
   ]
  },
  {
   "cell_type": "code",
   "execution_count": 71,
   "metadata": {},
   "outputs": [
    {
     "name": "stdout",
     "output_type": "stream",
     "text": [
      "3.693316381223045\n"
     ]
    }
   ],
   "source": [
    "print(df[\"Cylindre\"].isnull().sum()/df[\"Cylindre\"].count()*100)"
   ]
  },
  {
   "cell_type": "markdown",
   "metadata": {},
   "source": [
    "#### Chevaux"
   ]
  },
  {
   "cell_type": "code",
   "execution_count": 72,
   "metadata": {},
   "outputs": [],
   "source": [
    "def extract_int_v2(x):\n",
    "    x = [str(i) for i in str(x) if i.isdigit()]\n",
    "    if x :\n",
    "        try:\n",
    "            return int(''.join(x))\n",
    "        except:\n",
    "            pass\n",
    "\n",
    "def extract_cv(x):\n",
    "    x = x.split(\" \")\n",
    "    final = []\n",
    "    for i, y in enumerate(x):\n",
    "        if not y.isalpha():\n",
    "            final.append(extract_int_v2(y))\n",
    "    \n",
    "    final = [x for x in final if len(str(x)) > 1]\n",
    "    \n",
    "    if len(final) > 0 :\n",
    "        if final[0] :\n",
    "            if final[0] > 9 :\n",
    "                return int(final[0])\n",
    "            else :\n",
    "                return None\n",
    "        else :\n",
    "            return None    \n",
    "    else :\n",
    "        return None"
   ]
  },
  {
   "cell_type": "code",
   "execution_count": 73,
   "metadata": {},
   "outputs": [],
   "source": [
    "df[\"Chevaux\"] = df[\"Version_temp\"].apply(lambda x: extract_cv(x))"
   ]
  },
  {
   "cell_type": "code",
   "execution_count": 74,
   "metadata": {},
   "outputs": [
    {
     "data": {
      "text/html": [
       "<div>\n",
       "<style scoped>\n",
       "    .dataframe tbody tr th:only-of-type {\n",
       "        vertical-align: middle;\n",
       "    }\n",
       "\n",
       "    .dataframe tbody tr th {\n",
       "        vertical-align: top;\n",
       "    }\n",
       "\n",
       "    .dataframe thead th {\n",
       "        text-align: right;\n",
       "    }\n",
       "</style>\n",
       "<table border=\"1\" class=\"dataframe\">\n",
       "  <thead>\n",
       "    <tr style=\"text-align: right;\">\n",
       "      <th></th>\n",
       "      <th>Make</th>\n",
       "      <th>Model</th>\n",
       "      <th>Version</th>\n",
       "      <th>Cylindre</th>\n",
       "      <th>Chevaux</th>\n",
       "    </tr>\n",
       "  </thead>\n",
       "  <tbody>\n",
       "    <tr>\n",
       "      <th>0</th>\n",
       "      <td>PEUGEOT</td>\n",
       "      <td>308</td>\n",
       "      <td>1.6 HDI FAP 92CH BUSINESS 5P</td>\n",
       "      <td>1.6</td>\n",
       "      <td>92.0</td>\n",
       "    </tr>\n",
       "    <tr>\n",
       "      <th>1</th>\n",
       "      <td>BMW</td>\n",
       "      <td>X6</td>\n",
       "      <td>(F16) XDRIVE30D 258 M SPORT BVA8</td>\n",
       "      <td>3.0</td>\n",
       "      <td>258.0</td>\n",
       "    </tr>\n",
       "    <tr>\n",
       "      <th>2</th>\n",
       "      <td>AUDI</td>\n",
       "      <td>RS6</td>\n",
       "      <td>III AVANT 4.0 TFSI 560 QUATTRO TIPTRONIC</td>\n",
       "      <td>4.0</td>\n",
       "      <td>560.0</td>\n",
       "    </tr>\n",
       "    <tr>\n",
       "      <th>3</th>\n",
       "      <td>FORD</td>\n",
       "      <td>KA</td>\n",
       "      <td>1.3 70 FUN</td>\n",
       "      <td>1.3</td>\n",
       "      <td>70.0</td>\n",
       "    </tr>\n",
       "    <tr>\n",
       "      <th>4</th>\n",
       "      <td>FIAT</td>\n",
       "      <td>TIPO</td>\n",
       "      <td>II SW 1.4 95 POP</td>\n",
       "      <td>1.4</td>\n",
       "      <td>95.0</td>\n",
       "    </tr>\n",
       "    <tr>\n",
       "      <th>5</th>\n",
       "      <td>BMW</td>\n",
       "      <td>X3</td>\n",
       "      <td>(F25) XDRIVE35D 313 SPORT DESIGN BVA8</td>\n",
       "      <td>3.5</td>\n",
       "      <td>313.0</td>\n",
       "    </tr>\n",
       "    <tr>\n",
       "      <th>6</th>\n",
       "      <td>AUDI</td>\n",
       "      <td>A3</td>\n",
       "      <td>II (2) SPORTBACK 2.0 TDI 140 7CV AMBITION LUXE...</td>\n",
       "      <td>2.0</td>\n",
       "      <td>140.0</td>\n",
       "    </tr>\n",
       "    <tr>\n",
       "      <th>7</th>\n",
       "      <td>RENAULT</td>\n",
       "      <td>MEGANE</td>\n",
       "      <td>IV ESTATE 1.5 DCI 110 ENERGY ZEN EDC</td>\n",
       "      <td>1.5</td>\n",
       "      <td>110.0</td>\n",
       "    </tr>\n",
       "    <tr>\n",
       "      <th>8</th>\n",
       "      <td>FORD</td>\n",
       "      <td>C-MAX</td>\n",
       "      <td>II 1.6 TDCI 115 FAP TITANIUM BVM6</td>\n",
       "      <td>1.6</td>\n",
       "      <td>115.0</td>\n",
       "    </tr>\n",
       "    <tr>\n",
       "      <th>9</th>\n",
       "      <td>MERCEDES</td>\n",
       "      <td>CLASSE C</td>\n",
       "      <td>(W205) 63 AMG S SPEEDSHIFT MCT AMG</td>\n",
       "      <td>6.3</td>\n",
       "      <td>NaN</td>\n",
       "    </tr>\n",
       "    <tr>\n",
       "      <th>10</th>\n",
       "      <td>SEAT</td>\n",
       "      <td>IBIZA</td>\n",
       "      <td>IV (2) 1.4 TDI 90 CONNECT</td>\n",
       "      <td>1.4</td>\n",
       "      <td>90.0</td>\n",
       "    </tr>\n",
       "    <tr>\n",
       "      <th>11</th>\n",
       "      <td>MINI</td>\n",
       "      <td>MINI</td>\n",
       "      <td>III 1.5 COOPER D 116 PACK CHILI BVA 5P</td>\n",
       "      <td>1.5</td>\n",
       "      <td>116.0</td>\n",
       "    </tr>\n",
       "    <tr>\n",
       "      <th>12</th>\n",
       "      <td>FIAT</td>\n",
       "      <td>500 X</td>\n",
       "      <td>1.4 MULTIAIR 140 LOUNGE 4X2 DCT</td>\n",
       "      <td>1.4</td>\n",
       "      <td>140.0</td>\n",
       "    </tr>\n",
       "    <tr>\n",
       "      <th>13</th>\n",
       "      <td>FORD</td>\n",
       "      <td>MONDEO</td>\n",
       "      <td>(2) 1.8 125 GHIA 5P</td>\n",
       "      <td>1.8</td>\n",
       "      <td>125.0</td>\n",
       "    </tr>\n",
       "    <tr>\n",
       "      <th>14</th>\n",
       "      <td>HYUNDAI</td>\n",
       "      <td>I20</td>\n",
       "      <td>(2) 1.1 CRDI 75 PACK INVENTIVE</td>\n",
       "      <td>1.1</td>\n",
       "      <td>75.0</td>\n",
       "    </tr>\n",
       "    <tr>\n",
       "      <th>15</th>\n",
       "      <td>DACIA</td>\n",
       "      <td>SANDERO</td>\n",
       "      <td>II (2) STEPWAY TCE 90</td>\n",
       "      <td>NaN</td>\n",
       "      <td>90.0</td>\n",
       "    </tr>\n",
       "    <tr>\n",
       "      <th>16</th>\n",
       "      <td>PEUGEOT</td>\n",
       "      <td>208</td>\n",
       "      <td>(2) 1.2 PURETECH 82 ALLURE 5P</td>\n",
       "      <td>1.2</td>\n",
       "      <td>82.0</td>\n",
       "    </tr>\n",
       "    <tr>\n",
       "      <th>17</th>\n",
       "      <td>VOLKSWAGEN</td>\n",
       "      <td>GOLF</td>\n",
       "      <td>VI 2.0 TDI 110 FAP BLUEMOTION TECHNOLOGY CARAT...</td>\n",
       "      <td>2.0</td>\n",
       "      <td>110.0</td>\n",
       "    </tr>\n",
       "    <tr>\n",
       "      <th>18</th>\n",
       "      <td>CITROEN</td>\n",
       "      <td>C3</td>\n",
       "      <td>II (2) 1.4 HDI 70 FAP BUSINESS</td>\n",
       "      <td>1.4</td>\n",
       "      <td>70.0</td>\n",
       "    </tr>\n",
       "    <tr>\n",
       "      <th>19</th>\n",
       "      <td>TOYOTA</td>\n",
       "      <td>AURIS</td>\n",
       "      <td>HSD 136H DESIGN</td>\n",
       "      <td>1.3</td>\n",
       "      <td>NaN</td>\n",
       "    </tr>\n",
       "  </tbody>\n",
       "</table>\n",
       "</div>"
      ],
      "text/plain": [
       "          Make     Model                                            Version  \\\n",
       "0      PEUGEOT       308                       1.6 HDI FAP 92CH BUSINESS 5P   \n",
       "1          BMW        X6                   (F16) XDRIVE30D 258 M SPORT BVA8   \n",
       "2         AUDI       RS6           III AVANT 4.0 TFSI 560 QUATTRO TIPTRONIC   \n",
       "3         FORD        KA                                         1.3 70 FUN   \n",
       "4         FIAT      TIPO                                   II SW 1.4 95 POP   \n",
       "5          BMW        X3              (F25) XDRIVE35D 313 SPORT DESIGN BVA8   \n",
       "6         AUDI        A3  II (2) SPORTBACK 2.0 TDI 140 7CV AMBITION LUXE...   \n",
       "7      RENAULT    MEGANE               IV ESTATE 1.5 DCI 110 ENERGY ZEN EDC   \n",
       "8         FORD     C-MAX                  II 1.6 TDCI 115 FAP TITANIUM BVM6   \n",
       "9     MERCEDES  CLASSE C                 (W205) 63 AMG S SPEEDSHIFT MCT AMG   \n",
       "10        SEAT     IBIZA                          IV (2) 1.4 TDI 90 CONNECT   \n",
       "11        MINI      MINI             III 1.5 COOPER D 116 PACK CHILI BVA 5P   \n",
       "12        FIAT     500 X                    1.4 MULTIAIR 140 LOUNGE 4X2 DCT   \n",
       "13        FORD    MONDEO                                (2) 1.8 125 GHIA 5P   \n",
       "14     HYUNDAI       I20                     (2) 1.1 CRDI 75 PACK INVENTIVE   \n",
       "15       DACIA   SANDERO                              II (2) STEPWAY TCE 90   \n",
       "16     PEUGEOT       208                      (2) 1.2 PURETECH 82 ALLURE 5P   \n",
       "17  VOLKSWAGEN      GOLF  VI 2.0 TDI 110 FAP BLUEMOTION TECHNOLOGY CARAT...   \n",
       "18     CITROEN        C3                     II (2) 1.4 HDI 70 FAP BUSINESS   \n",
       "19      TOYOTA     AURIS                                    HSD 136H DESIGN   \n",
       "\n",
       "    Cylindre  Chevaux  \n",
       "0        1.6     92.0  \n",
       "1        3.0    258.0  \n",
       "2        4.0    560.0  \n",
       "3        1.3     70.0  \n",
       "4        1.4     95.0  \n",
       "5        3.5    313.0  \n",
       "6        2.0    140.0  \n",
       "7        1.5    110.0  \n",
       "8        1.6    115.0  \n",
       "9        6.3      NaN  \n",
       "10       1.4     90.0  \n",
       "11       1.5    116.0  \n",
       "12       1.4    140.0  \n",
       "13       1.8    125.0  \n",
       "14       1.1     75.0  \n",
       "15       NaN     90.0  \n",
       "16       1.2     82.0  \n",
       "17       2.0    110.0  \n",
       "18       1.4     70.0  \n",
       "19       1.3      NaN  "
      ]
     },
     "execution_count": 74,
     "metadata": {},
     "output_type": "execute_result"
    }
   ],
   "source": [
    "df[[\"Make\", \"Model\", \"Version\", \"Cylindre\", \"Chevaux\"]].head(20)"
   ]
  },
  {
   "cell_type": "markdown",
   "metadata": {},
   "source": [
    "% de chevaux non trouvé"
   ]
  },
  {
   "cell_type": "code",
   "execution_count": 75,
   "metadata": {},
   "outputs": [
    {
     "name": "stdout",
     "output_type": "stream",
     "text": [
      "22.82989059016345\n"
     ]
    }
   ],
   "source": [
    "print(df[\"Chevaux\"].isnull().sum()/df[\"Chevaux\"].count()*100)"
   ]
  },
  {
   "cell_type": "markdown",
   "metadata": {},
   "source": [
    "#### On complete les cylindres et les chevaux manquant en faisant une approximation"
   ]
  },
  {
   "cell_type": "code",
   "execution_count": 76,
   "metadata": {},
   "outputs": [],
   "source": [
    "def get_chevaux(cyl):\n",
    "    temp = []\n",
    "    for i, x in enumerate(df[\"Cylindre\"]):\n",
    "        if float(cyl) == x :\n",
    "            if isinstance(df[\"Chevaux\"].iloc[i], float) and not math.isnan(df[\"Chevaux\"].iloc[i]) :\n",
    "                temp.append(df[\"Chevaux\"].iloc[i])\n",
    "    \n",
    "    if len(temp) > 0:\n",
    "        return np.median(temp)\n",
    "    else:\n",
    "        return None\n",
    "    \n",
    "def get_cylindre(che):\n",
    "    temp = []\n",
    "    for i, x in enumerate(df[\"Chevaux\"]):\n",
    "        if float(che) == x :\n",
    "            if isinstance(df[\"Cylindre\"].iloc[i], float) and not math.isnan(df[\"Cylindre\"].iloc[i]) :\n",
    "                temp.append(df[\"Cylindre\"].iloc[i])\n",
    "    \n",
    "    if len(temp) > 0:\n",
    "        return np.median(temp)\n",
    "    else:\n",
    "        return None"
   ]
  },
  {
   "cell_type": "code",
   "execution_count": 77,
   "metadata": {},
   "outputs": [],
   "source": [
    "df[\"Chevaux\"] = [\n",
    "    get_chevaux(df[\"Cylindre\"].iloc[i])\n",
    "    if math.isnan(x)\n",
    "    else x\n",
    "    for i, x in enumerate(df[\"Chevaux\"])\n",
    "]"
   ]
  },
  {
   "cell_type": "code",
   "execution_count": 78,
   "metadata": {},
   "outputs": [],
   "source": [
    "df[\"Cylindre\"] = [\n",
    "    get_chevaux(df[\"Chevaux\"].iloc[i])\n",
    "    if math.isnan(x)\n",
    "    else x\n",
    "    for i, x in enumerate(df[\"Cylindre\"])\n",
    "]"
   ]
  },
  {
   "cell_type": "code",
   "execution_count": 79,
   "metadata": {},
   "outputs": [
    {
     "name": "stdout",
     "output_type": "stream",
     "text": [
      "0.914660035179232\n"
     ]
    }
   ],
   "source": [
    "print(df[\"Chevaux\"].isnull().sum()/df[\"Chevaux\"].count()*100)"
   ]
  },
  {
   "cell_type": "code",
   "execution_count": 80,
   "metadata": {},
   "outputs": [
    {
     "name": "stdout",
     "output_type": "stream",
     "text": [
      "3.503020274095318\n"
     ]
    }
   ],
   "source": [
    "print(df[\"Cylindre\"].isnull().sum()/df[\"Cylindre\"].count()*100)"
   ]
  },
  {
   "cell_type": "code",
   "execution_count": 81,
   "metadata": {},
   "outputs": [
    {
     "data": {
      "text/html": [
       "<div>\n",
       "<style scoped>\n",
       "    .dataframe tbody tr th:only-of-type {\n",
       "        vertical-align: middle;\n",
       "    }\n",
       "\n",
       "    .dataframe tbody tr th {\n",
       "        vertical-align: top;\n",
       "    }\n",
       "\n",
       "    .dataframe thead th {\n",
       "        text-align: right;\n",
       "    }\n",
       "</style>\n",
       "<table border=\"1\" class=\"dataframe\">\n",
       "  <thead>\n",
       "    <tr style=\"text-align: right;\">\n",
       "      <th></th>\n",
       "      <th>Make</th>\n",
       "      <th>Model</th>\n",
       "      <th>Version</th>\n",
       "      <th>Cylindre</th>\n",
       "      <th>Chevaux</th>\n",
       "    </tr>\n",
       "  </thead>\n",
       "  <tbody>\n",
       "    <tr>\n",
       "      <th>0</th>\n",
       "      <td>PEUGEOT</td>\n",
       "      <td>308</td>\n",
       "      <td>1.6 HDI FAP 92CH BUSINESS 5P</td>\n",
       "      <td>1.6</td>\n",
       "      <td>92.0</td>\n",
       "    </tr>\n",
       "    <tr>\n",
       "      <th>1</th>\n",
       "      <td>BMW</td>\n",
       "      <td>X6</td>\n",
       "      <td>(F16) XDRIVE30D 258 M SPORT BVA8</td>\n",
       "      <td>3.0</td>\n",
       "      <td>258.0</td>\n",
       "    </tr>\n",
       "    <tr>\n",
       "      <th>2</th>\n",
       "      <td>AUDI</td>\n",
       "      <td>RS6</td>\n",
       "      <td>III AVANT 4.0 TFSI 560 QUATTRO TIPTRONIC</td>\n",
       "      <td>4.0</td>\n",
       "      <td>560.0</td>\n",
       "    </tr>\n",
       "    <tr>\n",
       "      <th>3</th>\n",
       "      <td>FORD</td>\n",
       "      <td>KA</td>\n",
       "      <td>1.3 70 FUN</td>\n",
       "      <td>1.3</td>\n",
       "      <td>70.0</td>\n",
       "    </tr>\n",
       "    <tr>\n",
       "      <th>4</th>\n",
       "      <td>FIAT</td>\n",
       "      <td>TIPO</td>\n",
       "      <td>II SW 1.4 95 POP</td>\n",
       "      <td>1.4</td>\n",
       "      <td>95.0</td>\n",
       "    </tr>\n",
       "    <tr>\n",
       "      <th>5</th>\n",
       "      <td>BMW</td>\n",
       "      <td>X3</td>\n",
       "      <td>(F25) XDRIVE35D 313 SPORT DESIGN BVA8</td>\n",
       "      <td>3.5</td>\n",
       "      <td>313.0</td>\n",
       "    </tr>\n",
       "    <tr>\n",
       "      <th>6</th>\n",
       "      <td>AUDI</td>\n",
       "      <td>A3</td>\n",
       "      <td>II (2) SPORTBACK 2.0 TDI 140 7CV AMBITION LUXE...</td>\n",
       "      <td>2.0</td>\n",
       "      <td>140.0</td>\n",
       "    </tr>\n",
       "    <tr>\n",
       "      <th>7</th>\n",
       "      <td>RENAULT</td>\n",
       "      <td>MEGANE</td>\n",
       "      <td>IV ESTATE 1.5 DCI 110 ENERGY ZEN EDC</td>\n",
       "      <td>1.5</td>\n",
       "      <td>110.0</td>\n",
       "    </tr>\n",
       "    <tr>\n",
       "      <th>8</th>\n",
       "      <td>FORD</td>\n",
       "      <td>C-MAX</td>\n",
       "      <td>II 1.6 TDCI 115 FAP TITANIUM BVM6</td>\n",
       "      <td>1.6</td>\n",
       "      <td>115.0</td>\n",
       "    </tr>\n",
       "    <tr>\n",
       "      <th>9</th>\n",
       "      <td>MERCEDES</td>\n",
       "      <td>CLASSE C</td>\n",
       "      <td>(W205) 63 AMG S SPEEDSHIFT MCT AMG</td>\n",
       "      <td>6.3</td>\n",
       "      <td>286.0</td>\n",
       "    </tr>\n",
       "    <tr>\n",
       "      <th>10</th>\n",
       "      <td>SEAT</td>\n",
       "      <td>IBIZA</td>\n",
       "      <td>IV (2) 1.4 TDI 90 CONNECT</td>\n",
       "      <td>1.4</td>\n",
       "      <td>90.0</td>\n",
       "    </tr>\n",
       "    <tr>\n",
       "      <th>11</th>\n",
       "      <td>MINI</td>\n",
       "      <td>MINI</td>\n",
       "      <td>III 1.5 COOPER D 116 PACK CHILI BVA 5P</td>\n",
       "      <td>1.5</td>\n",
       "      <td>116.0</td>\n",
       "    </tr>\n",
       "    <tr>\n",
       "      <th>12</th>\n",
       "      <td>FIAT</td>\n",
       "      <td>500 X</td>\n",
       "      <td>1.4 MULTIAIR 140 LOUNGE 4X2 DCT</td>\n",
       "      <td>1.4</td>\n",
       "      <td>140.0</td>\n",
       "    </tr>\n",
       "    <tr>\n",
       "      <th>13</th>\n",
       "      <td>FORD</td>\n",
       "      <td>MONDEO</td>\n",
       "      <td>(2) 1.8 125 GHIA 5P</td>\n",
       "      <td>1.8</td>\n",
       "      <td>125.0</td>\n",
       "    </tr>\n",
       "    <tr>\n",
       "      <th>14</th>\n",
       "      <td>HYUNDAI</td>\n",
       "      <td>I20</td>\n",
       "      <td>(2) 1.1 CRDI 75 PACK INVENTIVE</td>\n",
       "      <td>1.1</td>\n",
       "      <td>75.0</td>\n",
       "    </tr>\n",
       "    <tr>\n",
       "      <th>15</th>\n",
       "      <td>DACIA</td>\n",
       "      <td>SANDERO</td>\n",
       "      <td>II (2) STEPWAY TCE 90</td>\n",
       "      <td>NaN</td>\n",
       "      <td>90.0</td>\n",
       "    </tr>\n",
       "    <tr>\n",
       "      <th>16</th>\n",
       "      <td>PEUGEOT</td>\n",
       "      <td>208</td>\n",
       "      <td>(2) 1.2 PURETECH 82 ALLURE 5P</td>\n",
       "      <td>1.2</td>\n",
       "      <td>82.0</td>\n",
       "    </tr>\n",
       "    <tr>\n",
       "      <th>17</th>\n",
       "      <td>VOLKSWAGEN</td>\n",
       "      <td>GOLF</td>\n",
       "      <td>VI 2.0 TDI 110 FAP BLUEMOTION TECHNOLOGY CARAT...</td>\n",
       "      <td>2.0</td>\n",
       "      <td>110.0</td>\n",
       "    </tr>\n",
       "    <tr>\n",
       "      <th>18</th>\n",
       "      <td>CITROEN</td>\n",
       "      <td>C3</td>\n",
       "      <td>II (2) 1.4 HDI 70 FAP BUSINESS</td>\n",
       "      <td>1.4</td>\n",
       "      <td>70.0</td>\n",
       "    </tr>\n",
       "    <tr>\n",
       "      <th>19</th>\n",
       "      <td>TOYOTA</td>\n",
       "      <td>AURIS</td>\n",
       "      <td>HSD 136H DESIGN</td>\n",
       "      <td>1.3</td>\n",
       "      <td>86.5</td>\n",
       "    </tr>\n",
       "  </tbody>\n",
       "</table>\n",
       "</div>"
      ],
      "text/plain": [
       "          Make     Model                                            Version  \\\n",
       "0      PEUGEOT       308                       1.6 HDI FAP 92CH BUSINESS 5P   \n",
       "1          BMW        X6                   (F16) XDRIVE30D 258 M SPORT BVA8   \n",
       "2         AUDI       RS6           III AVANT 4.0 TFSI 560 QUATTRO TIPTRONIC   \n",
       "3         FORD        KA                                         1.3 70 FUN   \n",
       "4         FIAT      TIPO                                   II SW 1.4 95 POP   \n",
       "5          BMW        X3              (F25) XDRIVE35D 313 SPORT DESIGN BVA8   \n",
       "6         AUDI        A3  II (2) SPORTBACK 2.0 TDI 140 7CV AMBITION LUXE...   \n",
       "7      RENAULT    MEGANE               IV ESTATE 1.5 DCI 110 ENERGY ZEN EDC   \n",
       "8         FORD     C-MAX                  II 1.6 TDCI 115 FAP TITANIUM BVM6   \n",
       "9     MERCEDES  CLASSE C                 (W205) 63 AMG S SPEEDSHIFT MCT AMG   \n",
       "10        SEAT     IBIZA                          IV (2) 1.4 TDI 90 CONNECT   \n",
       "11        MINI      MINI             III 1.5 COOPER D 116 PACK CHILI BVA 5P   \n",
       "12        FIAT     500 X                    1.4 MULTIAIR 140 LOUNGE 4X2 DCT   \n",
       "13        FORD    MONDEO                                (2) 1.8 125 GHIA 5P   \n",
       "14     HYUNDAI       I20                     (2) 1.1 CRDI 75 PACK INVENTIVE   \n",
       "15       DACIA   SANDERO                              II (2) STEPWAY TCE 90   \n",
       "16     PEUGEOT       208                      (2) 1.2 PURETECH 82 ALLURE 5P   \n",
       "17  VOLKSWAGEN      GOLF  VI 2.0 TDI 110 FAP BLUEMOTION TECHNOLOGY CARAT...   \n",
       "18     CITROEN        C3                     II (2) 1.4 HDI 70 FAP BUSINESS   \n",
       "19      TOYOTA     AURIS                                    HSD 136H DESIGN   \n",
       "\n",
       "    Cylindre  Chevaux  \n",
       "0        1.6     92.0  \n",
       "1        3.0    258.0  \n",
       "2        4.0    560.0  \n",
       "3        1.3     70.0  \n",
       "4        1.4     95.0  \n",
       "5        3.5    313.0  \n",
       "6        2.0    140.0  \n",
       "7        1.5    110.0  \n",
       "8        1.6    115.0  \n",
       "9        6.3    286.0  \n",
       "10       1.4     90.0  \n",
       "11       1.5    116.0  \n",
       "12       1.4    140.0  \n",
       "13       1.8    125.0  \n",
       "14       1.1     75.0  \n",
       "15       NaN     90.0  \n",
       "16       1.2     82.0  \n",
       "17       2.0    110.0  \n",
       "18       1.4     70.0  \n",
       "19       1.3     86.5  "
      ]
     },
     "execution_count": 81,
     "metadata": {},
     "output_type": "execute_result"
    }
   ],
   "source": [
    "df[[\"Make\", \"Model\", \"Version\", \"Cylindre\", \"Chevaux\"]].head(20)"
   ]
  },
  {
   "cell_type": "markdown",
   "metadata": {},
   "source": [
    "On supprime la colonne Version_temp"
   ]
  },
  {
   "cell_type": "code",
   "execution_count": 82,
   "metadata": {},
   "outputs": [],
   "source": [
    "df = df.drop(labels=[\"Version_temp\"], axis=1)"
   ]
  },
  {
   "cell_type": "code",
   "execution_count": 83,
   "metadata": {
    "scrolled": false
   },
   "outputs": [
    {
     "data": {
      "text/html": [
       "<div>\n",
       "<style scoped>\n",
       "    .dataframe tbody tr th:only-of-type {\n",
       "        vertical-align: middle;\n",
       "    }\n",
       "\n",
       "    .dataframe tbody tr th {\n",
       "        vertical-align: top;\n",
       "    }\n",
       "\n",
       "    .dataframe thead th {\n",
       "        text-align: right;\n",
       "    }\n",
       "</style>\n",
       "<table border=\"1\" class=\"dataframe\">\n",
       "  <thead>\n",
       "    <tr style=\"text-align: right;\">\n",
       "      <th></th>\n",
       "      <th>Make</th>\n",
       "      <th>Make_v2</th>\n",
       "      <th>Model</th>\n",
       "      <th>Model_Det</th>\n",
       "      <th>Model_year</th>\n",
       "      <th>Online</th>\n",
       "      <th>Age</th>\n",
       "      <th>Mileage</th>\n",
       "      <th>Usure</th>\n",
       "      <th>Fuel</th>\n",
       "      <th>...</th>\n",
       "      <th>Essence</th>\n",
       "      <th>Other_fuel</th>\n",
       "      <th>Gearbox</th>\n",
       "      <th>Mecanique</th>\n",
       "      <th>Automatique</th>\n",
       "      <th>Version</th>\n",
       "      <th>Génération</th>\n",
       "      <th>Version_adj</th>\n",
       "      <th>Cylindre</th>\n",
       "      <th>Chevaux</th>\n",
       "    </tr>\n",
       "  </thead>\n",
       "  <tbody>\n",
       "    <tr>\n",
       "      <th>0</th>\n",
       "      <td>PEUGEOT</td>\n",
       "      <td>PEUGEOT</td>\n",
       "      <td>308</td>\n",
       "      <td>308 2</td>\n",
       "      <td>2014</td>\n",
       "      <td>06/07/2018</td>\n",
       "      <td>4</td>\n",
       "      <td>94341</td>\n",
       "      <td>23585</td>\n",
       "      <td>Diesel</td>\n",
       "      <td>...</td>\n",
       "      <td>0</td>\n",
       "      <td>0</td>\n",
       "      <td>mécanique</td>\n",
       "      <td>1</td>\n",
       "      <td>0</td>\n",
       "      <td>1.6 HDI FAP 92CH BUSINESS 5P</td>\n",
       "      <td>1</td>\n",
       "      <td>None</td>\n",
       "      <td>1.6</td>\n",
       "      <td>92.0</td>\n",
       "    </tr>\n",
       "    <tr>\n",
       "      <th>1</th>\n",
       "      <td>BMW</td>\n",
       "      <td>BMW</td>\n",
       "      <td>X6</td>\n",
       "      <td>X6 F16</td>\n",
       "      <td>2015</td>\n",
       "      <td>03/04/2018</td>\n",
       "      <td>3</td>\n",
       "      <td>39051</td>\n",
       "      <td>13017</td>\n",
       "      <td>Diesel</td>\n",
       "      <td>...</td>\n",
       "      <td>0</td>\n",
       "      <td>0</td>\n",
       "      <td>automatique</td>\n",
       "      <td>0</td>\n",
       "      <td>1</td>\n",
       "      <td>(F16) XDRIVE30D 258 M SPORT BVA8</td>\n",
       "      <td>2</td>\n",
       "      <td>None</td>\n",
       "      <td>3.0</td>\n",
       "      <td>258.0</td>\n",
       "    </tr>\n",
       "    <tr>\n",
       "      <th>2</th>\n",
       "      <td>AUDI</td>\n",
       "      <td>AUDI</td>\n",
       "      <td>RS6</td>\n",
       "      <td>RS6 3 AVANT</td>\n",
       "      <td>2014</td>\n",
       "      <td>30/07/2018</td>\n",
       "      <td>4</td>\n",
       "      <td>75381</td>\n",
       "      <td>18845</td>\n",
       "      <td>Essence</td>\n",
       "      <td>...</td>\n",
       "      <td>1</td>\n",
       "      <td>0</td>\n",
       "      <td>automatique</td>\n",
       "      <td>0</td>\n",
       "      <td>1</td>\n",
       "      <td>III AVANT 4.0 TFSI 560 QUATTRO TIPTRONIC</td>\n",
       "      <td>3</td>\n",
       "      <td>AVANT</td>\n",
       "      <td>4.0</td>\n",
       "      <td>560.0</td>\n",
       "    </tr>\n",
       "    <tr>\n",
       "      <th>3</th>\n",
       "      <td>FORD</td>\n",
       "      <td>FORD</td>\n",
       "      <td>KA</td>\n",
       "      <td>KA</td>\n",
       "      <td>2007</td>\n",
       "      <td>09/07/2018</td>\n",
       "      <td>11</td>\n",
       "      <td>92282</td>\n",
       "      <td>8389</td>\n",
       "      <td>Essence</td>\n",
       "      <td>...</td>\n",
       "      <td>1</td>\n",
       "      <td>0</td>\n",
       "      <td>mécanique</td>\n",
       "      <td>1</td>\n",
       "      <td>0</td>\n",
       "      <td>1.3 70 FUN</td>\n",
       "      <td>1</td>\n",
       "      <td>None</td>\n",
       "      <td>1.3</td>\n",
       "      <td>70.0</td>\n",
       "    </tr>\n",
       "    <tr>\n",
       "      <th>4</th>\n",
       "      <td>FIAT</td>\n",
       "      <td>FIAT</td>\n",
       "      <td>TIPO</td>\n",
       "      <td>TIPO 2 SW</td>\n",
       "      <td>2018</td>\n",
       "      <td>19/05/2018</td>\n",
       "      <td>0</td>\n",
       "      <td>10</td>\n",
       "      <td>10</td>\n",
       "      <td>Essence</td>\n",
       "      <td>...</td>\n",
       "      <td>1</td>\n",
       "      <td>0</td>\n",
       "      <td>mécanique</td>\n",
       "      <td>1</td>\n",
       "      <td>0</td>\n",
       "      <td>II SW 1.4 95 POP</td>\n",
       "      <td>2</td>\n",
       "      <td>SW</td>\n",
       "      <td>1.4</td>\n",
       "      <td>95.0</td>\n",
       "    </tr>\n",
       "  </tbody>\n",
       "</table>\n",
       "<p>5 rows × 21 columns</p>\n",
       "</div>"
      ],
      "text/plain": [
       "      Make  Make_v2 Model    Model_Det  Model_year      Online  Age  Mileage  \\\n",
       "0  PEUGEOT  PEUGEOT   308        308 2        2014  06/07/2018    4    94341   \n",
       "1      BMW      BMW    X6       X6 F16        2015  03/04/2018    3    39051   \n",
       "2     AUDI     AUDI   RS6  RS6 3 AVANT        2014  30/07/2018    4    75381   \n",
       "3     FORD     FORD    KA           KA        2007  09/07/2018   11    92282   \n",
       "4     FIAT     FIAT  TIPO    TIPO 2 SW        2018  19/05/2018    0       10   \n",
       "\n",
       "   Usure     Fuel   ...     Essence  Other_fuel      Gearbox Mecanique  \\\n",
       "0  23585   Diesel   ...           0           0    mécanique         1   \n",
       "1  13017   Diesel   ...           0           0  automatique         0   \n",
       "2  18845  Essence   ...           1           0  automatique         0   \n",
       "3   8389  Essence   ...           1           0    mécanique         1   \n",
       "4     10  Essence   ...           1           0    mécanique         1   \n",
       "\n",
       "   Automatique                                   Version Génération  \\\n",
       "0            0              1.6 HDI FAP 92CH BUSINESS 5P          1   \n",
       "1            1          (F16) XDRIVE30D 258 M SPORT BVA8          2   \n",
       "2            1  III AVANT 4.0 TFSI 560 QUATTRO TIPTRONIC          3   \n",
       "3            0                                1.3 70 FUN          1   \n",
       "4            0                          II SW 1.4 95 POP          2   \n",
       "\n",
       "   Version_adj Cylindre  Chevaux  \n",
       "0         None      1.6     92.0  \n",
       "1         None      3.0    258.0  \n",
       "2        AVANT      4.0    560.0  \n",
       "3         None      1.3     70.0  \n",
       "4           SW      1.4     95.0  \n",
       "\n",
       "[5 rows x 21 columns]"
      ]
     },
     "execution_count": 83,
     "metadata": {},
     "output_type": "execute_result"
    }
   ],
   "source": [
    "df.head(5)"
   ]
  },
  {
   "cell_type": "markdown",
   "metadata": {},
   "source": [
    "### - Puissance Fiscale"
   ]
  },
  {
   "cell_type": "code",
   "execution_count": 84,
   "metadata": {},
   "outputs": [],
   "source": [
    "df[\"Puissance_fisc\"] = car_data[\"Description\"].apply(lambda x: x.split('puissance_fiscale: ')[1].split(', portes:')[0].upper())"
   ]
  },
  {
   "cell_type": "code",
   "execution_count": 85,
   "metadata": {},
   "outputs": [
    {
     "data": {
      "text/html": [
       "<div>\n",
       "<style scoped>\n",
       "    .dataframe tbody tr th:only-of-type {\n",
       "        vertical-align: middle;\n",
       "    }\n",
       "\n",
       "    .dataframe tbody tr th {\n",
       "        vertical-align: top;\n",
       "    }\n",
       "\n",
       "    .dataframe thead th {\n",
       "        text-align: right;\n",
       "    }\n",
       "</style>\n",
       "<table border=\"1\" class=\"dataframe\">\n",
       "  <thead>\n",
       "    <tr style=\"text-align: right;\">\n",
       "      <th></th>\n",
       "      <th>Make</th>\n",
       "      <th>Model</th>\n",
       "      <th>Puissance_fisc</th>\n",
       "    </tr>\n",
       "  </thead>\n",
       "  <tbody>\n",
       "    <tr>\n",
       "      <th>0</th>\n",
       "      <td>PEUGEOT</td>\n",
       "      <td>308</td>\n",
       "      <td>4</td>\n",
       "    </tr>\n",
       "    <tr>\n",
       "      <th>1</th>\n",
       "      <td>BMW</td>\n",
       "      <td>X6</td>\n",
       "      <td>16</td>\n",
       "    </tr>\n",
       "    <tr>\n",
       "      <th>2</th>\n",
       "      <td>AUDI</td>\n",
       "      <td>RS6</td>\n",
       "      <td>47</td>\n",
       "    </tr>\n",
       "    <tr>\n",
       "      <th>3</th>\n",
       "      <td>FORD</td>\n",
       "      <td>KA</td>\n",
       "      <td>5</td>\n",
       "    </tr>\n",
       "    <tr>\n",
       "      <th>4</th>\n",
       "      <td>FIAT</td>\n",
       "      <td>TIPO</td>\n",
       "      <td>5</td>\n",
       "    </tr>\n",
       "  </tbody>\n",
       "</table>\n",
       "</div>"
      ],
      "text/plain": [
       "      Make Model Puissance_fisc\n",
       "0  PEUGEOT   308              4\n",
       "1      BMW    X6             16\n",
       "2     AUDI   RS6             47\n",
       "3     FORD    KA              5\n",
       "4     FIAT  TIPO              5"
      ]
     },
     "execution_count": 85,
     "metadata": {},
     "output_type": "execute_result"
    }
   ],
   "source": [
    "df[[\"Make\", \"Model\", \"Puissance_fisc\"]].head(5)"
   ]
  },
  {
   "cell_type": "markdown",
   "metadata": {},
   "source": [
    "### - Portes"
   ]
  },
  {
   "cell_type": "code",
   "execution_count": 86,
   "metadata": {},
   "outputs": [],
   "source": [
    "df[\"Portes\"] = car_data[\"Description\"].apply(lambda x: x.split('portes: ')[1].split(', options:')[0].upper())"
   ]
  },
  {
   "cell_type": "code",
   "execution_count": 87,
   "metadata": {},
   "outputs": [],
   "source": [
    "df[\"Portes\"] = df[\"Portes\"].apply(lambda x: '1' if x=='' else int(float(x)))"
   ]
  },
  {
   "cell_type": "code",
   "execution_count": 88,
   "metadata": {},
   "outputs": [
    {
     "data": {
      "text/plain": [
       "5    138785\n",
       "3     11568\n",
       "4      8492\n",
       "2      6244\n",
       "1      1271\n",
       "0        16\n",
       "6         2\n",
       "Name: Portes, dtype: int64"
      ]
     },
     "execution_count": 88,
     "metadata": {},
     "output_type": "execute_result"
    }
   ],
   "source": [
    "df[\"Portes\"].value_counts()"
   ]
  },
  {
   "cell_type": "code",
   "execution_count": 89,
   "metadata": {},
   "outputs": [
    {
     "data": {
      "text/html": [
       "<div>\n",
       "<style scoped>\n",
       "    .dataframe tbody tr th:only-of-type {\n",
       "        vertical-align: middle;\n",
       "    }\n",
       "\n",
       "    .dataframe tbody tr th {\n",
       "        vertical-align: top;\n",
       "    }\n",
       "\n",
       "    .dataframe thead th {\n",
       "        text-align: right;\n",
       "    }\n",
       "</style>\n",
       "<table border=\"1\" class=\"dataframe\">\n",
       "  <thead>\n",
       "    <tr style=\"text-align: right;\">\n",
       "      <th></th>\n",
       "      <th>Make</th>\n",
       "      <th>Model</th>\n",
       "      <th>Portes</th>\n",
       "    </tr>\n",
       "  </thead>\n",
       "  <tbody>\n",
       "    <tr>\n",
       "      <th>0</th>\n",
       "      <td>PEUGEOT</td>\n",
       "      <td>308</td>\n",
       "      <td>5</td>\n",
       "    </tr>\n",
       "    <tr>\n",
       "      <th>1</th>\n",
       "      <td>BMW</td>\n",
       "      <td>X6</td>\n",
       "      <td>5</td>\n",
       "    </tr>\n",
       "    <tr>\n",
       "      <th>2</th>\n",
       "      <td>AUDI</td>\n",
       "      <td>RS6</td>\n",
       "      <td>5</td>\n",
       "    </tr>\n",
       "    <tr>\n",
       "      <th>3</th>\n",
       "      <td>FORD</td>\n",
       "      <td>KA</td>\n",
       "      <td>3</td>\n",
       "    </tr>\n",
       "    <tr>\n",
       "      <th>4</th>\n",
       "      <td>FIAT</td>\n",
       "      <td>TIPO</td>\n",
       "      <td>5</td>\n",
       "    </tr>\n",
       "  </tbody>\n",
       "</table>\n",
       "</div>"
      ],
      "text/plain": [
       "      Make Model Portes\n",
       "0  PEUGEOT   308      5\n",
       "1      BMW    X6      5\n",
       "2     AUDI   RS6      5\n",
       "3     FORD    KA      3\n",
       "4     FIAT  TIPO      5"
      ]
     },
     "execution_count": 89,
     "metadata": {},
     "output_type": "execute_result"
    }
   ],
   "source": [
    "df[[\"Make\", \"Model\", \"Portes\"]].head(5)"
   ]
  },
  {
   "cell_type": "markdown",
   "metadata": {},
   "source": [
    "### - Couleurs"
   ]
  },
  {
   "cell_type": "code",
   "execution_count": 90,
   "metadata": {},
   "outputs": [],
   "source": [
    "df[\"Couleur\"] = car_data[\"Description\"].apply(lambda x: x.split('couleur: ')[1].upper())"
   ]
  },
  {
   "cell_type": "code",
   "execution_count": 91,
   "metadata": {},
   "outputs": [
    {
     "data": {
      "text/plain": [
       "6686"
      ]
     },
     "execution_count": 91,
     "metadata": {},
     "output_type": "execute_result"
    }
   ],
   "source": [
    "df[\"Couleur\"].unique().size"
   ]
  },
  {
   "cell_type": "code",
   "execution_count": 92,
   "metadata": {},
   "outputs": [],
   "source": [
    "colors = {\"GRIS\": \"GRIS\", \"BLANC\": \"BLANC\", \"NOIR\": \"NOIR\", \"ROUGE\": \"ROUGE\", \"BLEU\": \"BLEU\", \"MARRON\":\"MARRON\",\n",
    "          \"BEIGE\": \"BEIGE\", \"ARGENT\": \"ARGENT\", \"PLATINE\": \"PLATINE\", \"ORANGE\": \"ORANGE\", \"VERT\": \"VERT\",\n",
    "          \"JAUNE\": \"JAUNE\", \"BRUN\": \"BRUN\", \"VIOLET\": \"VIOLET\", \"BLUE\": \"BLEU\", \"GLACIER\": \"BLANC\", \"SAPHIR\": \"BLEU\",\n",
    "          \"ALPIN\": \"BLANC\"}"
   ]
  },
  {
   "cell_type": "code",
   "execution_count": 93,
   "metadata": {},
   "outputs": [],
   "source": [
    "def get_color(x):\n",
    "    x = x.split(\" \")\n",
    "    for w in x:\n",
    "        if w in colors.keys():\n",
    "            return colors[w]\n",
    "    return \"OTHER\""
   ]
  },
  {
   "cell_type": "code",
   "execution_count": 94,
   "metadata": {},
   "outputs": [],
   "source": [
    "df[\"Couleur\"] = df[\"Couleur\"].apply(lambda x: get_color(x))"
   ]
  },
  {
   "cell_type": "code",
   "execution_count": 95,
   "metadata": {},
   "outputs": [
    {
     "data": {
      "text/html": [
       "<div>\n",
       "<style scoped>\n",
       "    .dataframe tbody tr th:only-of-type {\n",
       "        vertical-align: middle;\n",
       "    }\n",
       "\n",
       "    .dataframe tbody tr th {\n",
       "        vertical-align: top;\n",
       "    }\n",
       "\n",
       "    .dataframe thead th {\n",
       "        text-align: right;\n",
       "    }\n",
       "</style>\n",
       "<table border=\"1\" class=\"dataframe\">\n",
       "  <thead>\n",
       "    <tr style=\"text-align: right;\">\n",
       "      <th></th>\n",
       "      <th>Make</th>\n",
       "      <th>Model</th>\n",
       "      <th>Couleur</th>\n",
       "    </tr>\n",
       "  </thead>\n",
       "  <tbody>\n",
       "    <tr>\n",
       "      <th>0</th>\n",
       "      <td>PEUGEOT</td>\n",
       "      <td>308</td>\n",
       "      <td>BLANC</td>\n",
       "    </tr>\n",
       "    <tr>\n",
       "      <th>1</th>\n",
       "      <td>BMW</td>\n",
       "      <td>X6</td>\n",
       "      <td>OTHER</td>\n",
       "    </tr>\n",
       "    <tr>\n",
       "      <th>2</th>\n",
       "      <td>AUDI</td>\n",
       "      <td>RS6</td>\n",
       "      <td>NOIR</td>\n",
       "    </tr>\n",
       "    <tr>\n",
       "      <th>3</th>\n",
       "      <td>FORD</td>\n",
       "      <td>KA</td>\n",
       "      <td>JAUNE</td>\n",
       "    </tr>\n",
       "    <tr>\n",
       "      <th>4</th>\n",
       "      <td>FIAT</td>\n",
       "      <td>TIPO</td>\n",
       "      <td>BLANC</td>\n",
       "    </tr>\n",
       "  </tbody>\n",
       "</table>\n",
       "</div>"
      ],
      "text/plain": [
       "      Make Model Couleur\n",
       "0  PEUGEOT   308   BLANC\n",
       "1      BMW    X6   OTHER\n",
       "2     AUDI   RS6    NOIR\n",
       "3     FORD    KA   JAUNE\n",
       "4     FIAT  TIPO   BLANC"
      ]
     },
     "execution_count": 95,
     "metadata": {},
     "output_type": "execute_result"
    }
   ],
   "source": [
    "df[[\"Make\", \"Model\", \"Couleur\"]].head(5)"
   ]
  },
  {
   "cell_type": "code",
   "execution_count": 96,
   "metadata": {},
   "outputs": [
    {
     "data": {
      "text/plain": [
       "GRIS       56556\n",
       "BLANC      32854\n",
       "NOIR       32516\n",
       "OTHER      15084\n",
       "BLEU       10439\n",
       "ROUGE       8134\n",
       "BEIGE       2506\n",
       "MARRON      2484\n",
       "ARGENT      1742\n",
       "ORANGE       908\n",
       "BRUN         882\n",
       "VERT         835\n",
       "PLATINE      648\n",
       "JAUNE        445\n",
       "VIOLET       345\n",
       "Name: Couleur, dtype: int64"
      ]
     },
     "execution_count": 96,
     "metadata": {},
     "output_type": "execute_result"
    }
   ],
   "source": [
    "df[\"Couleur\"].value_counts()"
   ]
  },
  {
   "cell_type": "markdown",
   "metadata": {},
   "source": [
    "### - Options"
   ]
  },
  {
   "cell_type": "code",
   "execution_count": 97,
   "metadata": {},
   "outputs": [],
   "source": [
    "df[\"Options\"] = car_data[\"Description\"].apply(lambda x: x.split('options: ')[1].split(', couleur:')[0])"
   ]
  },
  {
   "cell_type": "code",
   "execution_count": 98,
   "metadata": {},
   "outputs": [],
   "source": [
    "df[\"Options\"] = df[\"Options\"].apply(lambda x: x.split(\";\"))\n",
    "df[\"Options\"] = df[\"Options\"].apply(lambda x: [y.upper() for y in x])"
   ]
  },
  {
   "cell_type": "code",
   "execution_count": 99,
   "metadata": {},
   "outputs": [],
   "source": [
    "df[\"Options_nb\"] = df[\"Options\"].apply(lambda x: len(x))"
   ]
  },
  {
   "cell_type": "code",
   "execution_count": 100,
   "metadata": {},
   "outputs": [
    {
     "data": {
      "text/html": [
       "<div>\n",
       "<style scoped>\n",
       "    .dataframe tbody tr th:only-of-type {\n",
       "        vertical-align: middle;\n",
       "    }\n",
       "\n",
       "    .dataframe tbody tr th {\n",
       "        vertical-align: top;\n",
       "    }\n",
       "\n",
       "    .dataframe thead th {\n",
       "        text-align: right;\n",
       "    }\n",
       "</style>\n",
       "<table border=\"1\" class=\"dataframe\">\n",
       "  <thead>\n",
       "    <tr style=\"text-align: right;\">\n",
       "      <th></th>\n",
       "      <th>Make</th>\n",
       "      <th>Model</th>\n",
       "      <th>Options</th>\n",
       "      <th>Options_nb</th>\n",
       "    </tr>\n",
       "  </thead>\n",
       "  <tbody>\n",
       "    <tr>\n",
       "      <th>0</th>\n",
       "      <td>PEUGEOT</td>\n",
       "      <td>308</td>\n",
       "      <td>[BANQUETTE ARRIÈRE 3 PLACES, VOLANT CUIR, CACH...</td>\n",
       "      <td>54</td>\n",
       "    </tr>\n",
       "    <tr>\n",
       "      <th>1</th>\n",
       "      <td>BMW</td>\n",
       "      <td>X6</td>\n",
       "      <td>[TRIANGLE DE PRESIGNALISATION ET TROUSSE DE PR...</td>\n",
       "      <td>41</td>\n",
       "    </tr>\n",
       "    <tr>\n",
       "      <th>2</th>\n",
       "      <td>AUDI</td>\n",
       "      <td>RS6</td>\n",
       "      <td>[BANQUETTE ARRIÈRE 3 PLACES, ÉCRAN TACTILE, TÉ...</td>\n",
       "      <td>140</td>\n",
       "    </tr>\n",
       "    <tr>\n",
       "      <th>3</th>\n",
       "      <td>FORD</td>\n",
       "      <td>KA</td>\n",
       "      <td>[DIRECTION ASSISTÉE, JANTES ALU, RÉTROVISEURS ...</td>\n",
       "      <td>8</td>\n",
       "    </tr>\n",
       "    <tr>\n",
       "      <th>4</th>\n",
       "      <td>FIAT</td>\n",
       "      <td>TIPO</td>\n",
       "      <td>[VOLANT ALU &amp; CUIR, BLUETOOTH INCLUT MUSIQUE E...</td>\n",
       "      <td>24</td>\n",
       "    </tr>\n",
       "  </tbody>\n",
       "</table>\n",
       "</div>"
      ],
      "text/plain": [
       "      Make Model                                            Options  \\\n",
       "0  PEUGEOT   308  [BANQUETTE ARRIÈRE 3 PLACES, VOLANT CUIR, CACH...   \n",
       "1      BMW    X6  [TRIANGLE DE PRESIGNALISATION ET TROUSSE DE PR...   \n",
       "2     AUDI   RS6  [BANQUETTE ARRIÈRE 3 PLACES, ÉCRAN TACTILE, TÉ...   \n",
       "3     FORD    KA  [DIRECTION ASSISTÉE, JANTES ALU, RÉTROVISEURS ...   \n",
       "4     FIAT  TIPO  [VOLANT ALU & CUIR, BLUETOOTH INCLUT MUSIQUE E...   \n",
       "\n",
       "   Options_nb  \n",
       "0          54  \n",
       "1          41  \n",
       "2         140  \n",
       "3           8  \n",
       "4          24  "
      ]
     },
     "execution_count": 100,
     "metadata": {},
     "output_type": "execute_result"
    }
   ],
   "source": [
    "df[[\"Make\", \"Model\", \"Options\", \"Options_nb\"]].head(5)"
   ]
  },
  {
   "cell_type": "code",
   "execution_count": 101,
   "metadata": {},
   "outputs": [],
   "source": [
    "df[\"Options\"] = df[\"Options\"].apply(lambda x: ' '.join(x))"
   ]
  },
  {
   "cell_type": "code",
   "execution_count": 102,
   "metadata": {
    "scrolled": true
   },
   "outputs": [
    {
     "data": {
      "text/html": [
       "<div>\n",
       "<style scoped>\n",
       "    .dataframe tbody tr th:only-of-type {\n",
       "        vertical-align: middle;\n",
       "    }\n",
       "\n",
       "    .dataframe tbody tr th {\n",
       "        vertical-align: top;\n",
       "    }\n",
       "\n",
       "    .dataframe thead th {\n",
       "        text-align: right;\n",
       "    }\n",
       "</style>\n",
       "<table border=\"1\" class=\"dataframe\">\n",
       "  <thead>\n",
       "    <tr style=\"text-align: right;\">\n",
       "      <th></th>\n",
       "      <th>Make</th>\n",
       "      <th>Model</th>\n",
       "      <th>Options</th>\n",
       "      <th>Options_nb</th>\n",
       "    </tr>\n",
       "  </thead>\n",
       "  <tbody>\n",
       "    <tr>\n",
       "      <th>0</th>\n",
       "      <td>PEUGEOT</td>\n",
       "      <td>308</td>\n",
       "      <td>BANQUETTE ARRIÈRE 3 PLACES VOLANT CUIR CACHE B...</td>\n",
       "      <td>54</td>\n",
       "    </tr>\n",
       "    <tr>\n",
       "      <th>1</th>\n",
       "      <td>BMW</td>\n",
       "      <td>X6</td>\n",
       "      <td>TRIANGLE DE PRESIGNALISATION ET TROUSSE DE PRE...</td>\n",
       "      <td>41</td>\n",
       "    </tr>\n",
       "    <tr>\n",
       "      <th>2</th>\n",
       "      <td>AUDI</td>\n",
       "      <td>RS6</td>\n",
       "      <td>BANQUETTE ARRIÈRE 3 PLACES ÉCRAN TACTILE TÉMOI...</td>\n",
       "      <td>140</td>\n",
       "    </tr>\n",
       "    <tr>\n",
       "      <th>3</th>\n",
       "      <td>FORD</td>\n",
       "      <td>KA</td>\n",
       "      <td>DIRECTION ASSISTÉE JANTES ALU RÉTROVISEURS ÉLE...</td>\n",
       "      <td>8</td>\n",
       "    </tr>\n",
       "    <tr>\n",
       "      <th>4</th>\n",
       "      <td>FIAT</td>\n",
       "      <td>TIPO</td>\n",
       "      <td>VOLANT ALU &amp; CUIR BLUETOOTH INCLUT MUSIQUE EN ...</td>\n",
       "      <td>24</td>\n",
       "    </tr>\n",
       "  </tbody>\n",
       "</table>\n",
       "</div>"
      ],
      "text/plain": [
       "      Make Model                                            Options  \\\n",
       "0  PEUGEOT   308  BANQUETTE ARRIÈRE 3 PLACES VOLANT CUIR CACHE B...   \n",
       "1      BMW    X6  TRIANGLE DE PRESIGNALISATION ET TROUSSE DE PRE...   \n",
       "2     AUDI   RS6  BANQUETTE ARRIÈRE 3 PLACES ÉCRAN TACTILE TÉMOI...   \n",
       "3     FORD    KA  DIRECTION ASSISTÉE JANTES ALU RÉTROVISEURS ÉLE...   \n",
       "4     FIAT  TIPO  VOLANT ALU & CUIR BLUETOOTH INCLUT MUSIQUE EN ...   \n",
       "\n",
       "   Options_nb  \n",
       "0          54  \n",
       "1          41  \n",
       "2         140  \n",
       "3           8  \n",
       "4          24  "
      ]
     },
     "execution_count": 102,
     "metadata": {},
     "output_type": "execute_result"
    }
   ],
   "source": [
    "df[[\"Make\", \"Model\", \"Options\", \"Options_nb\"]].head(5)"
   ]
  },
  {
   "cell_type": "code",
   "execution_count": 103,
   "metadata": {},
   "outputs": [],
   "source": [
    "stopwords = set(stopwords.words('french'))"
   ]
  },
  {
   "cell_type": "code",
   "execution_count": 104,
   "metadata": {},
   "outputs": [],
   "source": [
    "options = []\n",
    "\n",
    "for x in df[\"Options\"]:\n",
    "    options.append(x)"
   ]
  },
  {
   "cell_type": "code",
   "execution_count": 105,
   "metadata": {},
   "outputs": [],
   "source": [
    "cv = CountVectorizer(options, stop_words=stopwords, min_df=90000)"
   ]
  },
  {
   "cell_type": "code",
   "execution_count": 106,
   "metadata": {},
   "outputs": [],
   "source": [
    "count_vector = cv.fit_transform(options)"
   ]
  },
  {
   "cell_type": "code",
   "execution_count": 107,
   "metadata": {},
   "outputs": [
    {
     "data": {
      "text/plain": [
       "(166378, 40)"
      ]
     },
     "execution_count": 107,
     "metadata": {},
     "output_type": "execute_result"
    }
   ],
   "source": [
    "count_vector.shape"
   ]
  },
  {
   "cell_type": "code",
   "execution_count": 108,
   "metadata": {
    "scrolled": true
   },
   "outputs": [
    {
     "data": {
      "text/plain": [
       "{'banquette': 'option_0',\n",
       " 'volant': 'option_1',\n",
       " 'cuir': 'option_2',\n",
       " 'vitres': 'option_3',\n",
       " 'av': 'option_4',\n",
       " 'ar': 'option_5',\n",
       " 'phares': 'option_6',\n",
       " 'jour': 'option_7',\n",
       " 'airbags': 'option_8',\n",
       " 'rétroviseurs': 'option_9',\n",
       " 'électriques': 'option_10',\n",
       " 'conducteur': 'option_11',\n",
       " 'feux': 'option_12',\n",
       " 'hauteur': 'option_13',\n",
       " 'système': 'option_14',\n",
       " 'audio': 'option_15',\n",
       " 'fermeture': 'option_16',\n",
       " 'électrique': 'option_17',\n",
       " 'esp': 'option_18',\n",
       " 'automatique': 'option_19',\n",
       " 'avant': 'option_20',\n",
       " 'fixations': 'option_21',\n",
       " 'isofix': 'option_22',\n",
       " 'essuie': 'option_23',\n",
       " 'ordinateur': 'option_24',\n",
       " 'bord': 'option_25',\n",
       " 'climatisation': 'option_26',\n",
       " 'réglable': 'option_27',\n",
       " 'abs': 'option_28',\n",
       " 'prise': 'option_29',\n",
       " 'alu': 'option_30',\n",
       " 'projecteurs': 'option_31',\n",
       " 'antibrouillard': 'option_32',\n",
       " 'jantes': 'option_33',\n",
       " 'kit': 'option_34',\n",
       " 'aide': 'option_35',\n",
       " 'régulateur': 'option_36',\n",
       " 'limiteur': 'option_37',\n",
       " 'vitesse': 'option_38',\n",
       " 'bluetooth': 'option_39'}"
      ]
     },
     "execution_count": 108,
     "metadata": {},
     "output_type": "execute_result"
    }
   ],
   "source": [
    "options = {k:\"option_\"+str(i) for i, k in enumerate(cv.vocabulary_)}\n",
    "options"
   ]
  },
  {
   "cell_type": "code",
   "execution_count": 109,
   "metadata": {},
   "outputs": [],
   "source": [
    "for x in options:\n",
    "    df[str(options[x])] = 0\n",
    "    df[str(options[x])] = df[\"Options\"].apply(lambda y: 1 if str(x).upper() in y.split(\" \") else 0)"
   ]
  },
  {
   "cell_type": "code",
   "execution_count": 110,
   "metadata": {},
   "outputs": [
    {
     "data": {
      "text/html": [
       "<div>\n",
       "<style scoped>\n",
       "    .dataframe tbody tr th:only-of-type {\n",
       "        vertical-align: middle;\n",
       "    }\n",
       "\n",
       "    .dataframe tbody tr th {\n",
       "        vertical-align: top;\n",
       "    }\n",
       "\n",
       "    .dataframe thead th {\n",
       "        text-align: right;\n",
       "    }\n",
       "</style>\n",
       "<table border=\"1\" class=\"dataframe\">\n",
       "  <thead>\n",
       "    <tr style=\"text-align: right;\">\n",
       "      <th></th>\n",
       "      <th>option_0</th>\n",
       "      <th>option_1</th>\n",
       "      <th>option_2</th>\n",
       "      <th>option_3</th>\n",
       "      <th>option_4</th>\n",
       "      <th>option_5</th>\n",
       "      <th>option_6</th>\n",
       "    </tr>\n",
       "  </thead>\n",
       "  <tbody>\n",
       "    <tr>\n",
       "      <th>0</th>\n",
       "      <td>1</td>\n",
       "      <td>1</td>\n",
       "      <td>1</td>\n",
       "      <td>1</td>\n",
       "      <td>1</td>\n",
       "      <td>1</td>\n",
       "      <td>1</td>\n",
       "    </tr>\n",
       "    <tr>\n",
       "      <th>1</th>\n",
       "      <td>0</td>\n",
       "      <td>1</td>\n",
       "      <td>1</td>\n",
       "      <td>0</td>\n",
       "      <td>0</td>\n",
       "      <td>0</td>\n",
       "      <td>0</td>\n",
       "    </tr>\n",
       "    <tr>\n",
       "      <th>2</th>\n",
       "      <td>1</td>\n",
       "      <td>1</td>\n",
       "      <td>1</td>\n",
       "      <td>1</td>\n",
       "      <td>1</td>\n",
       "      <td>1</td>\n",
       "      <td>1</td>\n",
       "    </tr>\n",
       "    <tr>\n",
       "      <th>3</th>\n",
       "      <td>0</td>\n",
       "      <td>0</td>\n",
       "      <td>0</td>\n",
       "      <td>1</td>\n",
       "      <td>0</td>\n",
       "      <td>0</td>\n",
       "      <td>0</td>\n",
       "    </tr>\n",
       "    <tr>\n",
       "      <th>4</th>\n",
       "      <td>0</td>\n",
       "      <td>1</td>\n",
       "      <td>1</td>\n",
       "      <td>0</td>\n",
       "      <td>0</td>\n",
       "      <td>0</td>\n",
       "      <td>1</td>\n",
       "    </tr>\n",
       "  </tbody>\n",
       "</table>\n",
       "</div>"
      ],
      "text/plain": [
       "   option_0  option_1  option_2  option_3  option_4  option_5  option_6\n",
       "0         1         1         1         1         1         1         1\n",
       "1         0         1         1         0         0         0         0\n",
       "2         1         1         1         1         1         1         1\n",
       "3         0         0         0         1         0         0         0\n",
       "4         0         1         1         0         0         0         1"
      ]
     },
     "execution_count": 110,
     "metadata": {},
     "output_type": "execute_result"
    }
   ],
   "source": [
    "df[[\"option_0\", \"option_1\", \"option_2\", \"option_3\", \"option_4\", \"option_5\", \"option_6\"]].head(5)"
   ]
  },
  {
   "cell_type": "markdown",
   "metadata": {},
   "source": [
    "### PRICE"
   ]
  },
  {
   "cell_type": "markdown",
   "metadata": {},
   "source": [
    "#### Récuperer le prix neuf des voitures"
   ]
  },
  {
   "cell_type": "code",
   "execution_count": 111,
   "metadata": {},
   "outputs": [],
   "source": [
    "df_prix = pd.read_csv('car_price.csv')"
   ]
  },
  {
   "cell_type": "code",
   "execution_count": 112,
   "metadata": {},
   "outputs": [
    {
     "data": {
      "text/plain": [
       "(12067, 8)"
      ]
     },
     "execution_count": 112,
     "metadata": {},
     "output_type": "execute_result"
    }
   ],
   "source": [
    "df_prix.shape"
   ]
  },
  {
   "cell_type": "code",
   "execution_count": 113,
   "metadata": {},
   "outputs": [
    {
     "data": {
      "text/html": [
       "<div>\n",
       "<style scoped>\n",
       "    .dataframe tbody tr th:only-of-type {\n",
       "        vertical-align: middle;\n",
       "    }\n",
       "\n",
       "    .dataframe tbody tr th {\n",
       "        vertical-align: top;\n",
       "    }\n",
       "\n",
       "    .dataframe thead th {\n",
       "        text-align: right;\n",
       "    }\n",
       "</style>\n",
       "<table border=\"1\" class=\"dataframe\">\n",
       "  <thead>\n",
       "    <tr style=\"text-align: right;\">\n",
       "      <th></th>\n",
       "      <th>marque_modele</th>\n",
       "      <th>version</th>\n",
       "      <th>energie</th>\n",
       "      <th>boite_vitesse</th>\n",
       "      <th>puis_fisc</th>\n",
       "      <th>date</th>\n",
       "      <th>malus</th>\n",
       "      <th>prix</th>\n",
       "    </tr>\n",
       "  </thead>\n",
       "  <tbody>\n",
       "    <tr>\n",
       "      <th>0</th>\n",
       "      <td>Renault Twizy</td>\n",
       "      <td>Electrique 45 BVA Life (2p.)</td>\n",
       "      <td>Électrique</td>\n",
       "      <td>Automatique</td>\n",
       "      <td>1CV</td>\n",
       "      <td>04/2013</td>\n",
       "      <td>n.a.</td>\n",
       "      <td>7540</td>\n",
       "    </tr>\n",
       "    <tr>\n",
       "      <th>1</th>\n",
       "      <td>Dacia Logan</td>\n",
       "      <td>1.0 12V Sce 75 Access (4p.)</td>\n",
       "      <td>Essence</td>\n",
       "      <td>Manuelle</td>\n",
       "      <td>4CV</td>\n",
       "      <td>06/2019</td>\n",
       "      <td>100</td>\n",
       "      <td>8150</td>\n",
       "    </tr>\n",
       "    <tr>\n",
       "      <th>2</th>\n",
       "      <td>Renault Twizy</td>\n",
       "      <td>Electrique 80 BVA Life (2p.)</td>\n",
       "      <td>Électrique</td>\n",
       "      <td>Automatique</td>\n",
       "      <td>2CV</td>\n",
       "      <td>04/2013</td>\n",
       "      <td>n.a.</td>\n",
       "      <td>8240</td>\n",
       "    </tr>\n",
       "    <tr>\n",
       "      <th>3</th>\n",
       "      <td>Dacia Sandero</td>\n",
       "      <td>1.0i SCe 75 Access (5p.)</td>\n",
       "      <td>Essence</td>\n",
       "      <td>Manuelle</td>\n",
       "      <td>4CV</td>\n",
       "      <td>06/2019</td>\n",
       "      <td>100</td>\n",
       "      <td>8290</td>\n",
       "    </tr>\n",
       "    <tr>\n",
       "      <th>4</th>\n",
       "      <td>Renault Twizy</td>\n",
       "      <td>Electrique 45 BVA Intens Blanc (2p.)</td>\n",
       "      <td>Électrique</td>\n",
       "      <td>Automatique</td>\n",
       "      <td>1CV</td>\n",
       "      <td>07/2015</td>\n",
       "      <td>n.a.</td>\n",
       "      <td>8340</td>\n",
       "    </tr>\n",
       "    <tr>\n",
       "      <th>5</th>\n",
       "      <td>Renault Twizy</td>\n",
       "      <td>Electrique 45 BVA Intens Noir (2p.)</td>\n",
       "      <td>Électrique</td>\n",
       "      <td>Automatique</td>\n",
       "      <td>1CV</td>\n",
       "      <td>07/2015</td>\n",
       "      <td>n.a.</td>\n",
       "      <td>8340</td>\n",
       "    </tr>\n",
       "    <tr>\n",
       "      <th>6</th>\n",
       "      <td>DR DR Zero</td>\n",
       "      <td>1.0i 69 Chrome (5p.)</td>\n",
       "      <td>Essence</td>\n",
       "      <td>Manuelle</td>\n",
       "      <td>5CV</td>\n",
       "      <td>03/2016</td>\n",
       "      <td>2205</td>\n",
       "      <td>8900</td>\n",
       "    </tr>\n",
       "    <tr>\n",
       "      <th>7</th>\n",
       "      <td>Renault Twizy</td>\n",
       "      <td>Electrique 80 BVA Intens Blanc (2p.)</td>\n",
       "      <td>Électrique</td>\n",
       "      <td>Automatique</td>\n",
       "      <td>2CV</td>\n",
       "      <td>07/2015</td>\n",
       "      <td>n.a.</td>\n",
       "      <td>9040</td>\n",
       "    </tr>\n",
       "    <tr>\n",
       "      <th>8</th>\n",
       "      <td>Renault Twizy</td>\n",
       "      <td>Electrique 80 BVA Intens Noir (2p.)</td>\n",
       "      <td>Électrique</td>\n",
       "      <td>Automatique</td>\n",
       "      <td>2CV</td>\n",
       "      <td>07/2015</td>\n",
       "      <td>n.a.</td>\n",
       "      <td>9040</td>\n",
       "    </tr>\n",
       "    <tr>\n",
       "      <th>9</th>\n",
       "      <td>Dacia Logan MCV</td>\n",
       "      <td>1.0i SCe 75 Access (Break)</td>\n",
       "      <td>Essence</td>\n",
       "      <td>Manuelle</td>\n",
       "      <td>4CV</td>\n",
       "      <td>06/2019</td>\n",
       "      <td>100</td>\n",
       "      <td>9250</td>\n",
       "    </tr>\n",
       "  </tbody>\n",
       "</table>\n",
       "</div>"
      ],
      "text/plain": [
       "     marque_modele                               version     energie  \\\n",
       "0    Renault Twizy          Electrique 45 BVA Life (2p.)  Électrique   \n",
       "1      Dacia Logan           1.0 12V Sce 75 Access (4p.)     Essence   \n",
       "2    Renault Twizy          Electrique 80 BVA Life (2p.)  Électrique   \n",
       "3    Dacia Sandero              1.0i SCe 75 Access (5p.)     Essence   \n",
       "4    Renault Twizy  Electrique 45 BVA Intens Blanc (2p.)  Électrique   \n",
       "5    Renault Twizy   Electrique 45 BVA Intens Noir (2p.)  Électrique   \n",
       "6       DR DR Zero                  1.0i 69 Chrome (5p.)     Essence   \n",
       "7    Renault Twizy  Electrique 80 BVA Intens Blanc (2p.)  Électrique   \n",
       "8    Renault Twizy   Electrique 80 BVA Intens Noir (2p.)  Électrique   \n",
       "9  Dacia Logan MCV            1.0i SCe 75 Access (Break)     Essence   \n",
       "\n",
       "  boite_vitesse puis_fisc     date malus  prix  \n",
       "0   Automatique       1CV  04/2013  n.a.  7540  \n",
       "1      Manuelle       4CV  06/2019   100  8150  \n",
       "2   Automatique       2CV  04/2013  n.a.  8240  \n",
       "3      Manuelle       4CV  06/2019   100  8290  \n",
       "4   Automatique       1CV  07/2015  n.a.  8340  \n",
       "5   Automatique       1CV  07/2015  n.a.  8340  \n",
       "6      Manuelle       5CV  03/2016  2205  8900  \n",
       "7   Automatique       2CV  07/2015  n.a.  9040  \n",
       "8   Automatique       2CV  07/2015  n.a.  9040  \n",
       "9      Manuelle       4CV  06/2019   100  9250  "
      ]
     },
     "execution_count": 113,
     "metadata": {},
     "output_type": "execute_result"
    }
   ],
   "source": [
    "df_prix.head(10)"
   ]
  },
  {
   "cell_type": "markdown",
   "metadata": {},
   "source": [
    "Création d'une colonne marque / modele"
   ]
  },
  {
   "cell_type": "code",
   "execution_count": 114,
   "metadata": {},
   "outputs": [],
   "source": [
    "df[\"Marque_modele\"] = [x + \" \" + df[\"Model\"].iloc[i] for i, x in enumerate(df[\"Make\"])]"
   ]
  },
  {
   "cell_type": "code",
   "execution_count": 115,
   "metadata": {},
   "outputs": [
    {
     "data": {
      "text/html": [
       "<div>\n",
       "<style scoped>\n",
       "    .dataframe tbody tr th:only-of-type {\n",
       "        vertical-align: middle;\n",
       "    }\n",
       "\n",
       "    .dataframe tbody tr th {\n",
       "        vertical-align: top;\n",
       "    }\n",
       "\n",
       "    .dataframe thead th {\n",
       "        text-align: right;\n",
       "    }\n",
       "</style>\n",
       "<table border=\"1\" class=\"dataframe\">\n",
       "  <thead>\n",
       "    <tr style=\"text-align: right;\">\n",
       "      <th></th>\n",
       "      <th>Make</th>\n",
       "      <th>Model</th>\n",
       "      <th>Marque_modele</th>\n",
       "      <th>Version</th>\n",
       "    </tr>\n",
       "  </thead>\n",
       "  <tbody>\n",
       "    <tr>\n",
       "      <th>0</th>\n",
       "      <td>PEUGEOT</td>\n",
       "      <td>308</td>\n",
       "      <td>PEUGEOT 308</td>\n",
       "      <td>1.6 HDI FAP 92CH BUSINESS 5P</td>\n",
       "    </tr>\n",
       "    <tr>\n",
       "      <th>1</th>\n",
       "      <td>BMW</td>\n",
       "      <td>X6</td>\n",
       "      <td>BMW X6</td>\n",
       "      <td>(F16) XDRIVE30D 258 M SPORT BVA8</td>\n",
       "    </tr>\n",
       "    <tr>\n",
       "      <th>2</th>\n",
       "      <td>AUDI</td>\n",
       "      <td>RS6</td>\n",
       "      <td>AUDI RS6</td>\n",
       "      <td>III AVANT 4.0 TFSI 560 QUATTRO TIPTRONIC</td>\n",
       "    </tr>\n",
       "    <tr>\n",
       "      <th>3</th>\n",
       "      <td>FORD</td>\n",
       "      <td>KA</td>\n",
       "      <td>FORD KA</td>\n",
       "      <td>1.3 70 FUN</td>\n",
       "    </tr>\n",
       "    <tr>\n",
       "      <th>4</th>\n",
       "      <td>FIAT</td>\n",
       "      <td>TIPO</td>\n",
       "      <td>FIAT TIPO</td>\n",
       "      <td>II SW 1.4 95 POP</td>\n",
       "    </tr>\n",
       "  </tbody>\n",
       "</table>\n",
       "</div>"
      ],
      "text/plain": [
       "      Make Model Marque_modele                                   Version\n",
       "0  PEUGEOT   308   PEUGEOT 308              1.6 HDI FAP 92CH BUSINESS 5P\n",
       "1      BMW    X6        BMW X6          (F16) XDRIVE30D 258 M SPORT BVA8\n",
       "2     AUDI   RS6      AUDI RS6  III AVANT 4.0 TFSI 560 QUATTRO TIPTRONIC\n",
       "3     FORD    KA       FORD KA                                1.3 70 FUN\n",
       "4     FIAT  TIPO     FIAT TIPO                          II SW 1.4 95 POP"
      ]
     },
     "execution_count": 115,
     "metadata": {},
     "output_type": "execute_result"
    }
   ],
   "source": [
    "df[[\"Make\", \"Model\", \"Marque_modele\", \"Version\"]].head(5)"
   ]
  },
  {
   "cell_type": "code",
   "execution_count": 116,
   "metadata": {},
   "outputs": [
    {
     "name": "stdout",
     "output_type": "stream",
     "text": [
      "7540\n"
     ]
    }
   ],
   "source": [
    "def match_cars(car, vers):\n",
    "    df_temp = pd.DataFrame(columns = ['marque_modele', 'version', 'energie', 'boite_vitesse', 'puis_fisc', 'date', 'malus', 'prix'])\n",
    "    for i, x in enumerate(df_prix[\"marque_modele\"]):\n",
    "        if str(car) == str(x).upper():\n",
    "            df_temp = df_temp.append(df_prix.iloc[i])\n",
    "    \n",
    "    if len(df_temp > 0):\n",
    "        for i, x in enumerate(df_temp[\"marque_modele\"]):\n",
    "            if fuzz.ratio(vers.upper(), x.upper()) > 20:\n",
    "                return df_temp[\"prix\"].iloc[i]\n",
    "                break\n",
    "                \n",
    "        return df_temp[\"prix\"].median()\n",
    "        \n",
    "    return None\n",
    "\n",
    "print(match_cars(\"RENAULT TWIZY\", \"Electrique 45 BVA Intens Blanc\"))"
   ]
  },
  {
   "cell_type": "code",
   "execution_count": 117,
   "metadata": {},
   "outputs": [],
   "source": [
    "df[\"Prix_neuf\"] = [match_cars(car, df[\"Version\"].iloc[i])\n",
    "                   for i, car in enumerate(df[\"Marque_modele\"])]"
   ]
  },
  {
   "cell_type": "code",
   "execution_count": 118,
   "metadata": {},
   "outputs": [
    {
     "data": {
      "text/plain": [
       "0    21650.0\n",
       "1    85675.0\n",
       "2        NaN\n",
       "3        NaN\n",
       "4    13490.0\n",
       "Name: Prix_neuf, dtype: float64"
      ]
     },
     "execution_count": 118,
     "metadata": {},
     "output_type": "execute_result"
    }
   ],
   "source": [
    "df[\"Prix_neuf\"].head(5)"
   ]
  },
  {
   "cell_type": "code",
   "execution_count": 119,
   "metadata": {},
   "outputs": [
    {
     "name": "stdout",
     "output_type": "stream",
     "text": [
      "45.21444655855604\n"
     ]
    }
   ],
   "source": [
    "print(df[\"Prix_neuf\"].isnull().sum()/df[\"Prix_neuf\"].count()*100)"
   ]
  },
  {
   "cell_type": "code",
   "execution_count": 120,
   "metadata": {},
   "outputs": [
    {
     "data": {
      "text/html": [
       "<div>\n",
       "<style scoped>\n",
       "    .dataframe tbody tr th:only-of-type {\n",
       "        vertical-align: middle;\n",
       "    }\n",
       "\n",
       "    .dataframe tbody tr th {\n",
       "        vertical-align: top;\n",
       "    }\n",
       "\n",
       "    .dataframe thead th {\n",
       "        text-align: right;\n",
       "    }\n",
       "</style>\n",
       "<table border=\"1\" class=\"dataframe\">\n",
       "  <thead>\n",
       "    <tr style=\"text-align: right;\">\n",
       "      <th></th>\n",
       "      <th>Make</th>\n",
       "      <th>Model</th>\n",
       "      <th>Marque_modele</th>\n",
       "      <th>Prix_neuf</th>\n",
       "    </tr>\n",
       "  </thead>\n",
       "  <tbody>\n",
       "    <tr>\n",
       "      <th>0</th>\n",
       "      <td>PEUGEOT</td>\n",
       "      <td>308</td>\n",
       "      <td>PEUGEOT 308</td>\n",
       "      <td>21650.0</td>\n",
       "    </tr>\n",
       "    <tr>\n",
       "      <th>1</th>\n",
       "      <td>BMW</td>\n",
       "      <td>X6</td>\n",
       "      <td>BMW X6</td>\n",
       "      <td>85675.0</td>\n",
       "    </tr>\n",
       "    <tr>\n",
       "      <th>2</th>\n",
       "      <td>AUDI</td>\n",
       "      <td>RS6</td>\n",
       "      <td>AUDI RS6</td>\n",
       "      <td>NaN</td>\n",
       "    </tr>\n",
       "    <tr>\n",
       "      <th>3</th>\n",
       "      <td>FORD</td>\n",
       "      <td>KA</td>\n",
       "      <td>FORD KA</td>\n",
       "      <td>NaN</td>\n",
       "    </tr>\n",
       "    <tr>\n",
       "      <th>4</th>\n",
       "      <td>FIAT</td>\n",
       "      <td>TIPO</td>\n",
       "      <td>FIAT TIPO</td>\n",
       "      <td>13490.0</td>\n",
       "    </tr>\n",
       "    <tr>\n",
       "      <th>5</th>\n",
       "      <td>BMW</td>\n",
       "      <td>X3</td>\n",
       "      <td>BMW X3</td>\n",
       "      <td>59600.0</td>\n",
       "    </tr>\n",
       "    <tr>\n",
       "      <th>6</th>\n",
       "      <td>AUDI</td>\n",
       "      <td>A3</td>\n",
       "      <td>AUDI A3</td>\n",
       "      <td>NaN</td>\n",
       "    </tr>\n",
       "    <tr>\n",
       "      <th>7</th>\n",
       "      <td>RENAULT</td>\n",
       "      <td>MEGANE</td>\n",
       "      <td>RENAULT MEGANE</td>\n",
       "      <td>NaN</td>\n",
       "    </tr>\n",
       "    <tr>\n",
       "      <th>8</th>\n",
       "      <td>FORD</td>\n",
       "      <td>C-MAX</td>\n",
       "      <td>FORD C-MAX</td>\n",
       "      <td>29550.0</td>\n",
       "    </tr>\n",
       "    <tr>\n",
       "      <th>9</th>\n",
       "      <td>MERCEDES</td>\n",
       "      <td>CLASSE C</td>\n",
       "      <td>MERCEDES CLASSE C</td>\n",
       "      <td>39300.0</td>\n",
       "    </tr>\n",
       "  </tbody>\n",
       "</table>\n",
       "</div>"
      ],
      "text/plain": [
       "       Make     Model      Marque_modele  Prix_neuf\n",
       "0   PEUGEOT       308        PEUGEOT 308    21650.0\n",
       "1       BMW        X6             BMW X6    85675.0\n",
       "2      AUDI       RS6           AUDI RS6        NaN\n",
       "3      FORD        KA            FORD KA        NaN\n",
       "4      FIAT      TIPO          FIAT TIPO    13490.0\n",
       "5       BMW        X3             BMW X3    59600.0\n",
       "6      AUDI        A3            AUDI A3        NaN\n",
       "7   RENAULT    MEGANE     RENAULT MEGANE        NaN\n",
       "8      FORD     C-MAX         FORD C-MAX    29550.0\n",
       "9  MERCEDES  CLASSE C  MERCEDES CLASSE C    39300.0"
      ]
     },
     "execution_count": 120,
     "metadata": {},
     "output_type": "execute_result"
    }
   ],
   "source": [
    "df[[\"Make\", \"Model\", \"Marque_modele\", \"Prix_neuf\"]].head(10)"
   ]
  },
  {
   "cell_type": "markdown",
   "metadata": {},
   "source": [
    "#### Ajouter le prix de revente"
   ]
  },
  {
   "cell_type": "code",
   "execution_count": 121,
   "metadata": {},
   "outputs": [],
   "source": [
    "df[\"Price\"] = car_data[\"Price\"]"
   ]
  },
  {
   "cell_type": "code",
   "execution_count": 122,
   "metadata": {},
   "outputs": [
    {
     "data": {
      "text/html": [
       "<div>\n",
       "<style scoped>\n",
       "    .dataframe tbody tr th:only-of-type {\n",
       "        vertical-align: middle;\n",
       "    }\n",
       "\n",
       "    .dataframe tbody tr th {\n",
       "        vertical-align: top;\n",
       "    }\n",
       "\n",
       "    .dataframe thead th {\n",
       "        text-align: right;\n",
       "    }\n",
       "</style>\n",
       "<table border=\"1\" class=\"dataframe\">\n",
       "  <thead>\n",
       "    <tr style=\"text-align: right;\">\n",
       "      <th></th>\n",
       "      <th>Make</th>\n",
       "      <th>Make_v2</th>\n",
       "      <th>Model</th>\n",
       "      <th>Model_Det</th>\n",
       "      <th>Model_year</th>\n",
       "      <th>Online</th>\n",
       "      <th>Age</th>\n",
       "      <th>Mileage</th>\n",
       "      <th>Usure</th>\n",
       "      <th>Fuel</th>\n",
       "      <th>...</th>\n",
       "      <th>option_33</th>\n",
       "      <th>option_34</th>\n",
       "      <th>option_35</th>\n",
       "      <th>option_36</th>\n",
       "      <th>option_37</th>\n",
       "      <th>option_38</th>\n",
       "      <th>option_39</th>\n",
       "      <th>Marque_modele</th>\n",
       "      <th>Prix_neuf</th>\n",
       "      <th>Price</th>\n",
       "    </tr>\n",
       "  </thead>\n",
       "  <tbody>\n",
       "    <tr>\n",
       "      <th>0</th>\n",
       "      <td>PEUGEOT</td>\n",
       "      <td>PEUGEOT</td>\n",
       "      <td>308</td>\n",
       "      <td>308 2</td>\n",
       "      <td>2014</td>\n",
       "      <td>06/07/2018</td>\n",
       "      <td>4</td>\n",
       "      <td>94341</td>\n",
       "      <td>23585</td>\n",
       "      <td>Diesel</td>\n",
       "      <td>...</td>\n",
       "      <td>0</td>\n",
       "      <td>0</td>\n",
       "      <td>0</td>\n",
       "      <td>0</td>\n",
       "      <td>0</td>\n",
       "      <td>0</td>\n",
       "      <td>0</td>\n",
       "      <td>PEUGEOT 308</td>\n",
       "      <td>21650.0</td>\n",
       "      <td>11220.0</td>\n",
       "    </tr>\n",
       "    <tr>\n",
       "      <th>1</th>\n",
       "      <td>BMW</td>\n",
       "      <td>BMW</td>\n",
       "      <td>X6</td>\n",
       "      <td>X6 F16</td>\n",
       "      <td>2015</td>\n",
       "      <td>03/04/2018</td>\n",
       "      <td>3</td>\n",
       "      <td>39051</td>\n",
       "      <td>13017</td>\n",
       "      <td>Diesel</td>\n",
       "      <td>...</td>\n",
       "      <td>1</td>\n",
       "      <td>1</td>\n",
       "      <td>1</td>\n",
       "      <td>0</td>\n",
       "      <td>0</td>\n",
       "      <td>0</td>\n",
       "      <td>0</td>\n",
       "      <td>BMW X6</td>\n",
       "      <td>85675.0</td>\n",
       "      <td>57526.0</td>\n",
       "    </tr>\n",
       "    <tr>\n",
       "      <th>2</th>\n",
       "      <td>AUDI</td>\n",
       "      <td>AUDI</td>\n",
       "      <td>RS6</td>\n",
       "      <td>RS6 3 AVANT</td>\n",
       "      <td>2014</td>\n",
       "      <td>30/07/2018</td>\n",
       "      <td>4</td>\n",
       "      <td>75381</td>\n",
       "      <td>18845</td>\n",
       "      <td>Essence</td>\n",
       "      <td>...</td>\n",
       "      <td>1</td>\n",
       "      <td>1</td>\n",
       "      <td>1</td>\n",
       "      <td>1</td>\n",
       "      <td>1</td>\n",
       "      <td>1</td>\n",
       "      <td>1</td>\n",
       "      <td>AUDI RS6</td>\n",
       "      <td>NaN</td>\n",
       "      <td>80379.0</td>\n",
       "    </tr>\n",
       "    <tr>\n",
       "      <th>3</th>\n",
       "      <td>FORD</td>\n",
       "      <td>FORD</td>\n",
       "      <td>KA</td>\n",
       "      <td>KA</td>\n",
       "      <td>2007</td>\n",
       "      <td>09/07/2018</td>\n",
       "      <td>11</td>\n",
       "      <td>92282</td>\n",
       "      <td>8389</td>\n",
       "      <td>Essence</td>\n",
       "      <td>...</td>\n",
       "      <td>1</td>\n",
       "      <td>0</td>\n",
       "      <td>0</td>\n",
       "      <td>0</td>\n",
       "      <td>0</td>\n",
       "      <td>0</td>\n",
       "      <td>0</td>\n",
       "      <td>FORD KA</td>\n",
       "      <td>NaN</td>\n",
       "      <td>2830.0</td>\n",
       "    </tr>\n",
       "    <tr>\n",
       "      <th>4</th>\n",
       "      <td>FIAT</td>\n",
       "      <td>FIAT</td>\n",
       "      <td>TIPO</td>\n",
       "      <td>TIPO 2 SW</td>\n",
       "      <td>2018</td>\n",
       "      <td>19/05/2018</td>\n",
       "      <td>0</td>\n",
       "      <td>10</td>\n",
       "      <td>10</td>\n",
       "      <td>Essence</td>\n",
       "      <td>...</td>\n",
       "      <td>0</td>\n",
       "      <td>0</td>\n",
       "      <td>1</td>\n",
       "      <td>0</td>\n",
       "      <td>0</td>\n",
       "      <td>0</td>\n",
       "      <td>1</td>\n",
       "      <td>FIAT TIPO</td>\n",
       "      <td>13490.0</td>\n",
       "      <td>12925.0</td>\n",
       "    </tr>\n",
       "  </tbody>\n",
       "</table>\n",
       "<p>5 rows × 69 columns</p>\n",
       "</div>"
      ],
      "text/plain": [
       "      Make  Make_v2 Model    Model_Det  Model_year      Online  Age  Mileage  \\\n",
       "0  PEUGEOT  PEUGEOT   308        308 2        2014  06/07/2018    4    94341   \n",
       "1      BMW      BMW    X6       X6 F16        2015  03/04/2018    3    39051   \n",
       "2     AUDI     AUDI   RS6  RS6 3 AVANT        2014  30/07/2018    4    75381   \n",
       "3     FORD     FORD    KA           KA        2007  09/07/2018   11    92282   \n",
       "4     FIAT     FIAT  TIPO    TIPO 2 SW        2018  19/05/2018    0       10   \n",
       "\n",
       "   Usure     Fuel   ...     option_33  option_34  option_35 option_36  \\\n",
       "0  23585   Diesel   ...             0          0          0         0   \n",
       "1  13017   Diesel   ...             1          1          1         0   \n",
       "2  18845  Essence   ...             1          1          1         1   \n",
       "3   8389  Essence   ...             1          0          0         0   \n",
       "4     10  Essence   ...             0          0          1         0   \n",
       "\n",
       "   option_37  option_38 option_39  Marque_modele Prix_neuf    Price  \n",
       "0          0          0         0    PEUGEOT 308   21650.0  11220.0  \n",
       "1          0          0         0         BMW X6   85675.0  57526.0  \n",
       "2          1          1         1       AUDI RS6       NaN  80379.0  \n",
       "3          0          0         0        FORD KA       NaN   2830.0  \n",
       "4          0          0         1      FIAT TIPO   13490.0  12925.0  \n",
       "\n",
       "[5 rows x 69 columns]"
      ]
     },
     "execution_count": 122,
     "metadata": {},
     "output_type": "execute_result"
    }
   ],
   "source": [
    "df.head()"
   ]
  },
  {
   "cell_type": "markdown",
   "metadata": {},
   "source": [
    "On supprime la colonne Marque / Modele"
   ]
  },
  {
   "cell_type": "code",
   "execution_count": 123,
   "metadata": {},
   "outputs": [],
   "source": [
    "df = df.drop(labels=[\"Marque_modele\"], axis=1)"
   ]
  },
  {
   "cell_type": "markdown",
   "metadata": {},
   "source": [
    "### Transformation en csv"
   ]
  },
  {
   "cell_type": "code",
   "execution_count": 124,
   "metadata": {},
   "outputs": [
    {
     "data": {
      "text/plain": [
       "(166378, 68)"
      ]
     },
     "execution_count": 124,
     "metadata": {},
     "output_type": "execute_result"
    }
   ],
   "source": [
    "df.shape"
   ]
  },
  {
   "cell_type": "code",
   "execution_count": 125,
   "metadata": {},
   "outputs": [],
   "source": [
    "df.to_csv(r'final2.csv', index = False)"
   ]
  }
 ],
 "metadata": {
  "kernelspec": {
   "display_name": "Python 3",
   "language": "python",
   "name": "python3"
  },
  "language_info": {
   "codemirror_mode": {
    "name": "ipython",
    "version": 3
   },
   "file_extension": ".py",
   "mimetype": "text/x-python",
   "name": "python",
   "nbconvert_exporter": "python",
   "pygments_lexer": "ipython3",
   "version": "3.7.1"
  }
 },
 "nbformat": 4,
 "nbformat_minor": 2
}
