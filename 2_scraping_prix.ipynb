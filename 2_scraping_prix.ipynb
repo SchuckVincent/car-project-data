{
 "cells": [
  {
   "cell_type": "code",
   "execution_count": 1,
   "metadata": {},
   "outputs": [
    {
     "name": "stderr",
     "output_type": "stream",
     "text": [
      "/anaconda3/lib/python3.7/site-packages/requests/__init__.py:91: RequestsDependencyWarning: urllib3 (1.25.9) or chardet (3.0.4) doesn't match a supported version!\n",
      "  RequestsDependencyWarning)\n"
     ]
    }
   ],
   "source": [
    "import pandas as pd\n",
    "import numpy as np\n",
    "\n",
    "from requests_html import HTMLSession\n",
    "import random\n",
    "from time import sleep"
   ]
  },
  {
   "cell_type": "code",
   "execution_count": 2,
   "metadata": {},
   "outputs": [],
   "source": [
    "session = HTMLSession()"
   ]
  },
  {
   "cell_type": "code",
   "execution_count": 3,
   "metadata": {},
   "outputs": [],
   "source": [
    "def scrap_page(page_number):\n",
    "    df = pd.DataFrame(columns = ['marque_modele', 'version', 'energie', 'boite_vitesse', 'puis_fisc', 'date', 'malus', 'prix'])\n",
    "    s = session.get(url='https://www.autoplus.fr/prix-neuf/?page=%i#advanced-filters'%page_number)\n",
    "    for i in range(1, 32):\n",
    "        elements_list = s.html.xpath('//*[@id=\"content\"]/div[6]/table/tbody/tr[%i]'%i)[0].text.split('\\n')\n",
    "        elements_list = [elem.replace(u'\\xa0', '').replace('€', '') for elem in elements_list]\n",
    "        \n",
    "        try:\n",
    "            df.loc[i] = elements_list\n",
    "            \n",
    "        except ValueError:\n",
    "            pass\n",
    "            \n",
    "    return df\n",
    "\n",
    "def scrap_pages(number_pages):\n",
    "    df_final = pd.DataFrame()\n",
    "    \n",
    "    for i in range(1, number_pages):\n",
    "        sleep(random.randint(1, 10))\n",
    "        \n",
    "        df_ = scrap_page(i)\n",
    "        \n",
    "        df_final = pd.concat([df_final, df_])\n",
    "        \n",
    "    return df_final"
   ]
  },
  {
   "cell_type": "code",
   "execution_count": 4,
   "metadata": {},
   "outputs": [],
   "source": [
    "df_prix = scrap_pages(475)"
   ]
  },
  {
   "cell_type": "code",
   "execution_count": 5,
   "metadata": {},
   "outputs": [
    {
     "data": {
      "text/plain": [
       "(12067, 8)"
      ]
     },
     "execution_count": 5,
     "metadata": {},
     "output_type": "execute_result"
    }
   ],
   "source": [
    "df_prix.shape"
   ]
  },
  {
   "cell_type": "code",
   "execution_count": 6,
   "metadata": {},
   "outputs": [],
   "source": [
    "df_prix.to_csv(r'car_price.csv', index = False)"
   ]
  },
  {
   "cell_type": "code",
   "execution_count": null,
   "metadata": {},
   "outputs": [],
   "source": []
  }
 ],
 "metadata": {
  "kernelspec": {
   "display_name": "Python 3",
   "language": "python",
   "name": "python3"
  },
  "language_info": {
   "codemirror_mode": {
    "name": "ipython",
    "version": 3
   },
   "file_extension": ".py",
   "mimetype": "text/x-python",
   "name": "python",
   "nbconvert_exporter": "python",
   "pygments_lexer": "ipython3",
   "version": "3.7.1"
  }
 },
 "nbformat": 4,
 "nbformat_minor": 2
}
